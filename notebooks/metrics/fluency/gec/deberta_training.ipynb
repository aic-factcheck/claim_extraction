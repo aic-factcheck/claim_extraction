{
 "cells": [
  {
   "cell_type": "markdown",
   "metadata": {},
   "source": [
    "# Deberta"
   ]
  },
  {
   "cell_type": "code",
   "execution_count": 15,
   "metadata": {},
   "outputs": [],
   "source": [
    "from transformers import AutoTokenizer, AutoModelForSequenceClassification, DataCollatorWithPadding, TrainingArguments, Trainer\n",
    "from datasets import load_from_disk\n",
    "import sklearn.metrics as metrics"
   ]
  },
  {
   "cell_type": "code",
   "execution_count": 2,
   "metadata": {},
   "outputs": [
    {
     "name": "stderr",
     "output_type": "stream",
     "text": [
      "/home/mlynatom/venvs/py3.10.4/lib/python3.10/site-packages/transformers/convert_slow_tokenizer.py:473: UserWarning: The sentencepiece tokenizer that you are converting to a fast tokenizer uses the byte fallback option which is not implemented in the fast tokenizers. In practice this means that the fast version of the tokenizer can produce unknown tokens whereas the sentencepiece version would have converted these unknown tokens into a sequence of byte tokens matching the original piece of text.\n",
      "  warnings.warn(\n",
      "Some weights of DebertaV2ForSequenceClassification were not initialized from the model checkpoint at microsoft/deberta-v3-large and are newly initialized: ['pooler.dense.bias', 'classifier.bias', 'pooler.dense.weight', 'classifier.weight']\n",
      "You should probably TRAIN this model on a down-stream task to be able to use it for predictions and inference.\n"
     ]
    }
   ],
   "source": [
    "model_id = \"microsoft/deberta-v3-large\"\n",
    "tokenizer = AutoTokenizer.from_pretrained(model_id)\n",
    "model = AutoModelForSequenceClassification.from_pretrained(model_id, num_labels=4)"
   ]
  },
  {
   "cell_type": "code",
   "execution_count": 3,
   "metadata": {},
   "outputs": [
    {
     "data": {
      "text/plain": [
       "{'Id': 1,\n",
       " 'sentence': 'If the teacher once entered in to the class she should be well preaperd of what she is going to explain.',\n",
       " 'label': 'Comprehensible'}"
      ]
     },
     "execution_count": 3,
     "metadata": {},
     "output_type": "execute_result"
    }
   ],
   "source": [
    "datasets = load_from_disk(\"/home/mlynatom/data/gug/gug_hf\")\n",
    "datasets[\"train\"][0]"
   ]
  },
  {
   "cell_type": "code",
   "execution_count": 5,
   "metadata": {},
   "outputs": [
    {
     "data": {
      "application/vnd.jupyter.widget-view+json": {
       "model_id": "639bea805e9b4746a27e05f05cc395f0",
       "version_major": 2,
       "version_minor": 0
      },
      "text/plain": [
       "Map:   0%|          | 0/1518 [00:00<?, ? examples/s]"
      ]
     },
     "metadata": {},
     "output_type": "display_data"
    },
    {
     "data": {
      "application/vnd.jupyter.widget-view+json": {
       "model_id": "5e6a8a56427b4bc2ad62f5529e530495",
       "version_major": 2,
       "version_minor": 0
      },
      "text/plain": [
       "Map:   0%|          | 0/747 [00:00<?, ? examples/s]"
      ]
     },
     "metadata": {},
     "output_type": "display_data"
    },
    {
     "data": {
      "application/vnd.jupyter.widget-view+json": {
       "model_id": "ae671018544c435fb615dcd95fa8c145",
       "version_major": 2,
       "version_minor": 0
      },
      "text/plain": [
       "Map:   0%|          | 0/754 [00:00<?, ? examples/s]"
      ]
     },
     "metadata": {},
     "output_type": "display_data"
    },
    {
     "data": {
      "text/plain": [
       "{'Id': 1,\n",
       " 'sentence': 'If the teacher once entered in to the class she should be well preaperd of what she is going to explain.',\n",
       " 'label': 2}"
      ]
     },
     "execution_count": 5,
     "metadata": {},
     "output_type": "execute_result"
    }
   ],
   "source": [
    "rename_dict = {\n",
    "    \"Incomprehensible\": 0,\n",
    "    \"Somewhat Comprehensible\": 1,\n",
    "    \"Comprehensible\": 2,\n",
    "    \"Perfect\": 3,\n",
    "}\n",
    "\n",
    "def map_labels(sample):\n",
    "    label = sample[\"label\"]\n",
    "    sample[\"label\"] = rename_dict[label]\n",
    "    return sample\n",
    "\n",
    "datasets = datasets.map(map_labels)\n",
    "datasets[\"train\"][0]"
   ]
  },
  {
   "cell_type": "code",
   "execution_count": 8,
   "metadata": {},
   "outputs": [
    {
     "data": {
      "application/vnd.jupyter.widget-view+json": {
       "model_id": "583381cabe774ee1813bd8177711b6f1",
       "version_major": 2,
       "version_minor": 0
      },
      "text/plain": [
       "Map:   0%|          | 0/1518 [00:00<?, ? examples/s]"
      ]
     },
     "metadata": {},
     "output_type": "display_data"
    }
   ],
   "source": [
    "def tokenize_function(example):\n",
    "    return tokenizer(example[\"sentence\"], truncation=True)\n",
    "\n",
    "tokenized_datasets = datasets.map(tokenize_function, batched=True)\n",
    "data_collator = DataCollatorWithPadding(tokenizer=tokenizer, pad_to_multiple_of=8)"
   ]
  },
  {
   "cell_type": "code",
   "execution_count": 17,
   "metadata": {},
   "outputs": [],
   "source": [
    "def compute_metrics(pred):\n",
    "    labels = pred.label_ids\n",
    "    preds = pred.predictions.argmax(axis=1)\n",
    "    accuracy = metrics.accuracy_score(labels, preds)\n",
    "    f1 = metrics.f1_score(labels, preds, average=\"weighted\")\n",
    "    return {\n",
    "        \"accuracy\": accuracy,\n",
    "        \"f1\": f1\n",
    "        }"
   ]
  },
  {
   "cell_type": "code",
   "execution_count": 12,
   "metadata": {},
   "outputs": [],
   "source": [
    "learning_rate = 5e-5\n",
    "batch_size = 9\n",
    "num_epochs = 5\n",
    "warmup_ratio = 0.1"
   ]
  },
  {
   "cell_type": "code",
   "execution_count": 13,
   "metadata": {},
   "outputs": [
    {
     "name": "stdout",
     "output_type": "stream",
     "text": [
      "env: WANDB_PROJECT=deberta_fluency\n"
     ]
    }
   ],
   "source": [
    "%env WANDB_PROJECT=deberta_fluency"
   ]
  },
  {
   "cell_type": "code",
   "execution_count": 14,
   "metadata": {},
   "outputs": [],
   "source": [
    "training_args = TrainingArguments(\n",
    "    output_dir=\"models/deberta_gug\",\n",
    "    learning_rate=learning_rate,\n",
    "    per_device_train_batch_size=batch_size,\n",
    "    per_device_eval_batch_size=batch_size,\n",
    "    num_train_epochs=num_epochs,\n",
    "    weight_decay=0.03,\n",
    "    evaluation_strategy=\"steps\",\n",
    "    save_strategy=\"steps\",\n",
    "    eval_steps=100,\n",
    "    save_steps=100,\n",
    "    load_best_model_at_end=True,\n",
    "    fp16=False,\n",
    "    report_to=[\"wandb\"],\n",
    "    warmup_ratio=warmup_ratio,\n",
    "    metric_for_best_model=\"accuracy\",\n",
    "    overwrite_output_dir=True\n",
    ")"
   ]
  },
  {
   "cell_type": "code",
   "execution_count": 18,
   "metadata": {},
   "outputs": [
    {
     "data": {
      "text/html": [
       "\n",
       "    <div>\n",
       "      \n",
       "      <progress value='845' max='845' style='width:300px; height:20px; vertical-align: middle;'></progress>\n",
       "      [845/845 05:12, Epoch 5/5]\n",
       "    </div>\n",
       "    <table border=\"1\" class=\"dataframe\">\n",
       "  <thead>\n",
       " <tr style=\"text-align: left;\">\n",
       "      <th>Step</th>\n",
       "      <th>Training Loss</th>\n",
       "      <th>Validation Loss</th>\n",
       "      <th>Accuracy</th>\n",
       "      <th>F1</th>\n",
       "    </tr>\n",
       "  </thead>\n",
       "  <tbody>\n",
       "    <tr>\n",
       "      <td>100</td>\n",
       "      <td>No log</td>\n",
       "      <td>0.914641</td>\n",
       "      <td>0.654618</td>\n",
       "      <td>0.596194</td>\n",
       "    </tr>\n",
       "    <tr>\n",
       "      <td>200</td>\n",
       "      <td>No log</td>\n",
       "      <td>0.858059</td>\n",
       "      <td>0.720214</td>\n",
       "      <td>0.701483</td>\n",
       "    </tr>\n",
       "    <tr>\n",
       "      <td>300</td>\n",
       "      <td>No log</td>\n",
       "      <td>0.997004</td>\n",
       "      <td>0.593039</td>\n",
       "      <td>0.567279</td>\n",
       "    </tr>\n",
       "    <tr>\n",
       "      <td>400</td>\n",
       "      <td>No log</td>\n",
       "      <td>1.022137</td>\n",
       "      <td>0.698795</td>\n",
       "      <td>0.669794</td>\n",
       "    </tr>\n",
       "    <tr>\n",
       "      <td>500</td>\n",
       "      <td>0.589300</td>\n",
       "      <td>0.935092</td>\n",
       "      <td>0.720214</td>\n",
       "      <td>0.705735</td>\n",
       "    </tr>\n",
       "    <tr>\n",
       "      <td>600</td>\n",
       "      <td>0.589300</td>\n",
       "      <td>1.319575</td>\n",
       "      <td>0.697456</td>\n",
       "      <td>0.681754</td>\n",
       "    </tr>\n",
       "    <tr>\n",
       "      <td>700</td>\n",
       "      <td>0.589300</td>\n",
       "      <td>1.506701</td>\n",
       "      <td>0.717537</td>\n",
       "      <td>0.690316</td>\n",
       "    </tr>\n",
       "    <tr>\n",
       "      <td>800</td>\n",
       "      <td>0.589300</td>\n",
       "      <td>1.482288</td>\n",
       "      <td>0.720214</td>\n",
       "      <td>0.704843</td>\n",
       "    </tr>\n",
       "  </tbody>\n",
       "</table><p>"
      ],
      "text/plain": [
       "<IPython.core.display.HTML object>"
      ]
     },
     "metadata": {},
     "output_type": "display_data"
    },
    {
     "ename": "NameError",
     "evalue": "name 'wandb' is not defined",
     "output_type": "error",
     "traceback": [
      "\u001b[0;31m---------------------------------------------------------------------------\u001b[0m",
      "\u001b[0;31mNameError\u001b[0m                                 Traceback (most recent call last)",
      "\u001b[1;32m/home/mlynatom/experimental-mlynatom/claim_generation/fluency_GEC/deberta_training.ipynb Cell 11\u001b[0m line \u001b[0;36m1\n\u001b[1;32m      <a href='vscode-notebook-cell://ssh-remote%2Blogin3.rci.cvut.cz/home/mlynatom/experimental-mlynatom/claim_generation/fluency_GEC/deberta_training.ipynb#X14sdnNjb2RlLXJlbW90ZQ%3D%3D?line=0'>1</a>\u001b[0m trainer \u001b[39m=\u001b[39m Trainer(\n\u001b[1;32m      <a href='vscode-notebook-cell://ssh-remote%2Blogin3.rci.cvut.cz/home/mlynatom/experimental-mlynatom/claim_generation/fluency_GEC/deberta_training.ipynb#X14sdnNjb2RlLXJlbW90ZQ%3D%3D?line=1'>2</a>\u001b[0m     model\u001b[39m=\u001b[39mmodel,\n\u001b[1;32m      <a href='vscode-notebook-cell://ssh-remote%2Blogin3.rci.cvut.cz/home/mlynatom/experimental-mlynatom/claim_generation/fluency_GEC/deberta_training.ipynb#X14sdnNjb2RlLXJlbW90ZQ%3D%3D?line=2'>3</a>\u001b[0m     args\u001b[39m=\u001b[39mtraining_args,\n\u001b[0;32m   (...)\u001b[0m\n\u001b[1;32m      <a href='vscode-notebook-cell://ssh-remote%2Blogin3.rci.cvut.cz/home/mlynatom/experimental-mlynatom/claim_generation/fluency_GEC/deberta_training.ipynb#X14sdnNjb2RlLXJlbW90ZQ%3D%3D?line=7'>8</a>\u001b[0m     compute_metrics\u001b[39m=\u001b[39mcompute_metrics,\n\u001b[1;32m      <a href='vscode-notebook-cell://ssh-remote%2Blogin3.rci.cvut.cz/home/mlynatom/experimental-mlynatom/claim_generation/fluency_GEC/deberta_training.ipynb#X14sdnNjb2RlLXJlbW90ZQ%3D%3D?line=8'>9</a>\u001b[0m )\n\u001b[1;32m     <a href='vscode-notebook-cell://ssh-remote%2Blogin3.rci.cvut.cz/home/mlynatom/experimental-mlynatom/claim_generation/fluency_GEC/deberta_training.ipynb#X14sdnNjb2RlLXJlbW90ZQ%3D%3D?line=10'>11</a>\u001b[0m trainer\u001b[39m.\u001b[39mtrain()\n\u001b[0;32m---> <a href='vscode-notebook-cell://ssh-remote%2Blogin3.rci.cvut.cz/home/mlynatom/experimental-mlynatom/claim_generation/fluency_GEC/deberta_training.ipynb#X14sdnNjb2RlLXJlbW90ZQ%3D%3D?line=11'>12</a>\u001b[0m wandb\u001b[39m.\u001b[39mfinish()\n",
      "\u001b[0;31mNameError\u001b[0m: name 'wandb' is not defined"
     ]
    }
   ],
   "source": [
    "trainer = Trainer(\n",
    "    model=model,\n",
    "    args=training_args,\n",
    "    train_dataset=tokenized_datasets[\"train\"],\n",
    "    eval_dataset=tokenized_datasets[\"validation\"],\n",
    "    tokenizer=tokenizer,\n",
    "    data_collator=data_collator,\n",
    "    compute_metrics=compute_metrics,\n",
    ")\n",
    "\n",
    "trainer.train()"
   ]
  },
  {
   "cell_type": "code",
   "execution_count": 19,
   "metadata": {},
   "outputs": [
    {
     "data": {
      "text/html": [],
      "text/plain": [
       "<IPython.core.display.HTML object>"
      ]
     },
     "metadata": {},
     "output_type": "display_data"
    },
    {
     "data": {
      "text/plain": [
       "PredictionOutput(predictions=array([[-3.135937  , -1.3244065 ,  2.5553534 ,  1.1783088 ],\n",
       "       [-0.24588235,  2.886966  ,  0.3460716 , -3.1959226 ],\n",
       "       [-2.2057528 ,  0.9438204 ,  2.5106316 , -1.953611  ],\n",
       "       ...,\n",
       "       [-4.269916  , -2.211344  ,  2.3848379 ,  3.6043663 ],\n",
       "       [-1.9142662 ,  1.498152  ,  2.3716965 , -2.7523026 ],\n",
       "       [-2.167883  ,  0.7436087 ,  2.6391587 , -1.4938335 ]],\n",
       "      dtype=float32), label_ids=array([1, 0, 2, 3, 1, 3, 1, 2, 3, 2, 2, 2, 2, 3, 2, 2, 2, 1, 1, 1, 0, 2,\n",
       "       3, 1, 3, 3, 1, 2, 3, 2, 2, 2, 2, 1, 2, 1, 3, 1, 3, 3, 2, 3, 0, 3,\n",
       "       2, 1, 1, 2, 1, 1, 2, 2, 1, 1, 3, 2, 1, 3, 2, 2, 2, 3, 2, 2, 2, 1,\n",
       "       1, 1, 2, 1, 2, 2, 2, 3, 2, 2, 2, 2, 2, 3, 3, 3, 2, 2, 2, 2, 2, 2,\n",
       "       2, 2, 1, 2, 1, 2, 2, 2, 2, 2, 1, 3, 2, 1, 2, 2, 3, 3, 3, 1, 2, 1,\n",
       "       3, 2, 3, 3, 2, 3, 2, 2, 2, 2, 3, 2, 1, 0, 2, 3, 2, 2, 3, 3, 2, 2,\n",
       "       2, 1, 2, 2, 2, 3, 1, 1, 2, 2, 1, 2, 2, 3, 2, 3, 3, 2, 1, 1, 3, 0,\n",
       "       1, 2, 1, 2, 2, 3, 3, 2, 3, 3, 2, 1, 2, 1, 2, 1, 3, 3, 3, 3, 3, 3,\n",
       "       2, 3, 2, 1, 3, 2, 3, 2, 2, 3, 3, 3, 2, 2, 2, 2, 2, 2, 1, 3, 2, 2,\n",
       "       1, 3, 3, 2, 2, 1, 1, 3, 3, 1, 1, 2, 3, 1, 3, 3, 2, 3, 3, 2, 2, 3,\n",
       "       2, 3, 2, 3, 3, 3, 2, 2, 2, 2, 1, 0, 2, 3, 1, 2, 2, 1, 3, 2, 2, 3,\n",
       "       3, 3, 1, 1, 2, 2, 3, 2, 1, 2, 2, 3, 1, 3, 2, 2, 1, 2, 3, 3, 2, 1,\n",
       "       2, 2, 1, 2, 3, 2, 3, 3, 1, 3, 1, 3, 1, 2, 3, 1, 3, 2, 1, 2, 3, 2,\n",
       "       3, 2, 1, 1, 2, 1, 1, 2, 2, 1, 1, 2, 3, 1, 1, 2, 2, 1, 1, 3, 1, 2,\n",
       "       2, 2, 3, 1, 2, 3, 2, 1, 3, 2, 2, 3, 2, 3, 3, 3, 3, 3, 2, 3, 3, 3,\n",
       "       3, 2, 2, 2, 1, 2, 3, 3, 2, 2, 2, 3, 2, 3, 3, 2, 2, 2, 3, 0, 3, 2,\n",
       "       2, 1, 3, 3, 2, 2, 2, 3, 3, 3, 2, 2, 1, 3, 3, 2, 2, 2, 0, 1, 1, 2,\n",
       "       2, 2, 2, 1, 2, 3, 3, 2, 2, 2, 2, 3, 2, 2, 1, 0, 2, 3, 1, 2, 3, 2,\n",
       "       2, 2, 3, 3, 2, 1, 3, 3, 2, 2, 3, 2, 3, 1, 3, 2, 2, 2, 2, 2, 3, 1,\n",
       "       3, 2, 2, 2, 1, 1, 2, 3, 3, 3, 3, 2, 3, 2, 2, 1, 1, 2, 3, 3, 2, 1,\n",
       "       1, 1, 3, 3, 1, 1, 2, 2, 3, 2, 2, 3, 0, 2, 3, 2, 2, 2, 3, 3, 3, 2,\n",
       "       1, 2, 3, 2, 3, 2, 2, 3, 3, 2, 2, 3, 2, 2, 2, 2, 1, 1, 2, 2, 2, 1,\n",
       "       3, 3, 3, 2, 2, 2, 3, 2, 2, 1, 2, 3, 3, 3, 2, 1, 2, 2, 3, 3, 2, 1,\n",
       "       3, 3, 2, 1, 3, 2, 3, 2, 3, 2, 1, 2, 3, 2, 2, 2, 2, 3, 2, 3, 1, 2,\n",
       "       3, 2, 2, 2, 3, 2, 1, 2, 2, 2, 3, 2, 2, 2, 1, 3, 0, 2, 1, 2, 1, 3,\n",
       "       3, 2, 3, 1, 1, 3, 1, 3, 1, 3, 2, 0, 2, 2, 2, 2, 3, 1, 1, 2, 0, 2,\n",
       "       3, 2, 3, 2, 2, 2, 3, 2, 3, 2, 1, 2, 3, 2, 3, 3, 2, 2, 3, 3, 2, 2,\n",
       "       3, 1, 3, 3, 2, 3, 2, 2, 2, 3, 2, 2, 3, 3, 3, 2, 2, 2, 0, 3, 2, 3,\n",
       "       2, 3, 2, 3, 3, 2, 3, 2, 3, 2, 1, 3, 2, 2, 3, 1, 3, 2, 2, 2, 1, 3,\n",
       "       2, 1, 2, 3, 2, 3, 2, 2, 3, 3, 2, 2, 2, 0, 2, 1, 3, 1, 3, 2, 3, 3,\n",
       "       3, 3, 3, 2, 2, 1, 1, 2, 2, 2, 2, 2, 2, 2, 2, 3, 2, 2, 2, 3, 1, 3,\n",
       "       1, 3, 2, 2, 3, 3, 3, 3, 2, 2, 2, 2, 2, 2, 2, 3, 1, 2, 2, 2, 2, 2,\n",
       "       2, 2, 3, 2, 1, 1, 3, 3, 2, 0, 2, 2, 3, 2, 2, 2, 2, 3, 3, 2, 2, 2,\n",
       "       2, 2, 1, 1, 2, 2, 2, 2, 3, 3, 3, 1, 3, 2, 3, 2, 3, 1, 2, 3, 2, 1,\n",
       "       1, 2, 3, 2, 2, 2]), metrics={'test_loss': 0.9153779745101929, 'test_accuracy': 0.6671087533156499, 'test_f1': 0.6403661302784488, 'test_runtime': 3.6502, 'test_samples_per_second': 206.565, 'test_steps_per_second': 23.013})"
      ]
     },
     "execution_count": 19,
     "metadata": {},
     "output_type": "execute_result"
    }
   ],
   "source": [
    "trainer.predict(test_dataset=tokenized_datasets[\"test\"])"
   ]
  }
 ],
 "metadata": {
  "kernelspec": {
   "display_name": "Python 3 (ipykernel)",
   "language": "python",
   "name": "python3"
  },
  "language_info": {
   "codemirror_mode": {
    "name": "ipython",
    "version": 3
   },
   "file_extension": ".py",
   "mimetype": "text/x-python",
   "name": "python",
   "nbconvert_exporter": "python",
   "pygments_lexer": "ipython3",
   "version": "3.10.4"
  }
 },
 "nbformat": 4,
 "nbformat_minor": 2
}
