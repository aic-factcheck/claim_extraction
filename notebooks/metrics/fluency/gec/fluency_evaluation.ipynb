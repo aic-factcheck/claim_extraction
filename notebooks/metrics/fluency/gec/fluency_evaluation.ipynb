{
 "cells": [
  {
   "cell_type": "markdown",
   "metadata": {},
   "source": [
    "# Fluency Evaluation"
   ]
  },
  {
   "cell_type": "code",
   "execution_count": 1,
   "metadata": {},
   "outputs": [],
   "source": [
    "def load_file(path):\n",
    "    file = open(path, \"r\")\n",
    "    sentences = file.readlines()\n",
    "    sentences = [sentence.strip() for sentence in sentences]\n",
    "    file.close()\n",
    "    return sentences\n",
    "    "
   ]
  },
  {
   "cell_type": "markdown",
   "metadata": {},
   "source": [
    "## 1. Fix the Grammar Using GEC Model (CoEdIT)"
   ]
  },
  {
   "cell_type": "code",
   "execution_count": 2,
   "metadata": {},
   "outputs": [],
   "source": [
    "from transformers import pipeline"
   ]
  },
  {
   "cell_type": "code",
   "execution_count": null,
   "metadata": {},
   "outputs": [],
   "source": [
    "#load pipeline\n",
    "#coedit = pipeline(\"text2text-generation\", model=\"grammarly/coedit-large\", tokenizer=\"grammarly/coedit-large\", framework=\"pt\", device=0, batch_size = 1024)\n",
    "\n",
    "#coedit = pipeline(\"text2text-generation\", model=\"grammarly/coedit-xl\", tokenizer=\"grammarly/coedit-xl\", framework=\"pt\", device=0, batch_size = 1024)"
   ]
  },
  {
   "cell_type": "code",
   "execution_count": null,
   "metadata": {},
   "outputs": [],
   "source": [
    "sentences = [\"He use an one good cars.\", \"When I grow up, I start to understand what he said is quite right.\",\n",
    "             \"They follow the way the Sun goes from the east to the west.\", \"I sat in the talk\", \"Did he wrote a letter?\",\n",
    "             \"I like the ice cream.\", \"I like play basketball\", \"I have not the book\", \"We met they talked and left\",\n",
    "             \"He use a car.\", \"He uses a good car.\", \"Did he write a letter?\"]"
   ]
  },
  {
   "cell_type": "code",
   "execution_count": 10,
   "metadata": {},
   "outputs": [
    {
     "name": "stdout",
     "output_type": "stream",
     "text": [
      "['Unite said it would \"use all its might\" while the GMB said the outlook, confirmed at a meeting, was a \"real kick in the teeth\". Unless new business comes in, the south Wales site could be left in a worse case scenario with only 600 workers by 2021. The prime minister said a \"dialogue\" would continue with Ford about help. On Wednesday, Ford shared its five-year outlook with unions in the', 'By Andy VerityBBC economics correspondent Barclays agreed to pay Qatari investors £42m for advisory services in June 2008 after they demanded more than double the fees paid to other investors. The prosecution alleges the agreement was a mechanism to pay the additional fees rather than a genuine agreement. Roger Jenkins, Tom Kalaris and Richard Boath, on trial, deny wrongdoing. The former Barclays', 'By Joe LangstaffeBBC Wales News Vale of Glamorgan councillor, Leighton Rowlands, was accused of improper conduct for opening a Barry wine bar last year without planning permission. Mr Rowlands is standing for election in Cardiff South and Penarth in May. In a report seen by BBC Wales, the ombudsman said he had breached the local authority\\'s code of conduct. It added his behaviour suggested \"a significant lack of jud', 'By Helen BriggsEnvironment correspondent, BBC News New measures are needed to stop diseases carried by commercial bees spilling over into the wild, says a University of Exeter team. Evidence suggests bees bred in captivity can carry diseases that could be a risk to native species. Bees are used commercially to pollinate crops such as peppers and oilseed rape. Species of bees used for this purpose, or in commercial hives, are known', 'Gordon Oliver received a vote of no confidence as leader of Torbay Council by colleagues in a private meeting with a secret ballot. Mr Oliver said he would consider his role of mayor, but said he was \"unclear what had gone wrong\". Councillor Robert Excell, deputy leader of the Conservative group, said a statement would be issued later. \\'Personalities a problem\\' Mr Oliver said: \"I had notice to attend a no confidence meeting in me by', 'Footage posted online shows Persepolis defender Mohammed Nosrati squeezing teammate Sheis Rezaei\\'s bottom. Another video seems to show Rezaei squeezing a teammate later in the 3-2 Persepolis victory over Damash Gilan. The game was broadcast live to millions. Nosrati and Rezaei have said they did not intend to offend anyone. The two \"have been banned in', 'Filimone Lacanivalu called on David Cameron to halt what he called an unfair plan to send him back to Fiji. Mr Lacanivalu fought for British forces in Afghanistan and served in Northern Ireland and Bosnia with 2nd Battalion the Yorkshire Regiment. The home secretary and immigration minister personally reviewed his case before deciding he could remain. They said that in light of his service in the British army he should be granted settlement in the UK. Mr', 'Buckley Masterplan focuses on attracting a new supermarket to Buckley, as well as creating a \"cultural and evening leisure quarter\". Now, councillors are being asked to ratify proposals to start to turn the aspirations into reality. These include firming up the plans for a new shopping precinct and finding a developer to manage the project. A report to Flintshire council\\'s executive committee says the plans have been presented to', 'Nearly 26,000 children, aged five to nine, were admitted to hospital in England in 2013-14, up 14% from 2011, with tooth decay. The Royal College of Surgeons says many hospitals are reaching \"crisis point\" managing the number of children. The government says children\\'s dental health has improved in the past decade. But Prof Nigel H', 'By David RhodesBBC News Nearly 24 million opioids, such as morphine, were prescribed in 2017 - equivalent to 2,700 packs an hour. A drugs counsellor and former user told the BBC the NHS was \"creating drug addicts\". The Royal College of GPs said doctors would not prescribe opioid painkillers as a \"quick fix\". Opioids such as', 'NHS research found the volume of pure alcohol sold per person dropped from 7.4 to 7.1 litres - a fall of 3.6%. In England and Wales - where minimum pricing was not implemented - the volume rose from 6.3 to 6.5 litres. The biggest impact of minimum unit pricing (MUP) was on cider sales which fell by nearly a fifth (18.6%). The price of cider rose by', 'Protest organiser Unite Against Fascism (UAF) said Oxford was a multicultural city being \"targeted by fascists\". But Lisa Wehden, the union president, said the union was \"politically-neutral\" and an invitation was not an \"endorsement of any particular agenda\". The far right Front National is the third-largest party in France. \\'Freedom of speech\\' UAF described Front National as \"deeply rac', 'Foreign Secretary Dominic Raab said repatriating the child was \"the right thing to do\". He said each case of orphans or unaccompanied children trapped in Syria was assessed \"carefully\". Save the Children said some 60 British children were in Syrian refugee camps, many aged under five. Many of the younger children are born in Syria to British parents and have never lived in the UK. The recent repatriation was first reported', 'The star of Mr Bean and Blackadder has hired architect Richard Meier to design the site in Ipsden, near Wallingford. Some local people say the plan is not in keeping with the rest of the area. They are also concerned about traffic problems during any building work. The application will be considered by South Oxfordshire Council in September. Resident Petra Frampton said Mr Atkinson should think \"long and hard\" about his plans and listen to what other', 'About 150 people gathered for the protest in Victoria Square, despite an appeal from West Midlands Police to stay away. The force said it made nine arrests in total, serving all but one with a £200 fixed penalty notice. Officers had asked the demonstrators to move on, said a spokesperson, but \"some did not listen\". That led to the arrests and subsequent fining of three women aged 21, 41 and 5', 'By Kate ScotterBBC News, East At the age of 25, Rochelle Bugg found herself as a full-time carer for her mother Shirley who was diagnosed with a terminal brain tumour. It came just over 10 years after her father James had died from pancreatic cancer. While caring for her mother, she created a blog detailing her experience - and it has now been published as a book in a bid to help other young', 'Mr Macron, 42, will self-isolate for seven days while working remotely, the Elysée Palace said in a statement. The French president attended a number of high-profile events in recent days, including an EU summit. Following his diagnosis several other European leaders, including the Spanish PM, said they would self-isolate. \"The President of the Republic has been diagnosed positive for Covid-19 today,\" the Elysée', 'However, SSE Power Distribution warned that further power cuts could take place due to lightning. At its height, 20,000 properties were affected with about 500 customers still affected in the Western Isles, Shetland, Skye, Colonsay, Argyll and Angus on Friday afternoon. The storm brought gusts of up to 84mph to parts of Scotland. All schools on the Western Isles and Shet', 'The measure will begin at midnight and would bring the city in line with rules in Bradford, Kirklees and Calderdale, said council leader Judith Blake. Health Secretary Matt Hancock confirmed the rule in a written statement. The city council said there had been a \"steep rise\" in infections, with the rate at 98.5 per 100,000 people. The move will have an impact on 780,0', \"The application is designed to stop using the computer's central processing unit (CPU) when it is left to run in the background. It means users can receive calls or instant messages without the risk of exhausting their laptop battery. The move may help Skype compete against Oovoo, Google Talk and other rivals. Microsoft bought Skype for $8.5bn (£5.3bn) last year. Although it has integrated the product into its Outlook.com\", 'By Sean CoughlanBBC News family and education correspondent The prime minister has announced MP Helen Grant as a special envoy for efforts to support girls\\' education. It is expected to be a key theme of the UK\\'s presidency this year of the G7 group of major industrial countries. \"It can change the fortunes of not just individual women and girls, but communities and nations,\" says the PM. Even before the pandemic, millions of children in developing countries did not', \"It matches April's opening donation to the Theatres Protection Fund from Andrew Lloyd Webber's charitable trust. The money will help theatres that are struggling financially, but have significant value in their communities. More than 50 million people worldwide have seen Craymer's smash hit musical Mamma Mia!, based on the songs of Abba. She also produced the movie version starring Meryl Streep, Colin Firth\", 'Former party leader Mr Salmond lost his Gordon seat to Conservative Colin Clark. Westminster leader Angus Robertson, the party deputy leader, lost his Moray seat to Conservative Douglas Ross. First Minister Nicola Sturgeon later said the loss of MPs including Mr Salmond and Mr Robertson was \"bitterly disappointing\". There were also Conservative gains from the SNP in Banff and Buchan, Aberdeen South and Aberdeenshire', \"The 26-year-old's Next To Me track is nominated for the best song musically and lyrically award and is also up for the most performed work prize. Rapper Plan B and Mercury Prize winners Alt-J are also cited in two categories. The 58th Ivor Novello awards will be presented at the Grosvenor House hotel in central London on 16 May. Plan B's Ill Manors is up for best contemporary song\", 'Officials hope the move will stimulate an additional £50m spend in the city centre over the next two years. The campaign follows a survey of 2,000 residents, in which 92% said they felt the tram works had affected their enjoyment of the city centre. Almost 30% said they shopped there less than they did a couple of years ago. However, 87% of the people questioned said they were now open to', 'By Neil PriorBBC News Yet in 1913, just a decade after the advent of aviation, Llandrindod Wells in Powys had its own aerodrome. A couple of decades later, people could catch a passenger flight to London, Cardiff, Birmingham and beyond. With a population of just over 5,300 at the last Census, the town, in the historic county of Radnorshire, is an unlikely spot for', 'Last year saw \"zero waste\" shops open in Crickhowell in Powys, Tenby in Pembrokeshire and in Cardiff. \"It\\'s a more modern way of doing an older thing,\" Sophie Rae, founder of Cardiff-based Ripple said. Customers bring their own containers from home to the stores and weigh the goods they want to buy - minus the weight of the packaging. \"It makes zero-waste shopping cost', 'Boris Johnson has announced that zoos, safari parks and drive-in cinemas can reopen in England from Monday. The zoo\\'s chief operating officer Jamie Christon said it had a \"long way to go\" to get where it was before the crisis. Knowsley Safari managing director Edward Perry said it was \"very good news\" but \"should have been sooner\". Chester Zoo, which covers a 128-acre site, is one of', 'Numbers rose to 13,269 people at the end of November - an increase of about 1,000 on the previous month and nearly 8,000 since March 2013. The Welsh government\\'s target is to treat all patients within nine months. Health Minister Mark Drakeford said the Welsh NHS was \"under pressure\" but stressed it was not \"in crisis\". He told BBC Wales: \"There are fewer people', 'By Jayne McCormackBBC News NI Political Reporter Later this month it will pass Belgium, which holds the world record of 541 days without a government. Power-sharing between the parties at Stormont collapsed in January 2017. Guinness World Records said NI was \"not eligible\" for the record as it is still able to have laws passed at Westminster. \"While the Northern Ireland Assembly has the power', 'By Jamie McIvorBBC Scotland education correspondent Statistics from the Scottish Funding Council show that 26% of new undergraduates from Scotland have previously attended college. Colleges play an important role in efforts to widen access to higher education. Sometimes graduates are able to join the second or third year of a university course. In total, about 4,000 students who started university courses in Scotland during the current academic year came straight from colleges. Import', \"The four-part series, filmed by Nigel Pope, paints a portrait of a year in the Inner and Outer Hebrides. VisitScotland said it hoped the film would help boost tourism in the region. It follows in the footsteps of other programmes which have helped to boost tourism in the region. Island Parish, which was set on Barra, saw the local VisitScotland Information Centre's footfall rise by 10\", '---', 'Two men and a woman climbed to the top of the site at Kirby Misperton, between Malton and Pickering, at about 03:00 BST, police said. A 29-year old man is in custody on suspicion of aggravated trespass and criminal damage after he climbed down at about 15:45. The other two remain at the site and were issued with safety harnesses. Third Energy was given', 'A statutory police and crime panel has already been set-up, consisting mainly of councillors, to check on the work of the PCC. Jim Henson is starting another crime forum, which he claims will be independent of party politics. PCC Tim Passmore said he saw the body as a \"critical friend\". The police and crime panel (PCP) is made up of eleven county and district councillors (seven Conservative, two Labour, one', 'In an email, Brighton Holiday Homes told customers their bookings had been cancelled and advised them to claim their money back through their banks. Jennie Nash paid £3,000 to the firm last week and said there had been \"no mention of any potential problems\". The company put a sign on its front door expressing \"great regret\". It read: \"It is with great regret that due to the challenging economic conditions Brighton Holiday Homes has', 'As first reported in the Financial Times, owner Lawrence Stroll said all of its battery sports cars will be made at its plant in Gaydon, Warwickshire. Its electric SUV models will be made at St Athan in Glamorgan, he confirmed. The company is due to start making hybrid versions of its cars over the next four years, followed by battery-only models. A growing number of car makers have said they are moving away from petrol and diesel', 'However, Robert Buckland said it was unlikely bosses could make existing workers have vaccines under their current contracts. Downing Street has said it would be \"discriminatory\" to order people to be vaccinated to keep their job. But some firms say they will not hire new staff who refuse to have the jab. In an interview with ITV on Wednesday, Mr Buckland said compelling new staff to be inoculated could,', 'By Claire BrennanBBC News The vote marks a pivotal moment in the evolving relationship between Church and State, pitting religious leaders against the government in an historically conservative and Catholic country. The Church has urged the public to reject the proposal, while the major political parties say it is a civil not a religious matter and are campaigning for a Yes vote. Opinion polls suggest 78% of people are in favour of altering the constitution to', 'Mr Ross is widely seen as the favourite to succeed Jackson Carlaw, who quit on Thursday after less than six months in the job. If he becomes leader, he will stand for election as an MSP in next May\\'s Holyrood elections. Former leader Ruth Davidson has agreed to stand in for him during First Minister\\'s Questions until then. \\'Maintain and improve\\' the union Confirming his leadership bid, Mr Ross said it was a \"', 'Mark McCormick, 49, pleaded guilty to 14 charges on the first day of his trial at Southampton Crown Court. The former Bursledon councillor committed the offences between 1997 and 2011, the court heard. Refusing bail, Judge Nicholas Rowland said the \"extremely serious\" offences meant \"a long sentence\" would be imposed at a hearing on 12 October.', 'In addition to tossing loose change into a box, passers-by can use card readers to make contactless payments. It has been launched in partnership with Swedish tech firm iZettle, bought this month by US payments giant PayPal. \"Now, more Londoners will be able to show their support to the capital\\'s brilliant, talented street performers,\" said London mayor Sadiq Khan. He announced on Sunday that the scheme will be be rolled out', 'Durham County Council wants to build the park on the current site of County Hall and neighbouring land. Councillors have previously agreed to move to new headquarters in the city centre and that development will house 1,000 staff. Should planning permission be granted, work on the business park would begin in 2021. Simon Henig, leader of the Labour-controlled council, said: \"We are looking to provide a modern central business location, in a', 'By Jonathan HeadSoutheast Asia correspondent Why would an electorate, denied any say over who governs them since a coup two years ago, vote to approve a charter which offers them only a semi-democracy? A charter which was condemned by human rights groups and by the two largest political parties as a means to entrench military rule for many years to come? Unofficial results of the referendum showed more than 61% of those who voted approved', 'Phoenix Asset Management took full control of the business in the summer in an effort to boost growth. A turnaround plan at the Scalextric-to-Airfix toy firm has already seen it cut its product ranges and investments. Last week, Hornby warned over its full-year performance due to increased competition and weaker demand. \\'New chapter\\' The company said Mr Cooke\\'s departure was \"mutually agreed\" and he would remain in place', 'The River Ely burst its banks at Peterston-super-Ely in Vale of Glamorgan, where members of the public rescued someone from their vehicle. There was a second car rescue on the A458 in Cyfronydd, Powys, where wading firefighters rescued a person trapped. More than a dozen flood warnings are in place and flooding has closed roads and forced the cancellation of trains. South Wales Fire and', \"A decision on the 12,000-capacity venue was deferred by councillors earlier this month because of concerns about how people would get to and from it. Revised plans include a shuttle service from Bristol Parkway, more bike spaces and stewards to guide pedestrians. The new proposals will be considered by Bristol City Council's Development Control Committee on 6 April. The long-awaited city centre venue\", 'By Bill Hicks · Despite creeping gentrification, this is an area that is still synonymous with urban blight. It is the most socially deprived district in the United States, with over 40% of residents living below the federal poverty line. It is officially the least healthy place to bring up children in New York State. And yet this is where high school teacher Stephen Ritz hatched a food-growing project with his students that', \"Libraries in Kent are owed more than £100,000 in fines for the late return of books, CDs and DVDs. According to KCC, one in 10 books are returned late and so it is piloting a new scheme to recover stock and fines. From January, a list of the people who fail to respond to reminder letters will be passed to Unique Management collection agency. 'Declare an amnesty' C\", 'By Michelle RobertsHealth reporter, BBC News The breakthrough means they can now see exactly how mutations in the parkin gene cause the disease in an estimated one in 10 patients with Parkinson\\'s. And it offers a realistic model to test new treatments on - a hurdle that has blighted research efforts until now. The team told Nature Communications their work was a \"game-changer\". Lab-grown \"This is the first time', 'By John CampbellBBC NI economics & business editor The rise came despite the violence linked to the flag protests that received international media coverage. The Department of Enterprise (Deti) said most of the rise in visitor numbers - 75% - was due to people visiting to see friends and relatives. However, the figures also showed an increased number of holiday visits. Visits for business purposes were also up compared to the first quarter of 2012.', 'The letter, on behalf of 850 elected officials in New York State, comes days before the council decides whether to approve test drilling at two locations. New York\\'s state lawmakers outlawed the process in December. Cuadrilla, the energy firm behind the proposed drilling, said the US group had no knowledge of the case. In a statement, a spokesman for the energy firm said: \"These officials from New York State have no', 'Relatives and 999 staff gathered for the event, organised by emergency workers and community leaders. The Bishop of Chichester, who led the service, said the tragedy \"sliced through the fabric of our life\". Emergency officer Paul Sutton said: \"A uniform cannot prepare someone for those memories.\" \\'Unanswerable question\\' Eleven men were killed in the crash on 22 August when a vintage Hawker Hunter jet failed to', 'Pauline Leeming, 40, manipulated accounts at a family firm as her addiction \"spiralled out of control\". She took out personal loans to cover her gambling debts, but when they became too great she began to submit fake invoices at work. Judge Jonathan Rose sentenced the mother-of-three from Bradford to 20 months in prison. He told her: \"It\\'s accepted by all it is your gambling', \"The Borough of Poole's budget for 2010/11, agreed in February, had initially identified savings of £4.2m. But it now says the £2.9m cut in government funding plus an increasing demand on services has brought the savings total to £8.4m for this year. It added that the cost for children and adult social services rise annually. Public involvement Council leader Brian Leverett told BBC Radio Sol\", 'Sheku Bayoh\\'s relatives said they \"feel nothing but a total betrayal\" over the decision not to prosecute. Father-of-two Mr Bayoh, 31, died in Kirkcaldy in May 2015. His family said they would seek a review of the decision and continue to fight for a public inquiry. The Crown Office said it had conducted its investigation with \"professionalism, integrity and respect\". Mr Bayoh\\'', 'Mr Ban, a former South Korean foreign minister, was the only candidate after the UN Security Council unanimously recommended his re-election. Critics say he is too deferential to major powers, but he has won praise for his policies on climate change and the protests sweeping the Middle East. He took over at the UN in 2007. His second term will formally begin on 1 January 2012 and run until the end of 2', 'By Julian O\\'NeillBBC News NI Business Correspondent PwC says the £1bn windfall \"will alleviate some immediate problems.\" But the continued absence of a power-sharing government at Stormont puts strategies designed to improve the local economy at risk, it adds. Its latest NI outlook report forecasts economic growth of 1% this year. The supply and confidence arrangement between the two parties to prop up Theresa May\\'s minority', 'He landed in Abu Dhabi where he was greeted by Crown Prince Sheikh Mohammed bin Zayed al-Nahyan. The Pope will take part in an interfaith conference on Monday and on Tuesday hold Mass in which 120,000 people are expected to attend. Before leaving he expressed concern about the war in Yemen, in which the UAE is engaged. \"The population [in Yemen] is exhausted by', \"- Shetland has had around a third of the UK's offshore oil from waters around it. - It could expect to have roughly half. - Shetlanders are spending the wealth on themselves, investing in their own industries. - They have one of the lowest council tax rates in Scotland. - The Norwegians have taken a different approach, partly because they had to. - They have set themselves strict limits on how much can be\", \"Deputies will be asked to choose between three options for how it could work at their June meeting. The States Assembly and Constitution Committee came up with the choices after a public consultation. Under the current system the island is divided into seven electoral districts which each elects members of the island's government. The first option would see all 45 deputies elected via an island-wide vote every four years, meaning all voters pick from the same list of candidates. The second is\", \"The estates of Tom Petty and Tupac Shakur, bands Soundgarden and Hole and singer Steve Earle sued for damages. It was alleged music was lost in the fire. Most later dropped their claims when it was demonstrated they suffered no loss. Only Tom Petty's ex-wife Jane was still involved but a judge on Monday said she had not filed enough evidence. Judge John A Kronstadt, sitting in a California court, dismiss\", 'Andrew Culture said he was disappointed that plans for a £12m arts centre on the site of Ipswich Museum did not include provision for live music. He said: \"It\\'s a shame that again original live music seems to have been overlooked. For years people have been after a mid-sized venue in Ipswich.\" Ipswich Borough Council said it would be happy to discuss his ideas. Mr Culture plays in These Are End Times and Ze', \"Matthew Cassidy, 19, from Merseyside, died after he was knifed nine times in the stairwell of a block of flats in Connah's Quay, Flintshire, on 29 May. Mold Crown Court heard drug-gang leader David Woods was later covertly recorded admitting he had murdered Mr Cassidy. Mr Woods, 20, of Liverpool, and Leslie Baines,\", 'Theresa May met the Iranian president for talks at the United Nations in New York, on Tuesday. Mrs May told Hassan Rouhani she had \"serious concerns\" about Mrs Zaghari-Ratcliffe\\'s imprisonment. The British-Iranian was jailed for five years in 2016 after being convicted of spying, which she denies. Foreign Secretary Jeremy Hunt also had his first face-to-', 'By News from Elsewhere......as found by BBC Monitoring According to the Asahi Shimbun newspaper, Kansai International Airport in Osaka Prefecture is going to start offering travellers ballpoint pens, notebooks and similar small gifts if they turn their unwanted suitcases over to staff on the departure floor. The paper says that the airport has been finding sometimes as many as 10 suitcases a day discarded outside bins, or around', 'Stones and driftwood are the foundations of his work near his home in Torquay, Devon. The 26-year-old started making the sculptures about 12 years ago while still at school. \"I never had an X-box and I am always happy when I\\'m outside,\" he says. \"I read some books about [British sculptor] Andy Goldsworthy and it just became a hobby. \"Grow', 'Rockland County, on the Hudson river north of New York City, has barred unvaccinated children from public spaces after 153 cases were confirmed. Violating the order will be punishable by a fine of $500 (£378) and up to six months in prison. The announcement follows other outbreaks of the disease in Washington, California, Texas and Illinois. Vaccination rates have dropped steadily in the US with', 'By Andy Bell & Dan BoxBBC News It comes as police warn such crimes are at \"epidemic\" levels, with Greater Manchester Police (GMP) receiving reports of about 1,000 victims a month. Detectives fear the true figure may be up to 10 times higher as many fraud victims never come forward. Det Con Craig Moylon said: \"It\\'s the volume crime of the 21st Century.\" A', 'The studio also confirmed a Mary Poppins sequel, starring Emily Blunt, and 101 Dalmatians spin-off, Cruella. The Mary Poppins film will also star Lin-Manuel Miranda, who wrote and performed in Broadway hit, Hamilton. A Tim Burton-directed Dumbo and a \"Tinker Bell project\" starring Reese Witherspoon are also in development. Also confirmed by Disney were a live-', 'Mayor Mike Signer said the rally against the removal of Confederate monuments \"harkens back to the days of the KKK\" - the white supremacist group. Protesters are upset over the city\\'s decision to remove statues honouring the losing side of the US Civil War. More than 100 people attended a counter-protest the following night. Several dozen protesters had held the torch-lit rally in Charlottesville', 'Fu Xuejie shared a picture of the boy on the messaging app WeChat, calling him a \"final gift\" from Dr Li. Dr Li was arrested by authorities for \"spreading rumours\", and later died after catching the virus. After a public outcry over his death, he was exonerated and honoured as a hero by the government. His widow, Mrs Fu, now has two sons with her late husband. In her message she', 'Saudi native Manal al-Sharif said she has been receiving death threats online ahead of the ban\\'s removal. She was speaking after several activists in the kingdom were arrested. They have been accused of being \"traitors\" and working with foreign powers - charges Amnesty International called \"blatant intimidation tactics\". The group is accused of \"contact with foreign entities with the aim of undermining the country\\'s stability and social fabric\", the', \"The UK's biggest retailer has given some staff a smartphone app to use at a store at the company's headquarters. They use the app to scan barcodes on the products they want and then pay, with no trip to a till needed. Co-op is experimenting with similar technology and Amazon already has a checkout-free grocery store in Seattle that is open to the public. Tesco says its experiment is at a very early stage. It is concerned that\", 'By Konul Khalilova BBC Central Asia & Caucasus Service Oil giant BP has been heavily involved in energy projects in Azerbaijan since 1997 and operates the Baku-Tbilisi-Ceyhan export pipeline, which carries Caspian crude oil to European markets via Turkey. Non-governmental organisations (NGOs) in Azerbaijan have long challenged BP over the environmental', 'Non-swimmer Richard Manning, 66, originally of Somerset but living in Tudweiliog, died after the raft capsized on the swollen River Dalaman. The Somerset coroner recorded a narrative verdict that Mr Manning drowned after being knocked unconscious when the raft capsized in October 2009. Michael Rose said guides had taken an \"unreasonable risk\". Mr Manning\\'s family', \"Under the five-year deal, Wood Group PSN (WGPSN) will provide engineering, procurement and construction management services for eight platforms. The contract will lead to the creation of about 200 new jobs. The announcement comes just a week after Wood Group secured a £100m North Sea services deal from Nexen. The Azerbaijan contract builds on Aberdeen-based Wood Group's continued support of BP-operated\", \"Adam Stokes, 11, and his brother Matthew, five, died at their home in Leicestershire along with their father David Stokes. No arrests have been made and police are not looking for anyone else in connection with the deaths. The service was at St Mary's Church in Hinckley, where the boys lived. It is almost eight months since the boys died on 2 November, and their bereaved mother, Sally Stokes, said:\", 'Children\\'s minister Edward Timpson has written to the authority to express his \"great concern\" over a failure to improve \"inadequate\" Ofsted ratings. The director of children\\'s services, Peter Lewis, left his role after \"faster improvement\" failed to happen. The Department for Education said the failures were \"very serious\". In the letter, which has been seen by the BBC, Mr Timpson said he was concerned \"that fourteen months since being rated', 'By Sarah DickinsBBC Wales economics correspondent Former minister Guto Bebb believes deprived areas which currently miss out should qualify under the planned UK Shared Prosperity Fund. Although details about the fund are not expected until 2020, it is likely to see the map which set west Wales and the Valleys as priority areas torn up. Both UK and Welsh Government ministers say they favour a focus on need. For almost 20 years', '---', 'The government confirmed the speech, which sets out its priorities, will take place next Wednesday. Nigel Dodds said that the speech was \"not relevant\" to their negotiations. His comments came after Northern Ireland\\'s main parties held talks with Theresa May. The DUP, Sinn Féin, the Ulster Unionist Party (UUP), Alliance and the Social Democratic and Labour Party (SDLP) had separate meetings with Mrs May. Following', 'Macclesfield Town midfielder Richard Butcher was discovered dead at his flat in Swinton, Salford in January. The Northampton-born player, 29, had suffered chest pains in the past three years, Bolton Coroner\\'s Court heard. In a narrative verdict, assistant deputy coroner Peter Watson said Mr Butcher died from natural causes due to a naturally occurring heart condition. \"All deaths are tragic but', 'By Mark WardTechnology correspondent, BBC News Best known for creating the Baygen wind-up radio, Mr Baylis was honoured for services to intellectual property. Throughout his colourful life, which involved a stint as a stuntman, Mr Baylis has spent much of his time inventing or involved with engineering. Most recently he has campaigned to make the UK a more hospitable place for inventors, and is seeking to help them safeguard their creations', 'Peter Turner, 80, of Redcar, admitted 14 charges including indecent assault, gross indecency and another serious sexual offence. The offences took place at Ampleforth College, North Yorkshire, and a parish in Cumbria between 1984 and 1990. North Yorkshire Police said Turner was \"clearly a very depraved individual\". Sentencing him at York Crown Court, Judge Sean Morris said: \"', 'In England and Wales, there are now 27 flood warnings, indicating flooding is expected, and 34 flood alerts, meaning flooding is possible. BBC forecasters have said the worst of the rain is now over. Meanwhile, North Wales Police are conducting an investigation after the bodies of a young couple were discovered in a Wrexham river. Alicia Williams and David Platt, who were both 25 and from Ruabon, were', 'By Michael BaggsNewsbeat reporter Sean revealed that he went through a difficult period last year around his 30th birthday. He says that around that time, he realised he was facing issues which needed \"special attention\" and had therapy for his problems. \"I wasn\\'t feeling like myself and I couldn\\'t figure out why,\" he said on Instagram. \"I just felt lost - and I don\\'t know how I got there.\" He posted', 'The document obtained by a US university describes the 1955 acquisition of the Nevada site for testing of the secret spy plane. It also explains the site\\'s lingering association with UFOs and aliens. The remote patch of desert surrounding Groom Lake was chosen because it was adjacent to a nuclear testing facility. \"The U-2 was absolutely top secret,\" Chris Pocock, a British defence journalist and author of histories of the programme, told the BBC', 'Gagandip Singh, 21, was put in the boot before the vehicle was set ablaze in Blackheath, last February. Harinder Shoker, 20, was convicted of murder while Darren Peters, also 20, was convicted of manslaughter. Mundill Mahil, 20, was convicted of causing grievous bodily harm. She and the men had denied murder. Shoker was found guilty', \"The Life in the Ravines project, led by Natural England (NE), aims to tackle ash dieback and restore woodlands. The Peak District is dominated by ash so without intervention the area could be devastated by the disease, said NE. Joe Alsop, from NE, said planting using drones had not been done on any of its sites in the Peak District before. 'Challenging' The project will focus on several woodlands and there\", \"Madagascar 3: Europe's Most Wanted took nearly $60.4 million (£38.8 million) over the weekend, according to studio estimates. Sci-fi thriller Prometheus, starring Noomi Rapace, Michael Fassbender and Charlize Theron, debuted in second place with $50 million (£32.1 million). The film is rated R in the US, meaning under-17s\", 'The group\\'s administrator said she had \"sleepless nights\" after the account was threatened with deletion. The social media giant has since accepted the wording it targeted was used in culinary context. Facebook blamed the ban threat on technical error. Members of the Pensnett, Brierley Hill and Black Country Now And Then History Group had been discussing minced pork liver and heart wrapped in bacon when the algorithm picked it up. Fagg', 'The data showed a \"worrying trend\" of part-time, female and young workers being most likely to earn below the figure, researchers found. The living wage, promoted by the Living Wage Foundation, is currently £7.85 an hour and £9.15 in London. It is not compulsory for employers to pay it. The government said it was \"determined to move to a higher wage economy\". The accountancy firm', 'No more countries will be added to the green list and Portugal will be relegated to amber from next Tuesday. A government announcement on the changes to its holiday traffic light system is due later on Thursday. But already critics have warned of a further hit to jobs and confidence, while airline Easyjet said the government had torn up its own rules. Moving Portugal from the green to the amber list was a \"safety first approach\" to', 'At 18 years old, Shakira was \"very elderly\" for a big cat and had been on medication for a few weeks while her health deteriorated, Paignton Zoo said. She was a critically endangered Sumatran tiger, with fewer than 400 thought to be left in the wild. The announcement comes a day before the zoo was planning to reopen to the public on Thursday. Zookeep', 'James Shears, 35 and Alan Bannon, 38, died tackling the fire at Shirley Towers, Southampton, on 6 April 2010. The Health and Safety Executive, police and fire service are all investigating. The Fire Brigades Union (FBU) is also conducting an inquiry. Meanwhile it emerged UK fire service practices were changed after the blaze. The fire that killed the two men started in the', 'It concluded that it could not be certain the Gatwick slots would be safeguarded under the proposed plans. It was also not sure the combined airline would become, and remain, profitable in the long-term. The two sides had been undergoing due diligence checks, but no confidential information had been exchanged. Cabernet Limited - which owns Aurigny Air Services and Anglo Normandy Aeroengineering - and Blue Islands were informed of the department', 'Andre Gayle, 29, died in hospital on Wednesday from multiple stab wounds, two days after being attacked near Easton Community Centre. A 23-year-old man has been arrested on suspicion of murder and is in custody. Seven people in total have now been arrested over the killing, a force spokesman said. Three men, aged 22, 27 and 29, were all arrested on suspicion of murder', 'Kemi Badenoch said her \"foolish prank\" took place more than 10 years ago before she was elected to Parliament. The 38-year-old became MP for Saffron Walden in the 2017 election and in January was appointed the Conservative Party\\'s vice-chairwoman for candidates. Former minister for women Ms Harman said on Twitter she had received a written apology from Mrs Badenoch. Mrs Badenoch', 'The money was awarded as the region\\'s hospitals were granted Biomedical Research Centre status, in what has been described as a \"landmark moment\". It will be used to drive forward research into cancer, respiratory disease and other serious conditions. Millions of people will benefit, the region\\'s NHS trusts said. In April, Greater Manchester became the first English region to gain control of its health spending as part of an extension of devolved powers.']\n",
      "100\n"
     ]
    }
   ],
   "source": [
    "sentences = load_file(\"/home/mlynatom/data/claim_extraction/llama2_claims.txt\")\n",
    "#sentences = load_file(\"/home/mlynatom/data/claim_extraction/llama2_finetuned_claims.txt\")\n",
    "print(sentences)\n",
    "print(len(sentences))\n"
   ]
  },
  {
   "cell_type": "code",
   "execution_count": 11,
   "metadata": {},
   "outputs": [],
   "source": [
    "#prepare_data\n",
    "\n",
    "task_prefix = \"Fix the grammar: \"\n",
    "inputs = [task_prefix + sentence for sentence in sentences]"
   ]
  },
  {
   "cell_type": "code",
   "execution_count": 12,
   "metadata": {},
   "outputs": [],
   "source": [
    "output = coedit(inputs, max_length=400)\n",
    "output_lst = [x[\"generated_text\"] for x in output]"
   ]
  },
  {
   "cell_type": "code",
   "execution_count": 13,
   "metadata": {},
   "outputs": [
    {
     "data": {
      "text/plain": [
       "['Unite said it would \"use all its might\" while the GMB said the outlook, confirmed at a meeting, was a \"real kick in the teeth\". Unless new business comes in, the south Wales site could be left in a worst-case scenario with only 600 workers by 2021. The prime minister said a \"dialogue\" would continue with Ford about help.',\n",
       " 'By Andy VerityBBC economics correspondent Barclays agreed to pay Qatari investors £42m for advisory services in June 2008 after they demanded more than double the fees paid to other investors. The prosecution alleges the agreement was a mechanism to pay the additional fees rather than a genuine agreement. Roger Jenkins, Tom Kalaris, and Richard Boath, on trial, deny wrongdoing. The former Barclays directors',\n",
       " 'By Joe LangstaffeBBC Wales News Vale of Glamorgan councillor, Leighton Rowlands, was accused of improper conduct for opening a Barry wine bar last year without planning permission. Mr Rowlands is standing for election in Cardiff South and Penarth in May. In a report seen by BBC Wales, the ombudsman said he had breached the local authority\\'s code of conduct and added his behavior suggested \"a significant lack of judgment.',\n",
       " 'By Helen BriggsEnvironment correspondent, BBC News New measures are needed to stop diseases carried by commercial bees spilling over into the wild, says a University of Exeter team. Evidence suggests bees bred in captivity can carry diseases that could be a risk to native species. Bees are used commercially to pollinate crops such as peppers and oilseed rape. Species of bees used for this purpose, or in commercial hives, are known',\n",
       " 'Gordon Oliver received a vote of no confidence as leader of Torbay Council by colleagues in a private meeting with a secret ballot. Mr Oliver said he would consider his role as mayor, but said he was \"unclear what had gone wrong\". Councillor Robert Excell, deputy leader of the Conservative group, said a statement would be issued later. \\'Personalities a problem,\\' Mr Oliver said: \"I had notice to attend a no confidence meeting in me by',\n",
       " 'Footage posted online shows Persepolis defender Mohammed Nosrati squeezing teammate Sheis Rezaei\\'s bottom. Another video seems to show Rezaei squeezing another teammate later in the 3-2 Persepolis victory over Damash Gilan. The game was broadcast live to millions. Nosrati and Rezaei have said they did not intend to offend anyone. The two \"have been banned in',\n",
       " 'Filimone Lacanivalu called on David Cameron to halt what he called an unfair plan to send him back to Fiji. Mr Lacanivalu fought for British forces in Afghanistan and served in Northern Ireland and Bosnia with 2nd Battalion, the Yorkshire Regiment. The home secretary and immigration minister personally reviewed his case before deciding he could remain. They said that in light of his service in the British army, he should be granted settlement in the UK.',\n",
       " 'The Buckley Masterplan focuses on attracting a new supermarket to Buckley, as well as creating a \"cultural and evening leisure quarter\". Now, councillors are being asked to ratify proposals to start to turn the aspirations into reality. These include firming up the plans for a new shopping precinct and finding a developer to manage the project.',\n",
       " 'Nearly 26,000 children, aged five to nine, were admitted to hospital in England in 2013-14, up 14% from 2011, for tooth decay. The Royal College of Surgeons says many hospitals are reaching \"crisis point\" managing the number of children. The government says children\\'s dental health has improved in the past decade. But Prof Nigel H',\n",
       " 'By David RhodesBBC News Nearly 24 million opioids, such as morphine, were prescribed in 2017 - equivalent to 2,700 packs an hour. A drugs counsellor and former user told the BBC the NHS was \"creating drug addicts\". The Royal College of GPs said doctors would not prescribe opioid painkillers as a \"quick fix\".',\n",
       " 'NHS research found the volume of pure alcohol sold per person dropped from 7.4 to 7.1 liters - a fall of 3.6%. In England and Wales - where minimum pricing was not implemented - the volume rose from 6.3 to 6.5 liters. The biggest impact of minimum unit pricing (MUP) was on cider sales, which fell by nearly a fifth (18.6%). The price of cider rose by',\n",
       " 'Protest organiser Unite Against Fascism (UAF) said Oxford was a multicultural city being \"targeted by fascists\". But Lisa Wehden, the union president, said the union was \"politically-neutral\" and an invitation was not an \"endorsement of any particular agenda\". The far right Front National is the third-largest party in France. \\'Freedom of speech\\' UAF described Front National as \"deeply racist.\"',\n",
       " 'The recent repatriation was first reported by Save the Children.',\n",
       " 'The star of Mr Bean and Blackadder has hired architect Richard Meier to design the site in Ipsden, near Wallingford. Some local people say the plan is not in keeping with the rest of the area and are also concerned about traffic problems during any building work. The application will be considered by South Oxfordshire Council in September. Resident Petra Frampton said Mr Atkinson should think \"long and hard\" about his plans and listen to what other people say.',\n",
       " 'About 150 people gathered for the protest in Victoria Square, despite an appeal from West Midlands Police to stay away. The force said it made nine arrests in total, serving all but one with a £200 fixed penalty notice. Officers had asked the demonstrators to move on, said a spokesperson, but \"some did not listen.\" That led to the arrests and subsequent fining of three women aged 21, 41, and 5.',\n",
       " 'By Kate ScotterBBC News, East At the age of 25, Rochelle Bugg found herself as a full-time carer for her mother Shirley, who was diagnosed with a terminal brain tumour. It came just over 10 years after her father James had died from pancreatic cancer. While caring for her mother, she created a blog detailing her experience - and it has now been published as a book in a bid to help other young people.',\n",
       " 'Mr Macron, 42, will self-isolate for seven days while working remotely, the Elysée Palace said in a statement. The French president attended a number of high-profile events in recent days, including an EU summit. Following his diagnosis, several other European leaders, including the Spanish PM, said they would self-isolate.',\n",
       " 'However, SSE Power Distribution warned that further power cuts could take place due to lightning. At its height, 20,000 properties were affected with about 500 customers still affected in the Western Isles and Shetland, Skye, Colonsay, Argyll and Angus on Friday afternoon. The storm brought gusts of up to 84mph to parts of Scotland. All schools on the Western Isles and Shetland were closed on Friday.',\n",
       " 'The measure will begin at midnight and would bring the city in line with rules in Bradford, Kirklees, and Calderdale, said council leader Judith Blake. Health Secretary Matt Hancock confirmed the measure in a written statement. The city council said there had been a \"steep rise\" in infections, with the rate at 98.5 per 100,000 people. The move will have an impact on 780,0',\n",
       " \"The application is designed to stop using the computer's central processing unit (CPU) when it is left to run in the background. It means users can receive calls or instant messages without the risk of exhausting their laptop battery. The move may help Skype compete against Oovoo, Google Talk, and other rivals. Microsoft bought Skype for $8.5bn (£5.3bn) last year, although it has integrated the product into its Outlook.com service.\",\n",
       " 'By Sean CoughlanBBC News family and education correspondent The prime minister has announced MP Helen Grant as a special envoy for efforts to support girls\\' education. It is expected to be a key theme of the UK\\'s presidency this year of the G7 group of major industrial countries. \"It can change the fortunes of not just individual women and girls, but communities and nations,\" says the PM. Even before the pandemic, millions of children in developing countries did not',\n",
       " \"It matches April's opening donation to the Theatres Protection Fund from Andrew Lloyd Webber's charitable trust. The money will help theatres that are struggling financially but have significant value in their communities. More than 50 million people worldwide have seen Craymer's smash hit musical Mamma Mia!, based on the songs of Abba. She also produced the movie version starring Meryl Streep and Colin Firth.\",\n",
       " 'Former party leader Mr Salmond lost his Gordon seat to Conservative Colin Clark. Westminster leader Angus Robertson, the party\\'s deputy leader, lost his Moray seat to Conservative Douglas Ross. First Minister Nicola Sturgeon later said the loss of MPs, including Mr Salmond and Mr Robertson, was \"bitterly disappointing.\" There were also Conservative gains from the SNP in Banff and Buchan, Aberdeen South, and Aberdeenshire.',\n",
       " \"The 26-year-old's Next To Me track is nominated for the best song musically and lyrically award and is also up for the most performed work prize. Rapper Plan B and Mercury Prize winners Alt-J are also cited in two categories. The 58th Ivor Novello awards will be presented at the Grosvenor House hotel in central London on 16 May.\",\n",
       " 'Officials hope the move will stimulate an additional £50m in spending in the city center over the next two years. The campaign follows a survey of 2,000 residents, in which 92% said they felt the tram works had affected their enjoyment of the city center. Almost 30% said they shopped there less than they did a couple of years ago. However, 87% of the people questioned said they were now open',\n",
       " 'By Neil PriorBBC News Yet in 1913, just a decade after the advent of aviation, Llandrindod Wells in Powys had its own aerodrome. A couple of decades later, people could catch a passenger flight to London, Cardiff, Birmingham and beyond. With a population of just over 5,300 at the last Census, the town, in the historic county of Radnorshire, is an unlikely spot for',\n",
       " 'Last year saw \"zero waste\" shops open in Crickhowell in Powys, Tenby in Pembrokeshire and in Cardiff. \"It\\'s a more modern way of doing an older thing,\" Sophie Rae, founder of Cardiff-based Ripple, said. Customers bring their own containers from home to the stores and weigh the goods they want to buy - minus the weight of the packaging.',\n",
       " 'Boris Johnson has announced that zoos, safari parks and drive-in cinemas can reopen in England from Monday. Chester Zoo\\'s chief operating officer Jamie Christon said it had a \"long way to go\" to get where it was before the crisis. Knowsley Safari managing director Edward Perry said it was \"very good news\" but \"should have been sooner\".',\n",
       " 'Numbers rose to 13,269 people at the end of November - an increase of about 1,000 on the previous month and nearly 8,000 since March 2013.',\n",
       " 'By Jayne McCormackBBC News NI Political Reporter Later this month, Northern Ireland will pass Belgium, which holds the world record of 541 days without a government. Power-sharing between the parties at Stormont collapsed in January 2017. Guinness World Records said Northern Ireland was \"not eligible\" for the record as it is still able to have laws passed at Westminster.',\n",
       " 'By Jamie McIvorBBC Scotland education correspondent Statistics from the Scottish Funding Council show that 26% of new undergraduates from Scotland have previously attended college. Colleges play an important role in efforts to widen access to higher education. Sometimes, graduates are able to join the second or third year of a university course. In total, about 4,000 students who started university courses in Scotland during the current academic year came straight from colleges.',\n",
       " \"The four-part series, filmed by Nigel Pope, paints a portrait of a year in the Inner and Outer Hebrides. VisitScotland said it hoped the film would help boost tourism in the region. It follows in the footsteps of other programs which have helped to boost tourism in the region. For example, Island Parish, which was set on Barra, saw the local VisitScotland Information Centre's footfall rise by 10.\",\n",
       " '---',\n",
       " 'Two men and a woman climbed to the top of the site at Kirby Misperton, between Malton and Pickering, at about 03:00 BST, police said. A 29-year-old man is in custody on suspicion of aggravated trespass and criminal damage after he climbed down at about 15:45. The other two remain at the site and were issued with safety harnesses. Third Energy was given',\n",
       " 'A statutory police and crime panel has already been set up, consisting mainly of councillors, to check on the work of the PCC. Jim Henson is starting another crime forum, which he claims will be independent of party politics. PCC Tim Passmore said he saw the body as a \"critical friend.\"',\n",
       " 'In an email, Brighton Holiday Homes told customers their bookings had been cancelled and advised them to claim their money back through their banks. Jennie Nash paid £3,000 to the firm last week and said there had been \"no mention of any potential problems\". The company put a sign on its front door expressing \"great regret.\" It read: \"It is with great regret that due to the challenging economic conditions Brighton Holiday Homes has',\n",
       " 'As first reported in the Financial Times, owner Lawrence Stroll said all of its battery sports cars will be made at its plant in Gaydon, Warwickshire. Its electric SUV models will be made at St Athan in Glamorgan, he confirmed. A growing number of car makers have said they are moving away from petrol and diesel.',\n",
       " 'However, Robert Buckland said it was unlikely bosses could make existing workers have vaccines under their current contracts. Downing Street has said it would be \"discriminatory\" to order people to be vaccinated to keep their job, but some firms say they will not hire new staff who refuse to have the jab. In an interview with ITV on Wednesday, Mr Buckland said compelling new staff to be inoculated could,',\n",
       " 'By Claire BrennanBBC News The vote marks a pivotal moment in the evolving relationship between Church and State, pitting religious leaders against the government in an historically conservative and Catholic country. The Church has urged the public to reject the proposal, while the major political parties say it is a civil, not a religious matter and are campaigning for a Yes vote. Opinion polls suggest 78% of people are in favor of altering the constitution to',\n",
       " 'Mr Ross is widely seen as the favourite to succeed Jackson Carlaw, who quit on Thursday after less than six months in the job. If he becomes leader, he will stand for election as an MSP in next May\\'s Holyrood elections. Former leader Ruth Davidson has agreed to stand in for him during First Minister\\'s Questions until then. \\'Maintain and improve\\' the union Confirming his leadership bid, Mr Ross said it was a \"',\n",
       " 'Mark McCormick, 49, pleaded guilty to 14 charges on the first day of his trial at Southampton Crown Court. The former Bursledon councillor committed the offences between 1997 and 2011, the court heard. Refusing bail, Judge Nicholas Rowland said the \"extremely serious\" offences meant \"a long sentence\" would be imposed at a hearing on 12 October.',\n",
       " 'In addition to tossing loose change into a box, passers-by can use card readers to make contactless payments. It has been launched in partnership with Swedish tech firm iZettle, bought this month by US payments giant PayPal.',\n",
       " 'Durham County Council wants to build the park on the current site of County Hall and neighbouring land. Councillors have previously agreed to move to new headquarters in the city center and that development will house 1,000 staff. Should planning permission be granted, work on the business park would begin in 2021. Simon Henig, leader of the Labour-controlled council, said: \"We are looking to provide a modern central business location, in',\n",
       " 'By Jonathan HeadSoutheast Asia correspondent Why would an electorate, denied any say over who governs them since a coup two years ago, vote to approve a charter that offers them only a semi-democracy? A charter which was condemned by human rights groups and by the two largest political parties as a means to entrench military rule for many years to come? Unofficial results of the referendum showed that more than 61% of those who voted approved it.',\n",
       " 'Phoenix Asset Management took full control of the business in the summer in an effort to boost growth. A turnaround plan at the Scalextric-to-Airfix toy firm has already seen it cut its product ranges and investments. Last week, Hornby warned over its full-year performance due to increased competition and weaker demand. \\'New chapter\\' The company said Mr Cooke\\'s departure was \"mutually agreed\" and he would remain in place.',\n",
       " 'The River Ely burst its banks at Peterston-super-Ely in the Vale of Glamorgan, where members of the public rescued someone from their vehicle. There was a second car rescue on the A458 in Cyfronydd, Powys, where wading firefighters rescued a person trapped. More than a dozen flood warnings are in place, and flooding has closed roads and forced the cancellation of trains. South Wales Fire and Rescue',\n",
       " \"A decision on the 12,000-capacity venue was deferred by councillors earlier this month because of concerns about how people would get to and from it. Revised plans include a shuttle service from Bristol Parkway, more bike spaces, and stewards to guide pedestrians. The new proposals will be considered by Bristol City Council's Development Control Committee on 6 April.\",\n",
       " 'By Bill Hicks  Despite creeping gentrification, this is an area that is still synonymous with urban blight. It is the most socially deprived district in the United States, with over 40% of residents living below the federal poverty line. It is officially the least healthy place to bring up children in New York State. And yet, this is where high school teacher Stephen Ritz hatched a food-growing project with his students that',\n",
       " \"Libraries in Kent are owed more than £100,000 in fines for the late return of books, CDs, and DVDs. According to KCC, one in 10 books are returned late, so it is piloting a new scheme to recover stock and fines. From January, a list of the people who fail to respond to reminder letters will be passed to Unique Management, a collection agency. 'Declare an amnesty' C\",\n",
       " \"By Michelle RobertsHealth reporter, BBC News The breakthrough means they can now see exactly how mutations in the parkin gene cause the disease in an estimated one in 10 patients with Parkinson's. And it offers a realistic model to test new treatments on - a hurdle that has blighted research efforts until now.\",\n",
       " 'By John CampbellBBC NI economics & business editor The rise came despite the violence linked to the flag protests that received international media coverage. The Department of Enterprise (Deti) said most of the rise in visitor numbers - 75% - was due to people visiting to see friends and relatives. However, the figures also showed an increased number of holiday visits. Visits for business purposes were also up compared to the first quarter of 2012.',\n",
       " \"The letter, on behalf of 850 elected officials in New York State, comes days before the council decides whether to approve test drilling at two locations. New York's state lawmakers outlawed the process in December. Cuadrilla, the energy firm behind the proposed drilling, said the US group had no knowledge of the case.\",\n",
       " 'Relatives and 999 staff gathered for the event, organized by emergency workers and community leaders. The Bishop of Chichester, who led the service, said the tragedy \"sliced through the fabric of our lives.\" Emergency officer Paul Sutton said: \"A uniform cannot prepare someone for those memories.\" \\'Unanswerable question\\' Eleven men were killed in the crash on 22 August when a vintage Hawker Hunter jet failed to land.',\n",
       " 'Pauline Leeming, 40, manipulated accounts at a family firm as her addiction \"spiralled out of control.\" She took out personal loans to cover her gambling debts, but when they became too great, she began to submit fake invoices at work. Judge Jonathan Rose sentenced the mother-of-three from Bradford to 20 months in prison. He told her: \"It\\'s accepted by all that it is your gambling.',\n",
       " \"The Borough of Poole's budget for 2010/11, agreed in February, had initially identified savings of £4.2m. But it now says the £2.9m cut in government funding plus an increasing demand on services has brought the savings total to £8.4m for this year. It added that the cost for children and adult social services rises annually. Public involvement Council leader Brian Leverett told BBC Radio Sol\",\n",
       " 'Sheku Bayoh\\'s relatives said they \"feel nothing but a total betrayal\" over the decision not to prosecute. Father-of-two Mr Bayoh, 31, died in Kirkcaldy in May 2015. His family said they would seek a review of the decision and continue to fight for a public inquiry. The Crown Office said it had conducted its investigation with \"professionalism, integrity, and respect\".',\n",
       " 'Mr. Ban, a former South Korean foreign minister, was the only candidate after the UN Security Council unanimously recommended his re-election. Critics say he is too deferential to major powers, but he has won praise for his policies on climate change and the protests sweeping the Middle East. He took over at the UN in 2007.',\n",
       " 'By Julian O\\'NeillBBC News NI Business Correspondent PwC says the £1bn windfall \"will alleviate some immediate problems.\" But the continued absence of a power-sharing government at Stormont puts strategies designed to improve the local economy at risk, it adds. Its latest Northern Ireland outlook report forecasts economic growth of 1% this year. The supply and confidence arrangement between the two parties to prop up Theresa May\\'s minority',\n",
       " 'He landed in Abu Dhabi, where he was greeted by Crown Prince Sheikh Mohammed bin Zayed al-Nahyan. The Pope will take part in an interfaith conference on Monday and on Tuesday hold Mass, at which 120,000 people are expected to attend. Before leaving, he expressed concern about the war in Yemen, in which the UAE is engaged.',\n",
       " \"- Shetland has had around a third of the UK's offshore oil from waters around it. - It could expect to have roughly half. - Shetlanders are spending the wealth on themselves, investing in their own industries. - They have one of the lowest council tax rates in Scotland. - The Norwegians have taken a different approach, partly because they had to. - They have set themselves strict limits on how much can be extracted.\",\n",
       " \"Deputies will be asked to choose between three options for how it could work at their June meeting. The States Assembly and Constitution Committee came up with the choices after a public consultation. Under the current system, the island is divided into seven electoral districts which each elects members of the island's government. The first option would see all 45 deputies elected via an island-wide vote every four years, meaning all voters pick from the same list of candidates.\",\n",
       " \"The estates of Tom Petty and Tupac Shakur, bands Soundgarden and Hole, and singer Steve Earle sued for damages. It was alleged music was lost in the fire. Most later dropped their claims when it was demonstrated they suffered no loss. Only Petty's ex-wife Jane was still involved, but a judge on Monday said she had not filed enough evidence. Judge John A Kronstadt, sitting in a California court, dismissed the case.\",\n",
       " 'Andrew Culture said he was disappointed that plans for a £12m arts center on the site of Ipswich Museum did not include provision for live music. He said: \"It\\'s a shame that again original live music seems to have been overlooked. For years, people have been after a mid-sized venue in Ipswich.\" Ipswich Borough Council said it would be happy to discuss his ideas. Mr Culture plays in the bands These Are End Times and Ze.',\n",
       " \"Matthew Cassidy, 19, from Merseyside, died after he was knifed nine times in the stairwell of a block of flats in Connah's Quay, Flintshire, on 29 May. Mold Crown Court heard drug-gang leader David Woods was later covertly recorded admitting he had murdered Mr Cassidy. Mr Woods, 20, of Liverpool, and Leslie Baines,\",\n",
       " 'Theresa May met the Iranian president for talks at the United Nations in New York on Tuesday. Mrs May told Hassan Rouhani she had \"serious concerns\" about Mrs Zaghari-Ratcliffe\\'s imprisonment. The British-Iranian was jailed for five years in 2016 after being convicted of spying, which she denies. Foreign Secretary Jeremy Hunt also had his first face-to-face meeting with Iranian President Hassan Rouhani.',\n",
       " 'By News from Elsewhere...as found by BBC Monitoring According to the Asahi Shimbun newspaper, Kansai International Airport in Osaka Prefecture is going to start offering travelers ballpoint pens, notebooks, and similar small gifts if they turn their unwanted suitcases over to staff on the departure floor. The paper says that the airport has been finding sometimes as many as 10 suitcases a day discarded outside bins, or around',\n",
       " 'Stones and driftwood are the foundations of his work near his home in Torquay, Devon. The 26-year-old started making the sculptures about 12 years ago while still at school. \"I never had an X-box, and I am always happy when I\\'m outside,\" he says. \"I read some books about [British sculptor] Andy Goldsworthy, and it just became a hobby. \"Grow',\n",
       " 'Rockland County, on the Hudson river north of New York City, has barred unvaccinated children from public spaces after 153 cases were confirmed. Violating the order will be punishable by a fine of $500 (£378) and up to six months in prison. The announcement follows other outbreaks of the disease in Washington, California, Texas, and Illinois.',\n",
       " 'By Andy Bell & Dan BoxBBC News It comes as police warn such crimes are at \"epidemic\" levels, with Greater Manchester Police (GMP) receiving reports of about 1,000 victims a month. Detectives fear the true figure may be up to 10 times higher as many fraud victims never come forward. Det Con Craig Moylon said: \"It\\'s the volume crime of the 21st Century.\"',\n",
       " 'The studio also confirmed a Mary Poppins sequel, starring Emily Blunt, and a 101 Dalmatians spin-off, Cruella. The Mary Poppins film will also star Lin-Manuel Miranda, who wrote and performed in the Broadway hit, Hamilton. A Tim Burton-directed Dumbo and a \"Tinker Bell project\" starring Reese Witherspoon are also in development.',\n",
       " 'Mayor Mike Signer said the rally against the removal of Confederate monuments \"harkens back to the days of the KKK\" - the white supremacist group. Protesters are upset over the city\\'s decision to remove statues honoring the losing side of the US Civil War. More than 100 people attended a counter-protest the following night.',\n",
       " 'Fu Xuejie shared a picture of the boy on the messaging app WeChat, calling him a \"final gift\" from Dr. Li. Dr. Li was arrested by authorities for \"spreading rumors,\" and later died after catching the virus. After a public outcry over his death, he was exonerated and honoured as a hero by the government. His widow, Mrs. Fu, now has two sons with her late husband.',\n",
       " 'Saudi native Manal al-Sharif said she had been receiving death threats online ahead of the ban\\'s removal. She was speaking after several activists in the kingdom were arrested. They have been accused of being \"traitors\" and working with foreign powers - charges Amnesty International called \"blatant intimidation tactics.\" The group is accused of \"contact with foreign entities with the aim of undermining the country\\'s stability and social fabric.\"',\n",
       " \"The UK's biggest retailer has given some staff a smartphone app to use at a store at the company's headquarters. They use the app to scan barcodes on the products they want and then pay, with no trip to a till needed. Co-op is experimenting with similar technology, and Amazon already has a checkout-free grocery store in Seattle that is open to the public. Tesco says its experiment is at a very early stage, but it is concerned that\",\n",
       " 'By Konul Khalilova BBC Central Asia & Caucasus Service Oil giant BP has been heavily involved in energy projects in Azerbaijan since 1997 and operates the Baku-Tbilisi-Ceyhan export pipeline, which carries Caspian crude oil to European markets via Turkey. However, non-governmental organizations (NGOs) in Azerbaijan have long challenged BP over the environmental',\n",
       " 'Non-swimmer Richard Manning, 66, originally of Somerset but living in Tudweiliog, died after the raft capsized on the swollen River Dalaman. The Somerset coroner recorded a narrative verdict that Mr Manning drowned after being knocked unconscious when the raft capsized in October 2009. Michael Rose said guides had taken an \"unreasonable risk.\"',\n",
       " \"Under the five-year deal, Wood Group PSN (WGPSN) will provide engineering, procurement, and construction management services for eight platforms. The contract will lead to the creation of about 200 new jobs. The announcement comes just a week after Wood Group secured a £100m North Sea services deal from Nexen. The Azerbaijan contract builds on Aberdeen-based Wood Group's continued support of BP-operated North Sea fields.\",\n",
       " \"Adam Stokes, 11, and his brother Matthew, five, died at their home in Leicestershire along with their father David Stokes. No arrests have been made, and police are not looking for anyone else in connection with the deaths. The service was at St Mary's Church in Hinckley, where the boys lived. It is almost eight months since the boys died on 2 November, and their bereaved mother, Sally Stokes, said:\",\n",
       " 'Children\\'s minister Edward Timpson has written to the authority to express his \"great concern\" over a failure to improve its \"inadequate\" Ofsted ratings. The director of children\\'s services, Peter Lewis, left his role after \"faster improvement\" failed to happen. The Department for Education said the failures were \"very serious\".',\n",
       " 'By Sarah DickinsBBC Wales economics correspondent Former minister Guto Bebb believes deprived areas which currently miss out should qualify under the planned UK Shared Prosperity Fund. Although details about the fund are not expected until 2020, it is likely to see the map which sets west Wales and the Valleys as priority areas torn up. Both UK and Welsh Government ministers say they favor a focus on need.',\n",
       " '---',\n",
       " 'The government confirmed that the speech, which sets out its priorities, will take place next Wednesday. Nigel Dodds said that the speech was \"not relevant\" to their negotiations. His comments came after Northern Ireland\\'s main parties held talks with Theresa May. The DUP, Sinn Féin, the Ulster Unionist Party (UUP), Alliance, and the Social Democratic and Labour Party (SDLP) had separate meetings with Mrs. May.',\n",
       " \"Macclesfield Town midfielder Richard Butcher was discovered dead at his flat in Swinton, Salford, in January. The Northampton-born player, 29, had suffered chest pains for the past three years, Bolton Coroner's Court heard. In a narrative verdict, assistant deputy coroner Peter Watson said Mr Butcher died from natural causes due to a naturally occurring heart condition.\",\n",
       " 'By Mark WardTechnology correspondent, BBC News Best known for creating the Baygen wind-up radio, Mr Baylis was honoured for services to intellectual property. Throughout his colorful life, which involved a stint as a stuntman, Mr Baylis has spent much of his time inventing or involved with engineering. Most recently, he has campaigned to make the UK a more hospitable place for inventors and is seeking to help them safeguard their creations.',\n",
       " 'Peter Turner, 80, of Redcar, admitted 14 charges, including indecent assault, gross indecency, and another serious sexual offence. The offences took place at Ampleforth College, North Yorkshire, and a parish in Cumbria between 1984 and 1990. North Yorkshire Police said Turner was \"clearly a very depraved individual.\" Sentencing him at York Crown Court, Judge Sean Morris said: \"',\n",
       " 'In England and Wales, there are now 27 flood warnings, indicating flooding is expected, and 34 flood alerts, meaning flooding is possible. BBC forecasters have said the worst of the rain is now over. Meanwhile, North Wales Police are conducting an investigation after the bodies of a young couple were discovered in a Wrexham river. Alicia Williams and David Platt, who were both 25, and from Ruabon, were',\n",
       " 'By Michael BaggsNewsbeat reporter Sean revealed that he went through a difficult period last year around his 30th birthday. He says that around that time, he realized he was facing issues which needed \"special attention\" and had therapy for his problems. \"I wasn\\'t feeling like myself, and I couldn\\'t figure out why,\" he said on Instagram. \"I just felt lost - and I don\\'t know how I got there.\"',\n",
       " 'The document obtained by a US university describes the 1955 acquisition of the Nevada site for testing of the secret spy plane and also explains the site\\'s lingering association with UFOs and aliens. The remote patch of desert surrounding Groom Lake was chosen because it was adjacent to a nuclear testing facility. \"The U-2 was absolutely top secret,\" Chris Pocock, a British defense journalist and author of histories of the program, told the BBC.',\n",
       " 'Gagandip Singh, 21, was put in the boot before the vehicle was set ablaze in Blackheath last February. Harinder Shoker, 20, was convicted of murder while Darren Peters, also 20, was convicted of manslaughter. Mundill Mahil, 20, was convicted of causing grievous bodily harm. She and the men had denied murder.',\n",
       " \"The Life in the Ravines project, led by Natural England (NE), aims to tackle ash dieback and restore woodlands. The Peak District is dominated by ash, so without intervention the area could be devastated by the disease, said NE. Joe Alsop, from Natural England, said planting using drones had not been done on any of its sites in the Peak District before. 'Challenging' The project will focus on several woodlands and there\",\n",
       " \"Madagascar 3: Europe's Most Wanted took nearly $60.4 million (£38.8 million) over the weekend, according to studio estimates. Sci-fi thriller Prometheus, starring Noomi Rapace, Michael Fassbender, and Charlize Theron, debuted in second place with $50 million (£32.1 million). The film is rated R in the US, meaning under-17s.\",\n",
       " 'The group\\'s administrator said she had \"sleepless nights\" after the account was threatened with deletion. The social media giant has since accepted the wording it targeted was used in a culinary context. Facebook blamed the ban threat on a technical error. Members of the Pensnett, Brierley Hill, and Black Country Now And Then History Group had been discussing minced pork liver and heart wrapped in bacon when the algorithm picked it up.',\n",
       " 'The data showed a \"worrying trend\" of part-time, female, and young workers being most likely to earn below the figure, researchers found. The living wage, promoted by the Living Wage Foundation, is currently £7.85 an hour and £9.15 in London. It is not compulsory for employers to pay it. However, the government said it was \"determined to move to a higher wage economy.\"',\n",
       " 'No more countries will be added to the green list, and Portugal will be relegated to amber from next Tuesday. A government announcement on the changes to its holiday traffic light system is due later on Thursday. But already, critics have warned of a further hit to jobs and confidence, while airline Easyjet said the government had torn up its own rules.',\n",
       " 'At 18 years old, Shakira was \"very elderly\" for a big cat and had been on medication for a few weeks while her health deteriorated, Paignton Zoo said. She was a critically endangered Sumatran tiger, with fewer than 400 thought to be left in the wild. The announcement comes a day before the zoo was planning to reopen to the public on Thursday.',\n",
       " 'James Shears, 35, and Alan Bannon, 38, died tackling the fire at Shirley Towers, Southampton, on 6 April 2010. The Health and Safety Executive, police, and fire service are all investigating. The Fire Brigades Union (FBU) is also conducting an inquiry. Meanwhile, it emerged UK fire service practices were changed after the blaze.',\n",
       " \"It concluded that it could not be certain the Gatwick slots would be safeguarded under the proposed plans. It was also not sure the combined airline would become, and remain, profitable in the long-term. The two sides had been undergoing due diligence checks, but no confidential information had been exchanged. Cabernet Limited - which owns Aurigny Air Services and Anglo Normandy Aeroengineering - and Blue Islands were informed of the department's findings.\",\n",
       " 'Andre Gayle, 29, died in hospital on Wednesday from multiple stab wounds, two days after being attacked near Easton Community Centre. A 23-year-old man has been arrested on suspicion of murder and is in custody. Seven people in total have now been arrested over the killing, a force spokesman said.',\n",
       " 'Kemi Badenoch said her \"foolish prank\" took place more than 10 years ago before she was elected to Parliament. The 38-year-old became MP for Saffron Walden in the 2017 election and in January was appointed the Conservative Party\\'s vice-chairwoman for candidates. Former minister for women Liz Harman said on Twitter she had received a written apology from Mrs Badenoch.',\n",
       " 'The money was awarded as the region\\'s hospitals were granted Biomedical Research Centre status, in what has been described as a \"landmark moment.\" It will be used to drive forward research into cancer, respiratory disease, and other serious conditions, and millions of people will benefit, the region\\'s NHS trusts said. In April, Greater Manchester became the first English region to gain control of its health spending as part of an extension of devolved powers.']"
      ]
     },
     "execution_count": 13,
     "metadata": {},
     "output_type": "execute_result"
    }
   ],
   "source": [
    "output_lst"
   ]
  },
  {
   "cell_type": "code",
   "execution_count": 14,
   "metadata": {},
   "outputs": [],
   "source": [
    "out_file = open(\"/home/mlynatom/data/claim_extraction/llama2_claims_fixed_xl.txt\", \"w\")\n",
    "#out_file = open(\"/home/mlynatom/data/claim_extraction/llama2_finetuned_claims_fixed_xl.txt\", \"w\")\n",
    "out_file.writelines(line + \"\\n\" for line in output_lst)\n",
    "out_file.close()"
   ]
  },
  {
   "cell_type": "markdown",
   "metadata": {},
   "source": [
    "## 2. Evaluate Fluency"
   ]
  },
  {
   "cell_type": "code",
   "execution_count": 62,
   "metadata": {},
   "outputs": [],
   "source": [
    "import matplotlib.pyplot as plt\n",
    "from minineedle import needle, smith, core\n",
    "import jellyfish"
   ]
  },
  {
   "cell_type": "markdown",
   "metadata": {},
   "source": [
    "### llama2"
   ]
  },
  {
   "cell_type": "code",
   "execution_count": 28,
   "metadata": {},
   "outputs": [],
   "source": [
    "sentences = load_file(\"/home/mlynatom/data/claim_extraction/llama2_claims.txt\")\n",
    "fixed_sentences = load_file(\"/home/mlynatom/data/claim_extraction/llama2_claims_fixed.txt\")"
   ]
  },
  {
   "cell_type": "markdown",
   "metadata": {},
   "source": [
    "### llama2 finetuned"
   ]
  },
  {
   "cell_type": "code",
   "execution_count": 14,
   "metadata": {},
   "outputs": [],
   "source": [
    "sentences = load_file(\"/home/mlynatom/data/claim_extraction/llama2_finetuned_claims.txt\")\n",
    "fixed_sentences = load_file(\"/home/mlynatom/data/claim_extraction/llama2_finetuned_claims_fixed.txt\")"
   ]
  },
  {
   "cell_type": "markdown",
   "metadata": {},
   "source": [
    "### llama2 coeditxl"
   ]
  },
  {
   "cell_type": "code",
   "execution_count": 29,
   "metadata": {},
   "outputs": [],
   "source": [
    "sentences = load_file(\"/home/mlynatom/data/claim_extraction/llama2_claims.txt\")\n",
    "fixed_sentences2 = load_file(\"/home/mlynatom/data/claim_extraction/llama2_claims_fixed_xl.txt\")"
   ]
  },
  {
   "cell_type": "markdown",
   "metadata": {},
   "source": [
    "### llama2 finetuned coeditxl"
   ]
  },
  {
   "cell_type": "code",
   "execution_count": 15,
   "metadata": {},
   "outputs": [],
   "source": [
    "sentences = load_file(\"/home/mlynatom/data/claim_extraction/llama2_finetuned_claims.txt\")\n",
    "fixed_sentences = load_file(\"/home/mlynatom/data/claim_extraction/llama2_finetuned_claims_fixed_xl.txt\")"
   ]
  },
  {
   "cell_type": "markdown",
   "metadata": {},
   "source": [
    "### view data"
   ]
  },
  {
   "cell_type": "code",
   "execution_count": 10,
   "metadata": {},
   "outputs": [
    {
     "data": {
      "text/plain": [
       "['Ford has warned it could cut up to 1,700 jobs at its Bridgend engine plant in south Wales.',\n",
       " 'A former Barclays executive on trial for fraud has told the jury he was \"far removed from the top\" and had no decision-making authority.',\n",
       " 'A Conservative councillor who opened a bar without planning permission has been found to have breached the code of conduct.',\n",
       " 'Diseases carried by commercial bees could be a threat to wild pollinators, a study suggests.',\n",
       " 'The leader of a Devon council has been sacked by his own party.',\n",
       " \"Two Iranian footballers have been banned for life after appearing to squeeze each other's bottoms during a match.\",\n",
       " 'A former soldier who was detained and threatened with deportation to Fiji has been granted the right to stay in the UK.',\n",
       " 'A masterplan to revitalise a town centre has been given the go-ahead by councillors.',\n",
       " 'Children are having too many teeth removed because of tooth decay, a report has found.',\n",
       " 'The number of opioid painkillers prescribed in England and Wales has more than doubled in the past 15 years, BBC News has found.',\n",
       " 'The introduction of minimum unit pricing (MUP) in Scotland has led to a 3.6% drop in the amount of alcohol sold, according to new figures.',\n",
       " \"About 100 people have protested against a speech by the leader of France's far-right Front National party at Oxford University.\",\n",
       " 'A British child has been repatriated from Syria, the government has confirmed.',\n",
       " 'Rowan Atkinson has applied for planning permission to build a £10m home in Oxfordshire.',\n",
       " 'Nine people have been arrested after a protest against lockdown restrictions in Birmingham.',\n",
       " 'A young woman who became a carer for her mother after her father died has written a book about her experience.',\n",
       " 'French President Emmanuel Macron has tested positive for Covid-19, his office has said.',\n",
       " 'Power cuts caused by Storm Abigail have affected more than 20,000 homes and businesses in Scotland.',\n",
       " 'Leeds is to be placed under new coronavirus restrictions from Saturday, the city council has said.',\n",
       " 'Microsoft has unveiled a new version of its Skype software that can run in the background on Windows 8 devices without draining their batteries.',\n",
       " 'The UK is to make a \"moral case\" for girls\\' education as a key part of its presidency of the G7 group of rich nations.',\n",
       " \"Producer Judy Craymer has donated £1 million to the Theatres Trust's Theatres Protection Fund.\",\n",
       " 'The SNP has lost two of its MPs in the general election, with former party leader Alex Salmond and Westminster leader Angus Robertson both losing their seats.',\n",
       " 'Adele has been nominated for two Ivor Novello awards, including one for her songwriting.',\n",
       " 'A new campaign has been launched to encourage people to visit Edinburgh city centre.',\n",
       " 'The first passenger flight in Wales took off from Llandrindod Wells in 1913.',\n",
       " 'A growing number of shops are opening in Wales which sell goods without packaging.',\n",
       " 'Chester Zoo has said it is \"very relieved\" that it will be able to reopen to the public on Monday.',\n",
       " 'The number of people waiting more than 36 weeks for treatment in Wales has risen by 1,000 in the last month.',\n",
       " 'Northern Ireland is on course to break the world record for the longest period without a government in a democracy.',\n",
       " 'More than a quarter of new university students in Scotland have previously attended college.',\n",
       " 'A new BBC documentary series which follows the lives of islanders in the Outer Hebrides has been described as a \"golden chance\" to promote tourism.',\n",
       " \"Northern Ireland's Covid-19 tracing app has been downloaded more than 225,000 times since its launch in July.\",\n",
       " 'Three people have been arrested after climbing a drilling rig at a fracking site in North Yorkshire.',\n",
       " \"A new body has been set up to scrutinise the work of Suffolk's police and crime commissioner (PCC).\",\n",
       " 'A hen party has been left devastated after a Brighton holiday home company went bust.',\n",
       " 'Aston Martin has announced it will make all its electric cars in the UK, in a boost to the UK car industry.',\n",
       " 'It is \"very unlikely\" that employers can force staff to have a coronavirus vaccine, the justice secretary has said.',\n",
       " 'Ireland is holding a referendum on 22 May on whether to allow same-sex marriage.',\n",
       " \"The Scottish Conservative MP Douglas Ross has said he will stand to become the party's new leader.\",\n",
       " 'A former councillor has admitted a string of sex offences against boys and a man.',\n",
       " 'A new way to donate to street performers has been launched in London.',\n",
       " 'A new business park could be built on the site of County Hall in Durham.',\n",
       " \"Thailand's military government has won a mandate to continue its control of the country for at least another five years.\",\n",
       " 'Hornby chief executive Ian Cooke is to leave the toy firm after just over a year in the role.',\n",
       " 'Flooding has caused chaos across Wales, with people rescued from cars and pubs flooded for the third time in three weeks.',\n",
       " 'Plans for a new concert venue in Bristol have been revised to include a shuttle bus service to the railway station.',\n",
       " 'The Bronx is one of the most deprived areas of New York City.',\n",
       " 'A council is to send letters to people who have failed to return library books to a private debt collection agency.',\n",
       " \"Scientists have created the first ever human neurons from people with Parkinson's disease.\",\n",
       " 'The number of visitors to Northern Ireland rose by 10% in the first quarter of 2013 compared to the same period last year.',\n",
       " 'A group of US politicians has written to Lancashire County Council urging it to reject plans for fracking.',\n",
       " 'A memorial service has been held for the 11 men who died when a vintage jet crashed into a busy road in West Sussex.',\n",
       " 'A woman who stole £77,000 from her family firm to fund her gambling addiction has been jailed.',\n",
       " 'A Dorset council has announced it will have to make £8.4m of cuts to its budget this year.',\n",
       " 'The family of a man who died after being restrained by police have said they feel \"betrayed\" by the decision not to prosecute any officers.',\n",
       " 'UN Secretary General Ban Ki-moon has been re-elected to a second five-year term.',\n",
       " 'The £1bn extra spending commitment from the UK government to Northern Ireland is a \"welcome boost\", according to a new report.',\n",
       " 'Pope Francis has arrived in the United Arab Emirates (UAE) for a three-day visit, the first ever by a pontiff to the Arabian Peninsula.',\n",
       " 'The Shetland Islands have been a bonanza for the UK economy. But what has it done for Shetland?',\n",
       " 'The States of Jersey will be asked to decide whether to scrap the current electoral system or keep it with some changes.',\n",
       " 'A judge has dismissed a lawsuit brought by a group of artists who claimed they lost millions of dollars in music after a fire at a Universal Music Group warehouse.',\n",
       " 'A musician has launched a campaign to create an arts centre in Ipswich.',\n",
       " 'A man who was stabbed to death in a block of flats was killed by a gang leader who wanted to \"kill the kid\", a court has heard.',\n",
       " \"The prime minister has raised the case of a British-Iranian woman jailed in Iran with the country's president.\",\n",
       " 'A Japanese airport is offering travellers small gifts if they hand over their unwanted suitcases.',\n",
       " 'Sam Bennett is a beach artist who creates sculptures from stones and driftwood.',\n",
       " 'A county in New York state has banned unvaccinated children from public spaces in an attempt to stop the spread of measles.',\n",
       " 'A woman who lost hundreds of thousands of pounds to a fraudster posing as actor Jason Statham has told how she was \"star-struck\" by the scam.',\n",
       " 'Disney has announced a raft of new live-action films based on its classic animated films, including a sequel to The Jungle Book.',\n",
       " \"A torch-lit rally by white nationalists in the US state of Virginia has been condemned by the city's mayor.\",\n",
       " 'A Chinese woman has shared a photo of her newborn son, who was born after her husband died from coronavirus.',\n",
       " 'Saudi Arabia\\'s decision to lift its ban on women driving has been met with a \"vicious\" online campaign against activists, a campaigner has said.',\n",
       " 'Tesco is testing a checkout-free store in a bid to speed up the shopping experience.',\n",
       " 'The Gulf of Mexico oil spill has raised concerns about the safety of offshore drilling in the Caspian Sea.',\n",
       " 'A man drowned after a raft trip in Turkey despite being told he could not swim, an inquest has heard.',\n",
       " \"Wood Group has secured a £100m contract to provide engineering services for BP's Azeri-Chirag-Guneshli (ACG) project in the Caspian Sea.\",\n",
       " 'A service of thanksgiving has been held for two brothers who were stabbed to death with their father in their home.',\n",
       " \"The government has summoned Somerset County Council to a meeting after it failed to improve children's services.\",\n",
       " 'The UK government has been urged to rethink the way it allocates funding to areas of Wales which have been historically under-funded.',\n",
       " \"Penny Eggebrecht's aunt was being conned by a scam mail company.\",\n",
       " 'The DUP has said it is \"not relevant\" to their talks with the government that the prime minister will give a speech next week.',\n",
       " 'A footballer who died suddenly had suffered from a heart condition for three years, an inquest has heard.',\n",
       " \"A man who invented the Baygen wind-up radio has been awarded a CBE in the Queen's Birthday Honours.\",\n",
       " 'A former monk and priest who sexually abused three boys has been jailed for a total of 15 years.',\n",
       " 'The number of homes flooded in England and Wales has risen to 570, the Environment Agency (EA) has said.',\n",
       " 'US rapper Big Sean has spoken about his mental health issues and how he overcame them.',\n",
       " 'The CIA has confirmed the existence of Area 51, the secretive US military base in Nevada that has long been the subject of conspiracy theories.',\n",
       " 'Three men have been convicted of murdering a Sikh man who was lured to his death in a revenge plot.',\n",
       " 'A project to plant 200,000 trees in the Peak District is to trial using drones to plant seeds.',\n",
       " 'The third instalment of the Madagascar franchise has topped the US box office, taking $60.3 million (£38.8 million) in its opening weekend.',\n",
       " 'A Facebook group dedicated to Black Country history has been threatened with deletion after members used the word \"faggots\" in a post.',\n",
       " 'The number of people earning less than the living wage has risen for the third year in a row, according to new figures.',\n",
       " 'Portugal is to be moved from the green to the amber list of countries for travel from England, the government has announced.',\n",
       " 'A tiger has been put down at a Devon zoo after it was found to be suffering from a \"serious illness\".',\n",
       " 'A two-minute silence has been held to mark the first anniversary of the deaths of two firefighters in a tower block fire in Southampton.',\n",
       " 'The States of Guernsey has decided not to sell Aurigny to a consortium of two other Channel Islands airlines.',\n",
       " 'A 23-year-old man has been arrested on suspicion of murdering a man who was stabbed to death in Bristol.',\n",
       " \"A Conservative Party vice-chairwoman has apologised for hacking into a Labour MP's website and changing it to say nice things about Tories.\",\n",
       " \"A £28.5m grant has been awarded to Greater Manchester's NHS trusts to fund research into cancer, respiratory disease and other serious conditions.\"]"
      ]
     },
     "execution_count": 10,
     "metadata": {},
     "output_type": "execute_result"
    }
   ],
   "source": [
    "sentences"
   ]
  },
  {
   "cell_type": "code",
   "execution_count": 30,
   "metadata": {},
   "outputs": [],
   "source": [
    "import numpy as np\n",
    "fixed_sentences = np.array(fixed_sentences)\n",
    "fixed_sentences2 = np.array(fixed_sentences2)\n",
    "sentences = np.array(sentences)\n",
    "bool_ind = np.array(fixed_sentences) != np.array(fixed_sentences2)"
   ]
  },
  {
   "cell_type": "code",
   "execution_count": 43,
   "metadata": {},
   "outputs": [
    {
     "data": {
      "text/plain": [
       "'No more countries will be added to the green list and Portugal will be relegated to amber from next Tuesday. A government announcement on the changes to its holiday traffic light system is due later on Thursday. But already critics have warned of a further hit to jobs and confidence, while airline Easyjet said the government had torn up its own rules. Moving Portugal from the green to the amber list was a \"safety first approach\" to'"
      ]
     },
     "execution_count": 43,
     "metadata": {},
     "output_type": "execute_result"
    }
   ],
   "source": [
    "sentences[bool_ind][-5]"
   ]
  },
  {
   "cell_type": "code",
   "execution_count": 44,
   "metadata": {},
   "outputs": [
    {
     "data": {
      "text/plain": [
       "'No more countries will be added to the green list, and Portugal will be relegated to amber from next Tuesday. A government announcement on the changes to its holiday traffic light system is due later on Thursday. But already critics have warned of a further hit to jobs and confidence, while airline Easyjet said the government had torn up its own rules.'"
      ]
     },
     "execution_count": 44,
     "metadata": {},
     "output_type": "execute_result"
    }
   ],
   "source": [
    "fixed_sentences[bool_ind][-5]"
   ]
  },
  {
   "cell_type": "code",
   "execution_count": 45,
   "metadata": {},
   "outputs": [
    {
     "data": {
      "text/plain": [
       "'No more countries will be added to the green list, and Portugal will be relegated to amber from next Tuesday. A government announcement on the changes to its holiday traffic light system is due later on Thursday. But already, critics have warned of a further hit to jobs and confidence, while airline Easyjet said the government had torn up its own rules.'"
      ]
     },
     "execution_count": 45,
     "metadata": {},
     "output_type": "execute_result"
    }
   ],
   "source": [
    "fixed_sentences2[bool_ind][-5]"
   ]
  },
  {
   "cell_type": "code",
   "execution_count": 11,
   "metadata": {},
   "outputs": [
    {
     "data": {
      "text/plain": [
       "['Ford has warned it could cut up to 1,700 jobs at its Bridgend engine plant in south Wales.',\n",
       " 'A former Barclays executive on trial for fraud has told the jury he was \"far removed from the top\" and had no decision-making authority.',\n",
       " 'A Conservative councillor who opened a bar without planning permission has been found to have breached the code of conduct.',\n",
       " 'Diseases carried by commercial bees could be a threat to wild pollinators, a study suggests.',\n",
       " 'The leader of a Devon council has been sacked by his own party.',\n",
       " \"Two Iranian footballers have been banned for life after appearing to squeeze each other's bottoms during a match.\",\n",
       " 'A former soldier who was detained and threatened with deportation to Fiji has been granted the right to stay in the UK.',\n",
       " 'A masterplan to revitalise a town center has been given the go-ahead by councillors.',\n",
       " 'Children are having too many teeth removed because of tooth decay, a report has found.',\n",
       " 'The number of opioid painkillers prescribed in England and Wales has more than doubled in the past 15 years, BBC News has found.',\n",
       " 'The introduction of minimum unit pricing (MUP) in Scotland has led to a 3.6% drop in the amount of alcohol sold, according to new figures.',\n",
       " \"About 100 people have protested against a speech by the leader of France's far-right Front National party at Oxford University.\",\n",
       " 'A British child has been repatriated from Syria, the government has confirmed.',\n",
       " 'Rowan Atkinson has applied for planning permission to build a £10m home in Oxfordshire.',\n",
       " 'Nine people have been arrested after a protest against lockdown restrictions in Birmingham.',\n",
       " 'A young woman who became a carer for her mother after her father died has written a book about her experience.',\n",
       " 'French President Emmanuel Macron has tested positive for Covid-19, his office has said.',\n",
       " 'Power cuts caused by Storm Abigail have affected more than 20,000 homes and businesses in Scotland.',\n",
       " 'Leeds is to be placed under new coronavirus restrictions from Saturday, the city council has said.',\n",
       " 'Microsoft has unveiled a new version of its Skype software that can run in the background on Windows 8 devices without draining their batteries.',\n",
       " 'The UK is to make a \"moral case\" for girls\\' education as a key part of its presidency of the G7 group of rich nations.',\n",
       " \"Producer Judy Craymer has donated £1 million to the Theatres Trust's Theatres Protection Fund.\",\n",
       " 'The SNP has lost two of its MPs in the general election, with former party leader Alex Salmond and Westminster leader Angus Robertson both losing their seats.',\n",
       " 'Adele has been nominated for two Ivor Novello awards, including one for her songwriting.',\n",
       " 'A new campaign has been launched to encourage people to visit Edinburgh city center.',\n",
       " 'The first passenger flight in Wales took off from Llandrindod Wells in 1913.',\n",
       " 'A growing number of shops are opening in Wales which sell goods without packaging.',\n",
       " 'Chester Zoo has said it is \"very relieved\" that it will be able to reopen to the public on Monday.',\n",
       " 'The number of people waiting more than 36 weeks for treatment in Wales has risen by 1,000 in the last month.',\n",
       " 'Northern Ireland is on course to break the world record for the longest period without a government in a democracy.',\n",
       " 'More than a quarter of new university students in Scotland have previously attended college.',\n",
       " 'A new BBC documentary series that follows the lives of islanders in the Outer Hebrides has been described as a \"golden chance\" to promote tourism.',\n",
       " \"Northern Ireland's Covid-19 tracing app has been downloaded more than 225,000 times since its launch in July.\",\n",
       " 'Three people have been arrested after climbing a drilling rig at a fracking site in North Yorkshire.',\n",
       " \"A new body has been set up to scrutinize the work of Suffolk's police and crime commissioner (PCC).\",\n",
       " 'A hen party has been left devastated after a Brighton holiday home company went bust.',\n",
       " 'Aston Martin has announced it will make all its electric cars in the UK, in a boost to the UK car industry.',\n",
       " 'It is \"very unlikely\" that employers can force staff to have a coronavirus vaccine, the justice secretary has said.',\n",
       " 'Ireland is holding a referendum on 22 May on whether to allow same-sex marriage.',\n",
       " \"The Scottish Conservative MP Douglas Ross has said he will stand to become the party's new leader.\",\n",
       " 'A former councillor has admitted a string of sex offences against boys and a man.',\n",
       " 'A new way to donate to street performers has been launched in London.',\n",
       " 'A new business park could be built on the site of County Hall in Durham.',\n",
       " \"Thailand's military government has won a mandate to continue its control of the country for at least another five years.\",\n",
       " 'Hornby chief executive Ian Cooke is to leave the toy firm after just over a year in the role.',\n",
       " 'Flooding has caused chaos across Wales, with people rescued from cars and pubs being flooded for the third time in three weeks.',\n",
       " 'Plans for a new concert venue in Bristol have been revised to include a shuttle bus service to the railway station.',\n",
       " 'The Bronx is one of the most deprived areas of New York City.',\n",
       " 'A council is to send letters to people who have failed to return library books to a private debt collection agency.',\n",
       " \"Scientists have created the first ever human neurons from people with Parkinson's disease.\",\n",
       " 'The number of visitors to Northern Ireland rose by 10% in the first quarter of 2013 compared to the same period last year.',\n",
       " 'A group of US politicians has written to Lancashire County Council urging it to reject plans for fracking.',\n",
       " 'A memorial service has been held for the 11 men who died when a vintage jet crashed into a busy road in West Sussex.',\n",
       " 'A woman who stole £77,000 from her family firm to fund her gambling addiction has been jailed.',\n",
       " 'A Dorset council has announced it will have to make £8.4m of cuts to its budget this year.',\n",
       " 'The family of a man who died after being restrained by police have said they feel \"betrayed\" by the decision not to prosecute any officers.',\n",
       " 'UN Secretary General Ban Ki-moon has been re-elected to a second five-year term.',\n",
       " 'The £1bn extra spending commitment from the UK government to Northern Ireland is a \"welcome boost,\" according to a new report.',\n",
       " 'Pope Francis has arrived in the United Arab Emirates (UAE) for a three-day visit, the first ever by a pontiff to the Arabian Peninsula.',\n",
       " 'The Shetland Islands have been a bonanza for the UK economy. But what has it done for Shetland?',\n",
       " 'The States of Jersey will be asked to decide whether to scrap the current electoral system or keep it with some changes.',\n",
       " 'A judge dismissed a lawsuit brought by a group of artists who claimed they lost millions of dollars in music after a fire at a Universal Music Group warehouse.',\n",
       " 'A musician has launched a campaign to create an arts center in Ipswich.',\n",
       " 'A man who was stabbed to death in a block of flats was killed by a gang leader who wanted to \"kill the kid,\" a court has heard.',\n",
       " \"The prime minister has raised the case of a British-Iranian woman jailed in Iran with the country's president.\",\n",
       " 'A Japanese airport is offering travellers small gifts if they hand over their unwanted suitcases.',\n",
       " 'Sam Bennett is a beach artist who creates sculptures from stones and driftwood.',\n",
       " 'A county in New York state has banned unvaccinated children from public spaces in an attempt to stop the spread of measles.',\n",
       " 'A woman who lost hundreds of thousands of pounds to a fraudster posing as actor Jason Statham has told how she was \"star-struck\" by the scam.',\n",
       " 'Disney has announced a raft of new live-action films based on its classic animated films, including a sequel to The Jungle Book.',\n",
       " \"A torch-lit rally by white nationalists in the US state of Virginia has been condemned by the city's mayor.\",\n",
       " 'A Chinese woman has shared a photo of her newborn son, who was born after her husband died from coronavirus.',\n",
       " 'Saudi Arabia\\'s decision to lift its ban on women driving has been met with a \"vicious\" online campaign against activists, a campaigner has said.',\n",
       " 'Tesco is testing a checkout-free store in a bid to speed up the shopping experience.',\n",
       " 'The Gulf of Mexico oil spill has raised concerns about the safety of offshore drilling in the Caspian Sea.',\n",
       " 'A man drowned after a raft trip in Turkey despite being told he could not swim, an inquest has heard.',\n",
       " \"The Wood Group has secured a £100m contract to provide engineering services for BP's Azeri-Chirag-Guneshli (ACG) project in the Caspian Sea.\",\n",
       " 'A service of thanksgiving was held for two brothers who were stabbed to death with their father in their home.',\n",
       " \"The government has summoned Somerset County Council to a meeting after it failed to improve children's services.\",\n",
       " 'The UK government has been urged to rethink the way it allocates funding to areas of Wales which have been historically under-funded.',\n",
       " \"Penny Eggebrecht's aunt was being conned by a scam mail company.\",\n",
       " 'The DUP has said it is \"not relevant\" to their talks with the government that the prime minister will give a speech next week.',\n",
       " 'A footballer who died suddenly had suffered from a heart condition for three years, an inquest has heard.',\n",
       " \"A man who invented the Baygen wind-up radio has been awarded a CBE in the Queen's Birthday Honours.\",\n",
       " 'A former monk and priest who sexually abused three boys has been jailed for a total of 15 years.',\n",
       " 'The number of homes flooded in England and Wales has risen to 570, the Environment Agency (EA) has said.',\n",
       " 'US rapper Big Sean has spoken about his mental health issues and how he overcame them.',\n",
       " 'The CIA has confirmed the existence of Area 51, a secretive US military base in Nevada that has long been the subject of conspiracy theories.',\n",
       " 'Three men have been convicted of murdering a Sikh man who was lured to his death in a revenge plot.',\n",
       " 'A project to plant 200,000 trees in the Peak District is to trial using drones to plant seeds.',\n",
       " 'The third instalment of the Madagascar franchise has topped the US box office, taking $60.3 million (£38.8 million) in its opening weekend.',\n",
       " 'A Facebook group dedicated to Black Country history has been threatened with deletion after members used the word \"faggots\" in a post.',\n",
       " 'The number of people earning less than the living wage has risen for the third year in a row, according to new figures.',\n",
       " 'Portugal is to be moved from the green to the amber list of countries for travel from England, the government has announced.',\n",
       " 'A tiger has been put down at a Devon zoo after it was found to be suffering from a \"serious illness.\"',\n",
       " 'A two-minute silence was held to mark the first anniversary of the deaths of two firefighters in a tower block fire in Southampton.',\n",
       " 'The States of Guernsey has decided not to sell Aurigny to a consortium of two other Channel Islands airlines.',\n",
       " 'A 23-year-old man has been arrested on suspicion of murdering a man who was stabbed to death in Bristol.',\n",
       " \"A Conservative Party vice-chairwoman has apologized for hacking into a Labour MP's website and changing it to say nice things about the Tories.\",\n",
       " \"A £28.5m grant has been awarded to Greater Manchester's NHS trusts to fund research into cancer, respiratory disease, and other serious conditions.\"]"
      ]
     },
     "execution_count": 11,
     "metadata": {},
     "output_type": "execute_result"
    }
   ],
   "source": [
    "fixed_sentences"
   ]
  },
  {
   "cell_type": "code",
   "execution_count": 13,
   "metadata": {},
   "outputs": [
    {
     "data": {
      "text/plain": [
       "['Ford has warned it could cut up to 1,700 jobs at its Bridgend engine plant in south Wales.',\n",
       " 'A former Barclays executive on trial for fraud told the jury he was \"far removed from the top\" and had no decision-making authority.',\n",
       " 'A Conservative councillor who opened a bar without planning permission has been found to have breached the code of conduct.',\n",
       " 'Diseases carried by commercial bees could be a threat to wild pollinators, a study suggests.',\n",
       " 'The leader of a Devon council has been sacked by his own party.',\n",
       " \"Two Iranian footballers have been banned for life after appearing to squeeze each other's bottoms during a match.\",\n",
       " 'A former soldier who was detained and threatened with deportation to Fiji has been granted the right to stay in the UK.',\n",
       " 'A masterplan to revitalise a town center has been given the go-ahead by councillors.',\n",
       " 'Children are having too many teeth removed because of tooth decay, a report has found.',\n",
       " 'The number of opioid painkillers prescribed in England and Wales has more than doubled in the past 15 years, BBC News has found.',\n",
       " 'The introduction of minimum unit pricing (MUP) in Scotland has led to a 3.6% drop in the amount of alcohol sold, according to new figures.',\n",
       " \"About 100 people protested against a speech by the leader of France's far-right Front National party at Oxford University.\",\n",
       " 'A British child has been repatriated from Syria, the government has confirmed.',\n",
       " 'Rowan Atkinson has applied for planning permission to build a £10m home in Oxfordshire.',\n",
       " 'Nine people have been arrested after a protest against lockdown restrictions in Birmingham.',\n",
       " 'A young woman who became a carer for her mother after her father died has written a book about her experience.',\n",
       " 'French President Emmanuel Macron has tested positive for Covid-19, his office has said.',\n",
       " 'Power cuts caused by Storm Abigail have affected more than 20,000 homes and businesses in Scotland.',\n",
       " 'Leeds is to be placed under new coronavirus restrictions from Saturday, the city council has said.',\n",
       " 'Microsoft has unveiled a new version of its Skype software that can run in the background on Windows 8 devices without draining their batteries.',\n",
       " 'The UK is to make a \"moral case\" for girls\\' education as a key part of its presidency of the G7 group of rich nations.',\n",
       " \"Producer Judy Craymer has donated £1 million to the Theatres Trust's Theatres Protection Fund.\",\n",
       " 'The SNP lost two of its MPs in the general election, with former party leader Alex Salmond and Westminster leader Angus Robertson both losing their seats.',\n",
       " 'Adele has been nominated for two Ivor Novello awards, including one for her songwriting.',\n",
       " 'A new campaign has been launched to encourage people to visit Edinburgh city center.',\n",
       " 'The first passenger flight in Wales took off from Llandrindod Wells in 1913.',\n",
       " 'A growing number of shops are opening in Wales which sell goods without packaging.',\n",
       " 'Chester Zoo said it is \"very relieved\" that it will be able to reopen to the public on Monday.',\n",
       " 'The number of people waiting more than 36 weeks for treatment in Wales has risen by 1,000 in the last month.',\n",
       " 'Northern Ireland is on course to break the world record for the longest period without a government in a democracy.',\n",
       " 'More than a quarter of new university students in Scotland have previously attended college.',\n",
       " 'A new BBC documentary series that follows the lives of islanders in the Outer Hebrides has been described as a \"golden chance\" to promote tourism.',\n",
       " \"Northern Ireland's Covid-19 tracing app has been downloaded more than 225,000 times since its launch in July.\",\n",
       " 'Three people have been arrested after climbing a drilling rig at a fracking site in North Yorkshire.',\n",
       " \"A new body has been set up to scrutinise the work of Suffolk's police and crime commissioner (PCC).\",\n",
       " 'A hen party has been left devastated after a Brighton holiday home company went bust.',\n",
       " 'Aston Martin has announced it will make all its electric cars in the UK, in a boost to the UK car industry.',\n",
       " 'It is \"very unlikely\" that employers can force staff to have a coronavirus vaccine, the justice secretary has said.',\n",
       " 'Ireland is holding a referendum on 22 May on whether to allow same-sex marriage.',\n",
       " \"The Scottish Conservative MP Douglas Ross has said he will stand to become the party's new leader.\",\n",
       " 'A former councillor has admitted a string of sex offences against boys and a man.',\n",
       " 'A new way to donate to street performers has been launched in London.',\n",
       " 'A new business park could be built on the site of County Hall in Durham.',\n",
       " \"Thailand's military government won a mandate to continue its control of the country for at least another five years.\",\n",
       " 'Hornby chief executive Ian Cooke is to leave the toy firm after just over a year in the role.',\n",
       " 'Flooding has caused chaos across Wales, with people rescued from cars and pubs flooded for the third time in three weeks.',\n",
       " 'Plans for a new concert venue in Bristol have been revised to include a shuttle bus service to the railway station.',\n",
       " 'The Bronx is one of the most deprived areas of New York City.',\n",
       " 'A council is to send letters to people who have failed to return library books to a private debt collection agency.',\n",
       " \"Scientists have created the first ever human neurons from people with Parkinson's disease.\",\n",
       " 'The number of visitors to Northern Ireland rose by 10% in the first quarter of 2013 compared to the same period last year.',\n",
       " 'A group of US politicians has written to Lancashire County Council urging it to reject plans for fracking.',\n",
       " 'A memorial service was held for the 11 men who died when a vintage jet crashed into a busy road in West Sussex.',\n",
       " 'A woman who stole £77,000 from her family firm to fund her gambling addiction has been jailed.',\n",
       " 'Dorset Council has announced it will have to make £8.4m of cuts to its budget this year.',\n",
       " 'The family of a man who died after being restrained by police have said they feel \"betrayed\" by the decision not to prosecute any officers.',\n",
       " 'UN Secretary-General Ban Ki-moon has been re-elected for a second five-year term.',\n",
       " 'The £1bn extra spending commitment from the UK government to Northern Ireland is a \"welcome boost,\" according to a new report.',\n",
       " 'Pope Francis has arrived in the United Arab Emirates (UAE) for a three-day visit, the first ever by a pontiff to the Arabian Peninsula.',\n",
       " 'The Shetland Islands have been a bonanza for the UK economy, but what has it done for Shetland?',\n",
       " 'The States of Jersey will be asked to decide whether to scrap the current electoral system or keep it with some changes.',\n",
       " 'A judge has dismissed a lawsuit brought by a group of artists who claimed they lost millions of dollars in music after a fire at a Universal Music Group warehouse.',\n",
       " 'A musician has launched a campaign to create an arts center in Ipswich.',\n",
       " 'A man who was stabbed to death in a block of flats was killed by a gang leader who wanted to \"kill the kid,\" a court has heard.',\n",
       " \"The prime minister has raised the case of a British-Iranian woman jailed in Iran with the country's president.\",\n",
       " 'A Japanese airport is offering travelers small gifts if they hand over their unwanted suitcases.',\n",
       " 'Sam Bennett is a beach artist who creates sculptures from stones and driftwood.',\n",
       " 'A county in New York state has banned unvaccinated children from public spaces in an attempt to stop the spread of measles.',\n",
       " 'A woman who lost hundreds of thousands of pounds to a fraudster posing as actor Jason Statham has told how she was \"star-struck\" by the scam.',\n",
       " 'Disney has announced a raft of new live-action films based on its classic animated films, including a sequel to The Jungle Book.',\n",
       " \"A torch-lit rally by white nationalists in the US state of Virginia has been condemned by the city's mayor.\",\n",
       " 'A Chinese woman has shared a photo of her newborn son, who was born after her husband died from coronavirus.',\n",
       " 'Saudi Arabia\\'s decision to lift its ban on women driving has been met with a \"vicious\" online campaign against activists, a campaigner has said.',\n",
       " 'Tesco is testing a checkout-free store in a bid to speed up the shopping experience.',\n",
       " 'The Gulf of Mexico oil spill has raised concerns about the safety of offshore drilling in the Caspian Sea.',\n",
       " 'A man drowned after a raft trip in Turkey despite being told he could not swim, an inquest has heard.',\n",
       " \"Wood Group has secured a £100m contract to provide engineering services for BP's Azeri-Chirag-Guneshli (ACG) project in the Caspian Sea.\",\n",
       " 'A service of thanksgiving was held for two brothers who were stabbed to death with their father in their home.',\n",
       " \"The government summoned Somerset County Council to a meeting after it failed to improve children's services.\",\n",
       " 'The UK government has been urged to rethink the way it allocates funding to areas of Wales which have been historically under-funded.',\n",
       " \"Penny Eggebrecht's aunt was being conned by a scam mail company.\",\n",
       " 'The DUP has said it is \"not relevant\" to their talks with the government that the prime minister will give a speech next week.',\n",
       " 'A footballer who died suddenly had suffered from a heart condition for three years, an inquest has heard.',\n",
       " \"A man who invented the Baygen wind-up radio has been awarded a CBE in the Queen's Birthday Honours.\",\n",
       " 'A former monk and priest who sexually abused three boys has been jailed for a total of 15 years.',\n",
       " 'The number of homes flooded in England and Wales has risen to 570, the Environment Agency (EA) has said.',\n",
       " 'US rapper Big Sean has spoken about his mental health issues and how he overcame them.',\n",
       " 'The CIA has confirmed the existence of Area 51, the secretive US military base in Nevada that has long been the subject of conspiracy theories.',\n",
       " 'Three men have been convicted of murdering a Sikh man who was lured to his death in a revenge plot.',\n",
       " 'A project to plant 200,000 trees in the Peak District is to trial using drones to plant seeds.',\n",
       " 'The third instalment of the Madagascar franchise has topped the US box office, taking $60.3 million (£38.8 million) in its opening weekend.',\n",
       " 'A Facebook group dedicated to Black Country history has been threatened with deletion after members used the word \"faggots\" in a post.',\n",
       " 'The number of people earning less than the living wage has risen for the third year in a row, according to new figures.',\n",
       " 'Portugal is to be moved from the green list of countries for travel from England, the government has announced.',\n",
       " 'A tiger has been put down at a Devon zoo after it was found to be suffering from a \"serious illness.\"',\n",
       " 'A two-minute silence was held to mark the first anniversary of the deaths of two firefighters in a tower block fire in Southampton.',\n",
       " 'The States of Guernsey have decided not to sell Aurigny to a consortium of two other Channel Islands airlines.',\n",
       " 'A 23-year-old man has been arrested on suspicion of murdering a man who was stabbed to death in Bristol.',\n",
       " \"A Conservative Party vice-chairwoman has apologised for hacking into a Labour MP's website and changing it to say nice things about the Tories.\",\n",
       " \"A £28.5m grant has been awarded to Greater Manchester's NHS trusts to fund research into cancer, respiratory disease, and other serious conditions.\"]"
      ]
     },
     "execution_count": 13,
     "metadata": {},
     "output_type": "execute_result"
    }
   ],
   "source": [
    "fixed_sentences"
   ]
  },
  {
   "cell_type": "code",
   "execution_count": 35,
   "metadata": {},
   "outputs": [],
   "source": [
    "output_lst=['He uses only one good car.',\n",
    " 'When I grow up, I will start to understand what he said is quite right.',\n",
    " 'They follow the way the sun goes from the east to the west.',\n",
    " 'I sat in the talk.',\n",
    " 'Did he write a letter?',\n",
    " 'I like the ice cream.',\n",
    " 'I like to play basketball.',\n",
    " 'I have not not read the book yet.',\n",
    " 'We met; they talked and left.',\n",
    " 'He will use a car.',\n",
    " 'He uses a good car.',\n",
    " 'Did he write a letter?']"
   ]
  },
  {
   "cell_type": "markdown",
   "metadata": {},
   "source": [
    "### Needleman–Wunsch algorithm"
   ]
  },
  {
   "cell_type": "code",
   "execution_count": 51,
   "metadata": {},
   "outputs": [],
   "source": [
    "s1 = sentences[1]\n",
    "s2 = fixed_sentences[1]\n",
    "\n",
    "s1 = \"He use car two good\"\n",
    "s2 = \"He uses two good cars.\"\n",
    "\n",
    "alignment: needle.NeedlemanWunsch[str] = needle.NeedlemanWunsch(s1, s2)"
   ]
  },
  {
   "cell_type": "code",
   "execution_count": 52,
   "metadata": {},
   "outputs": [],
   "source": [
    "alignment.align()"
   ]
  },
  {
   "cell_type": "code",
   "execution_count": 53,
   "metadata": {},
   "outputs": [
    {
     "data": {
      "text/plain": [
       "5"
      ]
     },
     "execution_count": 53,
     "metadata": {},
     "output_type": "execute_result"
    }
   ],
   "source": [
    "alignment.get_score()"
   ]
  },
  {
   "cell_type": "code",
   "execution_count": 54,
   "metadata": {},
   "outputs": [],
   "source": [
    "al1, al2 = alignment.get_aligned_sequences(core.AlignmentFormat.list)"
   ]
  },
  {
   "cell_type": "code",
   "execution_count": 55,
   "metadata": {},
   "outputs": [
    {
     "name": "stdout",
     "output_type": "stream",
     "text": [
      "Alignment of SEQUENCE 1 and SEQUENCE 2:\n",
      "\tHe use car two good------\n",
      "\tHe use---s two good cars.\n",
      "\n"
     ]
    }
   ],
   "source": [
    "print(alignment)"
   ]
  },
  {
   "cell_type": "markdown",
   "metadata": {},
   "source": [
    "### Smith-Waterman algorithm"
   ]
  },
  {
   "cell_type": "code",
   "execution_count": 57,
   "metadata": {},
   "outputs": [],
   "source": [
    "s1 = sentences[1]\n",
    "s2 = fixed_sentences[1]\n",
    "\n",
    "s1 = \"He use car two good\"\n",
    "s2 = \"He uses two good cars.\"\n",
    "\n",
    "alignment: smith.SmithWaterman[str] = smith.SmithWaterman(s1, s2)"
   ]
  },
  {
   "cell_type": "code",
   "execution_count": 58,
   "metadata": {},
   "outputs": [],
   "source": [
    "al1, al2 = alignment.get_aligned_sequences(core.AlignmentFormat.list)"
   ]
  },
  {
   "cell_type": "code",
   "execution_count": 60,
   "metadata": {},
   "outputs": [
    {
     "data": {
      "text/plain": [
       "11"
      ]
     },
     "execution_count": 60,
     "metadata": {},
     "output_type": "execute_result"
    }
   ],
   "source": [
    "alignment.get_score()"
   ]
  },
  {
   "cell_type": "code",
   "execution_count": 59,
   "metadata": {},
   "outputs": [
    {
     "name": "stdout",
     "output_type": "stream",
     "text": [
      "Alignment of SEQUENCE 1 and SEQUENCE 2:\n",
      "\tHe use car two good\n",
      "\tHe use---s two good\n",
      "\n"
     ]
    }
   ],
   "source": [
    "print(alignment)"
   ]
  },
  {
   "cell_type": "markdown",
   "metadata": {},
   "source": [
    "### Jaccard Similarity"
   ]
  },
  {
   "cell_type": "code",
   "execution_count": 6,
   "metadata": {},
   "outputs": [],
   "source": [
    "def jaccard_similarity(str1:str, str2: str) -> float:\n",
    "    \"\"\"\n",
    "    Computes Jaccard similarity (index) of 2 strings. \n",
    "    https://en.wikipedia.org/wiki/Jaccard_index\n",
    "    \"\"\"\n",
    "    set1 = set(str1.split())\n",
    "    set2 = set(str2.split())\n",
    "\n",
    "    intersection = set1.intersection(set2)\n",
    "    union = set1.union(set2)\n",
    "    j_sim = len(intersection)/len(union)\n",
    "    return j_sim"
   ]
  },
  {
   "cell_type": "code",
   "execution_count": 32,
   "metadata": {},
   "outputs": [],
   "source": [
    "jac_results = [jaccard_similarity(sentences[i], fixed_sentences[i]) for i in range(len(sentences))]"
   ]
  },
  {
   "cell_type": "code",
   "execution_count": 33,
   "metadata": {},
   "outputs": [
    {
     "name": "stdout",
     "output_type": "stream",
     "text": [
      "[1.0, 0.9565217391304348, 1.0, 1.0, 1.0, 1.0, 1.0, 0.8666666666666667, 1.0, 1.0, 1.0, 0.95, 1.0, 1.0, 1.0, 1.0, 1.0, 1.0, 1.0, 1.0, 1.0, 1.0, 0.9615384615384616, 1.0, 0.8571428571428571, 1.0, 1.0, 0.9444444444444444, 1.0, 1.0, 1.0, 0.92, 1.0, 1.0, 1.0, 1.0, 1.0, 1.0, 1.0, 1.0, 1.0, 1.0, 1.0, 0.95, 1.0, 1.0, 1.0, 1.0, 1.0, 1.0, 1.0, 1.0, 0.875, 1.0, 0.8333333333333334, 1.0, 0.6666666666666666, 0.9, 1.0, 0.7894736842105263, 1.0, 1.0, 0.8571428571428571, 0.9166666666666666, 1.0, 0.875, 1.0, 1.0, 1.0, 1.0, 1.0, 1.0, 1.0, 1.0, 1.0, 1.0, 1.0, 0.8571428571428571, 0.9375, 1.0, 1.0, 1.0, 1.0, 1.0, 1.0, 1.0, 1.0, 1.0, 1.0, 1.0, 1.0, 1.0, 1.0, 0.9444444444444444, 0.9047619047619048, 0.8636363636363636, 0.8888888888888888, 1.0, 0.9565217391304348, 0.9090909090909091]\n"
     ]
    }
   ],
   "source": [
    "print(jac_results)"
   ]
  },
  {
   "cell_type": "markdown",
   "metadata": {},
   "source": [
    "not finetuned"
   ]
  },
  {
   "cell_type": "code",
   "execution_count": 12,
   "metadata": {},
   "outputs": [
    {
     "data": {
      "text/plain": [
       "(array([ 1.,  0.,  0.,  0.,  0.,  0.,  0.,  0.,  0.,  2.,  0.,  0.,  0.,\n",
       "         0.,  0.,  0.,  0.,  1.,  0.,  0.,  0.,  0.,  1.,  1.,  0.,  0.,\n",
       "         0.,  0.,  0.,  0.,  0.,  2.,  0.,  0.,  0.,  0.,  0.,  1.,  0.,\n",
       "         0.,  0.,  1.,  0.,  0.,  0.,  0.,  0.,  0.,  0.,  1.,  2.,  1.,\n",
       "         1.,  1.,  0.,  0.,  2.,  1.,  1.,  3.,  2.,  1.,  0.,  2.,  1.,\n",
       "         2.,  2.,  1.,  1.,  0.,  2.,  2.,  0.,  2.,  0.,  3.,  2.,  3.,\n",
       "         5.,  0.,  3.,  1.,  2.,  0.,  2.,  1.,  0.,  3.,  9.,  3.,  0.,\n",
       "         0.,  2.,  4.,  3.,  0.,  0.,  0.,  0., 13.]),\n",
       " array([0.71428571, 0.71714286, 0.72      , 0.72285714, 0.72571429,\n",
       "        0.72857143, 0.73142857, 0.73428571, 0.73714286, 0.74      ,\n",
       "        0.74285714, 0.74571429, 0.74857143, 0.75142857, 0.75428571,\n",
       "        0.75714286, 0.76      , 0.76285714, 0.76571429, 0.76857143,\n",
       "        0.77142857, 0.77428571, 0.77714286, 0.78      , 0.78285714,\n",
       "        0.78571429, 0.78857143, 0.79142857, 0.79428571, 0.79714286,\n",
       "        0.8       , 0.80285714, 0.80571429, 0.80857143, 0.81142857,\n",
       "        0.81428571, 0.81714286, 0.82      , 0.82285714, 0.82571429,\n",
       "        0.82857143, 0.83142857, 0.83428571, 0.83714286, 0.84      ,\n",
       "        0.84285714, 0.84571429, 0.84857143, 0.85142857, 0.85428571,\n",
       "        0.85714286, 0.86      , 0.86285714, 0.86571429, 0.86857143,\n",
       "        0.87142857, 0.87428571, 0.87714286, 0.88      , 0.88285714,\n",
       "        0.88571429, 0.88857143, 0.89142857, 0.89428571, 0.89714286,\n",
       "        0.9       , 0.90285714, 0.90571429, 0.90857143, 0.91142857,\n",
       "        0.91428571, 0.91714286, 0.92      , 0.92285714, 0.92571429,\n",
       "        0.92857143, 0.93142857, 0.93428571, 0.93714286, 0.94      ,\n",
       "        0.94285714, 0.94571429, 0.94857143, 0.95142857, 0.95428571,\n",
       "        0.95714286, 0.96      , 0.96285714, 0.96571429, 0.96857143,\n",
       "        0.97142857, 0.97428571, 0.97714286, 0.98      , 0.98285714,\n",
       "        0.98571429, 0.98857143, 0.99142857, 0.99428571, 0.99714286,\n",
       "        1.        ]),\n",
       " <BarContainer object of 100 artists>)"
      ]
     },
     "execution_count": 12,
     "metadata": {},
     "output_type": "execute_result"
    },
    {
     "data": {
      "image/png": "[encoded data removed]",
      "text/plain": [
       "<Figure size 640x480 with 1 Axes>"
      ]
     },
     "metadata": {},
     "output_type": "display_data"
    }
   ],
   "source": [
    "plt.hist(jac_results, bins=100)"
   ]
  },
  {
   "cell_type": "markdown",
   "metadata": {},
   "source": [
    "finetuned"
   ]
  },
  {
   "cell_type": "code",
   "execution_count": 38,
   "metadata": {},
   "outputs": [
    {
     "data": {
      "text/plain": [
       "(array([ 3.,  0.,  0.,  0.,  1.,  0.,  1.,  0.,  0.,  0.,  0.,  0.,  1.,\n",
       "         0.,  0.,  0.,  0.,  0.,  0.,  0.,  0.,  0.,  0.,  0.,  0.,  0.,\n",
       "         1.,  0.,  0.,  0.,  1.,  0.,  0.,  1.,  0.,  0.,  1.,  0.,  0.,\n",
       "         0.,  0.,  1.,  0.,  0.,  1.,  0.,  0.,  0.,  0.,  0.,  0.,  0.,\n",
       "         0.,  0.,  0.,  0.,  0.,  0.,  0.,  0.,  0.,  0.,  0.,  0.,  0.,\n",
       "         0.,  1.,  0.,  2.,  0.,  0.,  0.,  0.,  1.,  0.,  0.,  0.,  0.,\n",
       "         0.,  0.,  0.,  0.,  0.,  0.,  0.,  0.,  0.,  0.,  0.,  0.,  0.,\n",
       "         0.,  0.,  0.,  0.,  0.,  0.,  0.,  0., 84.]),\n",
       " array([0.85714286, 0.85857143, 0.86      , 0.86142857, 0.86285714,\n",
       "        0.86428571, 0.86571429, 0.86714286, 0.86857143, 0.87      ,\n",
       "        0.87142857, 0.87285714, 0.87428571, 0.87571429, 0.87714286,\n",
       "        0.87857143, 0.88      , 0.88142857, 0.88285714, 0.88428571,\n",
       "        0.88571429, 0.88714286, 0.88857143, 0.89      , 0.89142857,\n",
       "        0.89285714, 0.89428571, 0.89571429, 0.89714286, 0.89857143,\n",
       "        0.9       , 0.90142857, 0.90285714, 0.90428571, 0.90571429,\n",
       "        0.90714286, 0.90857143, 0.91      , 0.91142857, 0.91285714,\n",
       "        0.91428571, 0.91571429, 0.91714286, 0.91857143, 0.92      ,\n",
       "        0.92142857, 0.92285714, 0.92428571, 0.92571429, 0.92714286,\n",
       "        0.92857143, 0.93      , 0.93142857, 0.93285714, 0.93428571,\n",
       "        0.93571429, 0.93714286, 0.93857143, 0.94      , 0.94142857,\n",
       "        0.94285714, 0.94428571, 0.94571429, 0.94714286, 0.94857143,\n",
       "        0.95      , 0.95142857, 0.95285714, 0.95428571, 0.95571429,\n",
       "        0.95714286, 0.95857143, 0.96      , 0.96142857, 0.96285714,\n",
       "        0.96428571, 0.96571429, 0.96714286, 0.96857143, 0.97      ,\n",
       "        0.97142857, 0.97285714, 0.97428571, 0.97571429, 0.97714286,\n",
       "        0.97857143, 0.98      , 0.98142857, 0.98285714, 0.98428571,\n",
       "        0.98571429, 0.98714286, 0.98857143, 0.99      , 0.99142857,\n",
       "        0.99285714, 0.99428571, 0.99571429, 0.99714286, 0.99857143,\n",
       "        1.        ]),\n",
       " <BarContainer object of 100 artists>)"
      ]
     },
     "execution_count": 38,
     "metadata": {},
     "output_type": "execute_result"
    },
    {
     "data": {
      "image/png": "[encoded data removed]",
      "text/plain": [
       "<Figure size 640x480 with 1 Axes>"
      ]
     },
     "metadata": {},
     "output_type": "display_data"
    }
   ],
   "source": [
    "plt.hist(jac_results, bins=100)"
   ]
  },
  {
   "cell_type": "markdown",
   "metadata": {},
   "source": [
    "not finetued xl"
   ]
  },
  {
   "cell_type": "code",
   "execution_count": 11,
   "metadata": {},
   "outputs": [
    {
     "data": {
      "text/plain": [
       "(array([ 1.,  0.,  0.,  0.,  0.,  0.,  0.,  0.,  0.,  0.,  0.,  0.,  0.,\n",
       "         0.,  0.,  0.,  0.,  0.,  0.,  0.,  0.,  0.,  0.,  0.,  0.,  0.,\n",
       "         0.,  0.,  0.,  0.,  0.,  0.,  1.,  0.,  0.,  0.,  0.,  0.,  0.,\n",
       "         0.,  0.,  0.,  0.,  0.,  0.,  0.,  0.,  0.,  0.,  1.,  0.,  0.,\n",
       "         0.,  0.,  0.,  0.,  0.,  0.,  0.,  0.,  0.,  0.,  0.,  0.,  0.,\n",
       "         3.,  0.,  0.,  0.,  0.,  1.,  0.,  0.,  0.,  1.,  2.,  2.,  1.,\n",
       "         2.,  1.,  0.,  3.,  0.,  3.,  3.,  5.,  4.,  7.,  3.,  6.,  5.,\n",
       "         3.,  3.,  7.,  5., 10.,  4.,  3.,  1.,  9.]),\n",
       " array([0.14035088, 0.14894737, 0.15754386, 0.16614035, 0.17473684,\n",
       "        0.18333333, 0.19192982, 0.20052632, 0.20912281, 0.2177193 ,\n",
       "        0.22631579, 0.23491228, 0.24350877, 0.25210526, 0.26070175,\n",
       "        0.26929825, 0.27789474, 0.28649123, 0.29508772, 0.30368421,\n",
       "        0.3122807 , 0.32087719, 0.32947368, 0.33807018, 0.34666667,\n",
       "        0.35526316, 0.36385965, 0.37245614, 0.38105263, 0.38964912,\n",
       "        0.39824561, 0.40684211, 0.4154386 , 0.42403509, 0.43263158,\n",
       "        0.44122807, 0.44982456, 0.45842105, 0.46701754, 0.47561404,\n",
       "        0.48421053, 0.49280702, 0.50140351, 0.51      , 0.51859649,\n",
       "        0.52719298, 0.53578947, 0.54438596, 0.55298246, 0.56157895,\n",
       "        0.57017544, 0.57877193, 0.58736842, 0.59596491, 0.6045614 ,\n",
       "        0.61315789, 0.62175439, 0.63035088, 0.63894737, 0.64754386,\n",
       "        0.65614035, 0.66473684, 0.67333333, 0.68192982, 0.69052632,\n",
       "        0.69912281, 0.7077193 , 0.71631579, 0.72491228, 0.73350877,\n",
       "        0.74210526, 0.75070175, 0.75929825, 0.76789474, 0.77649123,\n",
       "        0.78508772, 0.79368421, 0.8022807 , 0.81087719, 0.81947368,\n",
       "        0.82807018, 0.83666667, 0.84526316, 0.85385965, 0.86245614,\n",
       "        0.87105263, 0.87964912, 0.88824561, 0.89684211, 0.9054386 ,\n",
       "        0.91403509, 0.92263158, 0.93122807, 0.93982456, 0.94842105,\n",
       "        0.95701754, 0.96561404, 0.97421053, 0.98280702, 0.99140351,\n",
       "        1.        ]),\n",
       " <BarContainer object of 100 artists>)"
      ]
     },
     "execution_count": 11,
     "metadata": {},
     "output_type": "execute_result"
    },
    {
     "data": {
      "image/png": "[encoded data removed]",
      "text/plain": [
       "<Figure size 640x480 with 1 Axes>"
      ]
     },
     "metadata": {},
     "output_type": "display_data"
    }
   ],
   "source": [
    "plt.hist(jac_results, bins=100)"
   ]
  },
  {
   "cell_type": "markdown",
   "metadata": {},
   "source": [
    "finetuned xl"
   ]
  },
  {
   "cell_type": "code",
   "execution_count": 34,
   "metadata": {},
   "outputs": [
    {
     "data": {
      "text/plain": [
       "(array([ 1.,  0.,  0.,  0.,  0.,  0.,  0.,  0.,  0.,  0.,  0.,  0.,  0.,\n",
       "         0.,  0.,  0.,  0.,  0.,  0.,  0.,  0.,  0.,  0.,  0.,  0.,  0.,\n",
       "         0.,  0.,  0.,  0.,  0.,  0.,  0.,  0.,  0.,  0.,  1.,  0.,  0.,\n",
       "         0.,  0.,  0.,  0.,  0.,  0.,  0.,  0.,  0.,  0.,  0.,  1.,  0.,\n",
       "         0.,  0.,  0.,  0.,  0.,  3.,  0.,  1.,  1.,  0.,  2.,  0.,  0.,\n",
       "         0.,  1.,  0.,  0.,  0.,  1.,  1.,  1.,  0.,  0.,  1.,  1.,  0.,\n",
       "         0.,  0.,  0.,  1.,  0.,  2.,  0.,  2.,  2.,  0.,  1.,  0.,  0.,\n",
       "         0.,  0.,  0.,  0.,  0.,  0.,  0.,  0., 76.]),\n",
       " array([0.66666667, 0.67      , 0.67333333, 0.67666667, 0.68      ,\n",
       "        0.68333333, 0.68666667, 0.69      , 0.69333333, 0.69666667,\n",
       "        0.7       , 0.70333333, 0.70666667, 0.71      , 0.71333333,\n",
       "        0.71666667, 0.72      , 0.72333333, 0.72666667, 0.73      ,\n",
       "        0.73333333, 0.73666667, 0.74      , 0.74333333, 0.74666667,\n",
       "        0.75      , 0.75333333, 0.75666667, 0.76      , 0.76333333,\n",
       "        0.76666667, 0.77      , 0.77333333, 0.77666667, 0.78      ,\n",
       "        0.78333333, 0.78666667, 0.79      , 0.79333333, 0.79666667,\n",
       "        0.8       , 0.80333333, 0.80666667, 0.81      , 0.81333333,\n",
       "        0.81666667, 0.82      , 0.82333333, 0.82666667, 0.83      ,\n",
       "        0.83333333, 0.83666667, 0.84      , 0.84333333, 0.84666667,\n",
       "        0.85      , 0.85333333, 0.85666667, 0.86      , 0.86333333,\n",
       "        0.86666667, 0.87      , 0.87333333, 0.87666667, 0.88      ,\n",
       "        0.88333333, 0.88666667, 0.89      , 0.89333333, 0.89666667,\n",
       "        0.9       , 0.90333333, 0.90666667, 0.91      , 0.91333333,\n",
       "        0.91666667, 0.92      , 0.92333333, 0.92666667, 0.93      ,\n",
       "        0.93333333, 0.93666667, 0.94      , 0.94333333, 0.94666667,\n",
       "        0.95      , 0.95333333, 0.95666667, 0.96      , 0.96333333,\n",
       "        0.96666667, 0.97      , 0.97333333, 0.97666667, 0.98      ,\n",
       "        0.98333333, 0.98666667, 0.99      , 0.99333333, 0.99666667,\n",
       "        1.        ]),\n",
       " <BarContainer object of 100 artists>)"
      ]
     },
     "execution_count": 34,
     "metadata": {},
     "output_type": "execute_result"
    },
    {
     "data": {
      "image/png": "[encoded data removed]",
      "text/plain": [
       "<Figure size 640x480 with 1 Axes>"
      ]
     },
     "metadata": {},
     "output_type": "display_data"
    }
   ],
   "source": [
    "plt.hist(jac_results, bins=100)"
   ]
  },
  {
   "cell_type": "markdown",
   "metadata": {},
   "source": [
    "### Levenshtein Distance"
   ]
  },
  {
   "cell_type": "code",
   "execution_count": null,
   "metadata": {},
   "outputs": [],
   "source": [
    "%pip install levenshtein"
   ]
  },
  {
   "cell_type": "code",
   "execution_count": 35,
   "metadata": {},
   "outputs": [],
   "source": [
    "from Levenshtein import distance"
   ]
  },
  {
   "cell_type": "code",
   "execution_count": 36,
   "metadata": {},
   "outputs": [],
   "source": [
    "lev_results = [distance(sentences[i], fixed_sentences[i]) for i in range(len(sentences))]"
   ]
  },
  {
   "cell_type": "code",
   "execution_count": 37,
   "metadata": {},
   "outputs": [
    {
     "data": {
      "text/plain": [
       "[0,\n",
       " 4,\n",
       " 0,\n",
       " 0,\n",
       " 0,\n",
       " 0,\n",
       " 0,\n",
       " 2,\n",
       " 0,\n",
       " 0,\n",
       " 0,\n",
       " 5,\n",
       " 0,\n",
       " 0,\n",
       " 0,\n",
       " 0,\n",
       " 0,\n",
       " 0,\n",
       " 0,\n",
       " 0,\n",
       " 0,\n",
       " 0,\n",
       " 4,\n",
       " 0,\n",
       " 2,\n",
       " 0,\n",
       " 0,\n",
       " 4,\n",
       " 0,\n",
       " 0,\n",
       " 0,\n",
       " 4,\n",
       " 0,\n",
       " 0,\n",
       " 0,\n",
       " 0,\n",
       " 0,\n",
       " 0,\n",
       " 0,\n",
       " 0,\n",
       " 0,\n",
       " 0,\n",
       " 0,\n",
       " 4,\n",
       " 0,\n",
       " 0,\n",
       " 0,\n",
       " 0,\n",
       " 0,\n",
       " 0,\n",
       " 0,\n",
       " 0,\n",
       " 6,\n",
       " 0,\n",
       " 3,\n",
       " 0,\n",
       " 3,\n",
       " 2,\n",
       " 0,\n",
       " 2,\n",
       " 0,\n",
       " 0,\n",
       " 2,\n",
       " 2,\n",
       " 0,\n",
       " 1,\n",
       " 0,\n",
       " 0,\n",
       " 0,\n",
       " 0,\n",
       " 0,\n",
       " 0,\n",
       " 0,\n",
       " 0,\n",
       " 0,\n",
       " 0,\n",
       " 0,\n",
       " 6,\n",
       " 4,\n",
       " 0,\n",
       " 0,\n",
       " 0,\n",
       " 0,\n",
       " 0,\n",
       " 0,\n",
       " 0,\n",
       " 0,\n",
       " 0,\n",
       " 0,\n",
       " 0,\n",
       " 0,\n",
       " 0,\n",
       " 0,\n",
       " 13,\n",
       " 2,\n",
       " 6,\n",
       " 2,\n",
       " 0,\n",
       " 4,\n",
       " 1]"
      ]
     },
     "execution_count": 37,
     "metadata": {},
     "output_type": "execute_result"
    }
   ],
   "source": [
    "lev_results"
   ]
  },
  {
   "cell_type": "code",
   "execution_count": 17,
   "metadata": {},
   "outputs": [
    {
     "data": {
      "text/plain": [
       "(array([25.,  8.,  6.,  7., 12.,  4.,  5.,  3.,  1.,  2.,  3.,  1.,  1.,\n",
       "         1.,  0.,  0.,  4.,  2.,  0.,  0.,  0.,  0.,  0.,  0.,  0.,  0.,\n",
       "         0.,  0.,  0.,  1.,  1.,  0.,  0.,  1.,  0.,  1.,  1.,  0.,  0.,\n",
       "         0.,  0.,  1.,  0.,  1.,  0.,  0.,  0.,  0.,  0.,  0.,  0.,  0.,\n",
       "         0.,  0.,  0.,  0.,  0.,  0.,  0.,  0.,  0.,  0.,  0.,  0.,  0.,\n",
       "         0.,  1.,  0.,  0.,  0.,  0.,  0.,  1.,  0.,  0.,  2.,  0.,  1.,\n",
       "         0.,  1.,  0.,  0.,  0.,  0.,  0.,  0.,  0.,  1.,  0.,  0.,  0.,\n",
       "         0.,  0.,  0.,  0.,  0.,  0.,  0.,  0.,  1.]),\n",
       " array([  0.  ,   1.24,   2.48,   3.72,   4.96,   6.2 ,   7.44,   8.68,\n",
       "          9.92,  11.16,  12.4 ,  13.64,  14.88,  16.12,  17.36,  18.6 ,\n",
       "         19.84,  21.08,  22.32,  23.56,  24.8 ,  26.04,  27.28,  28.52,\n",
       "         29.76,  31.  ,  32.24,  33.48,  34.72,  35.96,  37.2 ,  38.44,\n",
       "         39.68,  40.92,  42.16,  43.4 ,  44.64,  45.88,  47.12,  48.36,\n",
       "         49.6 ,  50.84,  52.08,  53.32,  54.56,  55.8 ,  57.04,  58.28,\n",
       "         59.52,  60.76,  62.  ,  63.24,  64.48,  65.72,  66.96,  68.2 ,\n",
       "         69.44,  70.68,  71.92,  73.16,  74.4 ,  75.64,  76.88,  78.12,\n",
       "         79.36,  80.6 ,  81.84,  83.08,  84.32,  85.56,  86.8 ,  88.04,\n",
       "         89.28,  90.52,  91.76,  93.  ,  94.24,  95.48,  96.72,  97.96,\n",
       "         99.2 , 100.44, 101.68, 102.92, 104.16, 105.4 , 106.64, 107.88,\n",
       "        109.12, 110.36, 111.6 , 112.84, 114.08, 115.32, 116.56, 117.8 ,\n",
       "        119.04, 120.28, 121.52, 122.76, 124.  ]),\n",
       " <BarContainer object of 100 artists>)"
      ]
     },
     "execution_count": 17,
     "metadata": {},
     "output_type": "execute_result"
    },
    {
     "data": {
      "image/png": "[encoded data removed]",
      "text/plain": [
       "<Figure size 640x480 with 1 Axes>"
      ]
     },
     "metadata": {},
     "output_type": "display_data"
    }
   ],
   "source": [
    "plt.hist(lev_results, 100)"
   ]
  },
  {
   "cell_type": "code",
   "execution_count": 41,
   "metadata": {},
   "outputs": [
    {
     "data": {
      "text/plain": [
       "(array([84.,  0.,  0.,  0.,  0.,  0.,  0.,  0.,  0.,  0.,  0.,  0.,  0.,\n",
       "         0.,  0.,  0.,  2.,  0.,  0.,  0.,  0.,  0.,  0.,  0.,  0.,  0.,\n",
       "         0.,  0.,  0.,  0.,  0.,  0.,  0.,  6.,  0.,  0.,  0.,  0.,  0.,\n",
       "         0.,  0.,  0.,  0.,  0.,  0.,  0.,  0.,  0.,  0.,  0.,  1.,  0.,\n",
       "         0.,  0.,  0.,  0.,  0.,  0.,  0.,  0.,  0.,  0.,  0.,  0.,  0.,\n",
       "         0.,  3.,  0.,  0.,  0.,  0.,  0.,  0.,  0.,  0.,  0.,  0.,  0.,\n",
       "         0.,  0.,  0.,  0.,  0.,  1.,  0.,  0.,  0.,  0.,  0.,  0.,  0.,\n",
       "         0.,  0.,  0.,  0.,  0.,  0.,  0.,  0.,  3.]),\n",
       " array([0.  , 0.06, 0.12, 0.18, 0.24, 0.3 , 0.36, 0.42, 0.48, 0.54, 0.6 ,\n",
       "        0.66, 0.72, 0.78, 0.84, 0.9 , 0.96, 1.02, 1.08, 1.14, 1.2 , 1.26,\n",
       "        1.32, 1.38, 1.44, 1.5 , 1.56, 1.62, 1.68, 1.74, 1.8 , 1.86, 1.92,\n",
       "        1.98, 2.04, 2.1 , 2.16, 2.22, 2.28, 2.34, 2.4 , 2.46, 2.52, 2.58,\n",
       "        2.64, 2.7 , 2.76, 2.82, 2.88, 2.94, 3.  , 3.06, 3.12, 3.18, 3.24,\n",
       "        3.3 , 3.36, 3.42, 3.48, 3.54, 3.6 , 3.66, 3.72, 3.78, 3.84, 3.9 ,\n",
       "        3.96, 4.02, 4.08, 4.14, 4.2 , 4.26, 4.32, 4.38, 4.44, 4.5 , 4.56,\n",
       "        4.62, 4.68, 4.74, 4.8 , 4.86, 4.92, 4.98, 5.04, 5.1 , 5.16, 5.22,\n",
       "        5.28, 5.34, 5.4 , 5.46, 5.52, 5.58, 5.64, 5.7 , 5.76, 5.82, 5.88,\n",
       "        5.94, 6.  ]),\n",
       " <BarContainer object of 100 artists>)"
      ]
     },
     "execution_count": 41,
     "metadata": {},
     "output_type": "execute_result"
    },
    {
     "data": {
      "image/png": "[encoded data removed]",
      "text/plain": [
       "<Figure size 640x480 with 1 Axes>"
      ]
     },
     "metadata": {},
     "output_type": "display_data"
    }
   ],
   "source": [
    "plt.hist(lev_results, 100)"
   ]
  },
  {
   "cell_type": "code",
   "execution_count": 19,
   "metadata": {},
   "outputs": [
    {
     "data": {
      "text/plain": [
       "(array([22., 13., 16.,  9.,  7.,  3.,  2.,  0.,  3.,  2.,  0.,  1.,  1.,\n",
       "         2.,  1.,  2.,  0.,  0.,  1.,  2.,  0.,  2.,  1.,  0.,  1.,  1.,\n",
       "         1.,  1.,  0.,  0.,  0.,  0.,  1.,  2.,  0.,  0.,  0.,  0.,  0.,\n",
       "         0.,  0.,  0.,  0.,  0.,  0.,  0.,  0.,  0.,  0.,  0.,  0.,  0.,\n",
       "         0.,  0.,  1.,  0.,  0.,  0.,  0.,  0.,  1.,  0.,  0.,  0.,  0.,\n",
       "         0.,  0.,  0.,  0.,  0.,  0.,  0.,  0.,  0.,  0.,  0.,  0.,  0.,\n",
       "         0.,  0.,  0.,  0.,  0.,  0.,  0.,  0.,  0.,  0.,  0.,  0.,  0.,\n",
       "         0.,  0.,  0.,  0.,  0.,  0.,  0.,  0.,  1.]),\n",
       " array([  0.  ,   3.73,   7.46,  11.19,  14.92,  18.65,  22.38,  26.11,\n",
       "         29.84,  33.57,  37.3 ,  41.03,  44.76,  48.49,  52.22,  55.95,\n",
       "         59.68,  63.41,  67.14,  70.87,  74.6 ,  78.33,  82.06,  85.79,\n",
       "         89.52,  93.25,  96.98, 100.71, 104.44, 108.17, 111.9 , 115.63,\n",
       "        119.36, 123.09, 126.82, 130.55, 134.28, 138.01, 141.74, 145.47,\n",
       "        149.2 , 152.93, 156.66, 160.39, 164.12, 167.85, 171.58, 175.31,\n",
       "        179.04, 182.77, 186.5 , 190.23, 193.96, 197.69, 201.42, 205.15,\n",
       "        208.88, 212.61, 216.34, 220.07, 223.8 , 227.53, 231.26, 234.99,\n",
       "        238.72, 242.45, 246.18, 249.91, 253.64, 257.37, 261.1 , 264.83,\n",
       "        268.56, 272.29, 276.02, 279.75, 283.48, 287.21, 290.94, 294.67,\n",
       "        298.4 , 302.13, 305.86, 309.59, 313.32, 317.05, 320.78, 324.51,\n",
       "        328.24, 331.97, 335.7 , 339.43, 343.16, 346.89, 350.62, 354.35,\n",
       "        358.08, 361.81, 365.54, 369.27, 373.  ]),\n",
       " <BarContainer object of 100 artists>)"
      ]
     },
     "execution_count": 19,
     "metadata": {},
     "output_type": "execute_result"
    },
    {
     "data": {
      "image/png": "[encoded data removed]",
      "text/plain": [
       "<Figure size 640x480 with 1 Axes>"
      ]
     },
     "metadata": {},
     "output_type": "display_data"
    }
   ],
   "source": [
    "plt.hist(lev_results, bins=100)"
   ]
  },
  {
   "cell_type": "code",
   "execution_count": 38,
   "metadata": {},
   "outputs": [
    {
     "data": {
      "text/plain": [
       "(array([76.,  0.,  0.,  0.,  0.,  0.,  0.,  2.,  0.,  0.,  0.,  0.,  0.,\n",
       "         0.,  0.,  8.,  0.,  0.,  0.,  0.,  0.,  0.,  0.,  2.,  0.,  0.,\n",
       "         0.,  0.,  0.,  0.,  7.,  0.,  0.,  0.,  0.,  0.,  0.,  0.,  1.,\n",
       "         0.,  0.,  0.,  0.,  0.,  0.,  0.,  3.,  0.,  0.,  0.,  0.,  0.,\n",
       "         0.,  0.,  0.,  0.,  0.,  0.,  0.,  0.,  0.,  0.,  0.,  0.,  0.,\n",
       "         0.,  0.,  0.,  0.,  0.,  0.,  0.,  0.,  0.,  0.,  0.,  0.,  0.,\n",
       "         0.,  0.,  0.,  0.,  0.,  0.,  0.,  0.,  0.,  0.,  0.,  0.,  0.,\n",
       "         0.,  0.,  0.,  0.,  0.,  0.,  0.,  0.,  1.]),\n",
       " array([ 0.  ,  0.13,  0.26,  0.39,  0.52,  0.65,  0.78,  0.91,  1.04,\n",
       "         1.17,  1.3 ,  1.43,  1.56,  1.69,  1.82,  1.95,  2.08,  2.21,\n",
       "         2.34,  2.47,  2.6 ,  2.73,  2.86,  2.99,  3.12,  3.25,  3.38,\n",
       "         3.51,  3.64,  3.77,  3.9 ,  4.03,  4.16,  4.29,  4.42,  4.55,\n",
       "         4.68,  4.81,  4.94,  5.07,  5.2 ,  5.33,  5.46,  5.59,  5.72,\n",
       "         5.85,  5.98,  6.11,  6.24,  6.37,  6.5 ,  6.63,  6.76,  6.89,\n",
       "         7.02,  7.15,  7.28,  7.41,  7.54,  7.67,  7.8 ,  7.93,  8.06,\n",
       "         8.19,  8.32,  8.45,  8.58,  8.71,  8.84,  8.97,  9.1 ,  9.23,\n",
       "         9.36,  9.49,  9.62,  9.75,  9.88, 10.01, 10.14, 10.27, 10.4 ,\n",
       "        10.53, 10.66, 10.79, 10.92, 11.05, 11.18, 11.31, 11.44, 11.57,\n",
       "        11.7 , 11.83, 11.96, 12.09, 12.22, 12.35, 12.48, 12.61, 12.74,\n",
       "        12.87, 13.  ]),\n",
       " <BarContainer object of 100 artists>)"
      ]
     },
     "execution_count": 38,
     "metadata": {},
     "output_type": "execute_result"
    },
    {
     "data": {
      "image/png": "[encoded data removed]",
      "text/plain": [
       "<Figure size 640x480 with 1 Axes>"
      ]
     },
     "metadata": {},
     "output_type": "display_data"
    }
   ],
   "source": [
    "plt.hist(lev_results, 100)"
   ]
  },
  {
   "cell_type": "markdown",
   "metadata": {},
   "source": [
    "### Damerau-Levenshtein distance"
   ]
  },
  {
   "cell_type": "code",
   "execution_count": 63,
   "metadata": {},
   "outputs": [],
   "source": [
    "dam_results = [jellyfish.damerau_levenshtein_distance(sentences[i], fixed_sentences[i]) for i in range(len(sentences))]"
   ]
  },
  {
   "cell_type": "code",
   "execution_count": 64,
   "metadata": {},
   "outputs": [
    {
     "data": {
      "text/plain": [
       "(array([28.,  9.,  7.,  4., 10.,  5.,  5.,  2.,  1.,  3.,  2.,  1.,  1.,\n",
       "         1.,  0.,  0.,  5.,  1.,  0.,  0.,  0.,  0.,  0.,  0.,  0.,  0.,\n",
       "         0.,  0.,  0.,  1.,  1.,  0.,  0.,  1.,  0.,  2.,  0.,  0.,  0.,\n",
       "         0.,  0.,  1.,  0.,  1.,  0.,  0.,  0.,  0.,  0.,  0.,  0.,  0.,\n",
       "         0.,  0.,  0.,  0.,  0.,  0.,  0.,  0.,  0.,  0.,  0.,  0.,  0.,\n",
       "         0.,  1.,  0.,  0.,  0.,  0.,  0.,  1.,  0.,  1.,  1.,  0.,  1.,\n",
       "         0.,  1.,  0.,  0.,  0.,  0.,  0.,  0.,  0.,  1.,  0.,  0.,  0.,\n",
       "         0.,  0.,  0.,  0.,  0.,  0.,  0.,  0.,  1.]),\n",
       " array([  0.  ,   1.24,   2.48,   3.72,   4.96,   6.2 ,   7.44,   8.68,\n",
       "          9.92,  11.16,  12.4 ,  13.64,  14.88,  16.12,  17.36,  18.6 ,\n",
       "         19.84,  21.08,  22.32,  23.56,  24.8 ,  26.04,  27.28,  28.52,\n",
       "         29.76,  31.  ,  32.24,  33.48,  34.72,  35.96,  37.2 ,  38.44,\n",
       "         39.68,  40.92,  42.16,  43.4 ,  44.64,  45.88,  47.12,  48.36,\n",
       "         49.6 ,  50.84,  52.08,  53.32,  54.56,  55.8 ,  57.04,  58.28,\n",
       "         59.52,  60.76,  62.  ,  63.24,  64.48,  65.72,  66.96,  68.2 ,\n",
       "         69.44,  70.68,  71.92,  73.16,  74.4 ,  75.64,  76.88,  78.12,\n",
       "         79.36,  80.6 ,  81.84,  83.08,  84.32,  85.56,  86.8 ,  88.04,\n",
       "         89.28,  90.52,  91.76,  93.  ,  94.24,  95.48,  96.72,  97.96,\n",
       "         99.2 , 100.44, 101.68, 102.92, 104.16, 105.4 , 106.64, 107.88,\n",
       "        109.12, 110.36, 111.6 , 112.84, 114.08, 115.32, 116.56, 117.8 ,\n",
       "        119.04, 120.28, 121.52, 122.76, 124.  ]),\n",
       " <BarContainer object of 100 artists>)"
      ]
     },
     "execution_count": 64,
     "metadata": {},
     "output_type": "execute_result"
    },
    {
     "data": {
      "image/png": "[encoded data removed]",
      "text/plain": [
       "<Figure size 640x480 with 1 Axes>"
      ]
     },
     "metadata": {},
     "output_type": "display_data"
    }
   ],
   "source": [
    "plt.hist(dam_results, 100)"
   ]
  },
  {
   "cell_type": "markdown",
   "metadata": {},
   "source": [
    "### jaro distance"
   ]
  },
  {
   "cell_type": "code",
   "execution_count": 65,
   "metadata": {},
   "outputs": [],
   "source": [
    "jaro_results = [jellyfish.jaro_similarity(sentences[i], fixed_sentences[i]) for i in range(len(sentences))]"
   ]
  },
  {
   "cell_type": "code",
   "execution_count": 66,
   "metadata": {},
   "outputs": [
    {
     "data": {
      "text/plain": [
       "(array([ 1.,  0.,  0.,  0.,  0.,  0.,  0.,  0.,  0.,  0.,  0.,  0.,  0.,\n",
       "         0.,  0.,  0.,  0.,  0.,  0.,  1.,  0.,  0.,  0.,  0.,  0.,  0.,\n",
       "         0.,  1.,  0.,  1.,  0.,  0.,  0.,  0.,  0.,  1.,  0.,  1.,  0.,\n",
       "         2.,  0.,  1.,  0.,  1.,  0.,  1.,  2.,  1.,  1.,  1.,  0.,  0.,\n",
       "         1.,  2.,  0.,  0.,  0.,  2.,  2.,  1.,  2.,  0.,  0.,  1.,  0.,\n",
       "         1.,  1.,  0.,  2.,  1.,  0.,  0.,  0.,  5.,  1.,  2.,  0.,  0.,\n",
       "         1.,  0.,  2.,  0.,  0.,  1.,  2.,  2.,  1.,  2.,  0.,  2.,  0.,\n",
       "         0.,  3.,  2.,  0.,  5.,  2.,  5.,  4., 26.]),\n",
       " array([0.76361143, 0.76597531, 0.7683392 , 0.77070308, 0.77306697,\n",
       "        0.77543085, 0.77779474, 0.78015863, 0.78252251, 0.7848864 ,\n",
       "        0.78725028, 0.78961417, 0.79197805, 0.79434194, 0.79670583,\n",
       "        0.79906971, 0.8014336 , 0.80379748, 0.80616137, 0.80852525,\n",
       "        0.81088914, 0.81325303, 0.81561691, 0.8179808 , 0.82034468,\n",
       "        0.82270857, 0.82507245, 0.82743634, 0.82980023, 0.83216411,\n",
       "        0.834528  , 0.83689188, 0.83925577, 0.84161966, 0.84398354,\n",
       "        0.84634743, 0.84871131, 0.8510752 , 0.85343908, 0.85580297,\n",
       "        0.85816686, 0.86053074, 0.86289463, 0.86525851, 0.8676224 ,\n",
       "        0.86998628, 0.87235017, 0.87471406, 0.87707794, 0.87944183,\n",
       "        0.88180571, 0.8841696 , 0.88653348, 0.88889737, 0.89126126,\n",
       "        0.89362514, 0.89598903, 0.89835291, 0.9007168 , 0.90308068,\n",
       "        0.90544457, 0.90780846, 0.91017234, 0.91253623, 0.91490011,\n",
       "        0.917264  , 0.91962788, 0.92199177, 0.92435566, 0.92671954,\n",
       "        0.92908343, 0.93144731, 0.9338112 , 0.93617508, 0.93853897,\n",
       "        0.94090286, 0.94326674, 0.94563063, 0.94799451, 0.9503584 ,\n",
       "        0.95272229, 0.95508617, 0.95745006, 0.95981394, 0.96217783,\n",
       "        0.96454171, 0.9669056 , 0.96926949, 0.97163337, 0.97399726,\n",
       "        0.97636114, 0.97872503, 0.98108891, 0.9834528 , 0.98581669,\n",
       "        0.98818057, 0.99054446, 0.99290834, 0.99527223, 0.99763611,\n",
       "        1.        ]),\n",
       " <BarContainer object of 100 artists>)"
      ]
     },
     "execution_count": 66,
     "metadata": {},
     "output_type": "execute_result"
    },
    {
     "data": {
      "image/png": "[encoded data removed]",
      "text/plain": [
       "<Figure size 640x480 with 1 Axes>"
      ]
     },
     "metadata": {},
     "output_type": "display_data"
    }
   ],
   "source": [
    "plt.hist(jaro_results, 100)"
   ]
  },
  {
   "cell_type": "markdown",
   "metadata": {},
   "source": [
    "### Jaro-Winkler distance"
   ]
  },
  {
   "cell_type": "code",
   "execution_count": 67,
   "metadata": {},
   "outputs": [],
   "source": [
    "jaro_w_results = [jellyfish.jaro_winkler_similarity(sentences[i], fixed_sentences[i]) for i in range(len(sentences))]"
   ]
  },
  {
   "cell_type": "code",
   "execution_count": 68,
   "metadata": {},
   "outputs": [
    {
     "data": {
      "text/plain": [
       "(array([ 1.,  0.,  0.,  0.,  0.,  0.,  0.,  0.,  0.,  0.,  0.,  0.,  1.,\n",
       "         0.,  0.,  0.,  0.,  0.,  0.,  0.,  0.,  0.,  0.,  0.,  0.,  0.,\n",
       "         0.,  0.,  0.,  0.,  0.,  0.,  0.,  0.,  0.,  0.,  0.,  0.,  0.,\n",
       "         1.,  0.,  0.,  0.,  1.,  0.,  1.,  0.,  0.,  0.,  0.,  0.,  1.,\n",
       "         0.,  1.,  2.,  0.,  1.,  0.,  0.,  1.,  3.,  1.,  1.,  0.,  2.,\n",
       "         1.,  0.,  1.,  3.,  1.,  2.,  0.,  1.,  0.,  2.,  0.,  2.,  1.,\n",
       "         0.,  1.,  4.,  3.,  0.,  1.,  0.,  2.,  0.,  1.,  3.,  1.,  3.,\n",
       "         0.,  2.,  0.,  4.,  1.,  5.,  3.,  4., 30.]),\n",
       " array([0.81088914, 0.81278025, 0.81467136, 0.81656247, 0.81845357,\n",
       "        0.82034468, 0.82223579, 0.8241269 , 0.82601801, 0.82790912,\n",
       "        0.82980023, 0.83169133, 0.83358244, 0.83547355, 0.83736466,\n",
       "        0.83925577, 0.84114688, 0.84303799, 0.8449291 , 0.8468202 ,\n",
       "        0.84871131, 0.85060242, 0.85249353, 0.85438464, 0.85627575,\n",
       "        0.85816686, 0.86005796, 0.86194907, 0.86384018, 0.86573129,\n",
       "        0.8676224 , 0.86951351, 0.87140462, 0.87329572, 0.87518683,\n",
       "        0.87707794, 0.87896905, 0.88086016, 0.88275127, 0.88464238,\n",
       "        0.88653348, 0.88842459, 0.8903157 , 0.89220681, 0.89409792,\n",
       "        0.89598903, 0.89788014, 0.89977124, 0.90166235, 0.90355346,\n",
       "        0.90544457, 0.90733568, 0.90922679, 0.9111179 , 0.913009  ,\n",
       "        0.91490011, 0.91679122, 0.91868233, 0.92057344, 0.92246455,\n",
       "        0.92435566, 0.92624676, 0.92813787, 0.93002898, 0.93192009,\n",
       "        0.9338112 , 0.93570231, 0.93759342, 0.93948452, 0.94137563,\n",
       "        0.94326674, 0.94515785, 0.94704896, 0.94894007, 0.95083118,\n",
       "        0.95272229, 0.95461339, 0.9565045 , 0.95839561, 0.96028672,\n",
       "        0.96217783, 0.96406894, 0.96596005, 0.96785115, 0.96974226,\n",
       "        0.97163337, 0.97352448, 0.97541559, 0.9773067 , 0.97919781,\n",
       "        0.98108891, 0.98298002, 0.98487113, 0.98676224, 0.98865335,\n",
       "        0.99054446, 0.99243557, 0.99432667, 0.99621778, 0.99810889,\n",
       "        1.        ]),\n",
       " <BarContainer object of 100 artists>)"
      ]
     },
     "execution_count": 68,
     "metadata": {},
     "output_type": "execute_result"
    },
    {
     "data": {
      "image/png": "[encoded data removed]",
      "text/plain": [
       "<Figure size 640x480 with 1 Axes>"
      ]
     },
     "metadata": {},
     "output_type": "display_data"
    }
   ],
   "source": [
    "plt.hist(jaro_w_results, 100)"
   ]
  },
  {
   "cell_type": "markdown",
   "metadata": {},
   "source": [
    "## String Similarity"
   ]
  },
  {
   "cell_type": "code",
   "execution_count": 39,
   "metadata": {},
   "outputs": [],
   "source": [
    "from difflib import SequenceMatcher\n",
    "\n",
    "def str_similarity(str1: str, str2: str) -> float:\n",
    "    m = SequenceMatcher(None, str1, str2)\n",
    "    return m.ratio()"
   ]
  },
  {
   "cell_type": "code",
   "execution_count": 40,
   "metadata": {},
   "outputs": [],
   "source": [
    "sim_results = [str_similarity(sentences[i], fixed_sentences[i]) for i in range(len(sentences))]"
   ]
  },
  {
   "cell_type": "code",
   "execution_count": 41,
   "metadata": {},
   "outputs": [
    {
     "data": {
      "text/plain": [
       "[1.0,\n",
       " 0.9850746268656716,\n",
       " 1.0,\n",
       " 1.0,\n",
       " 1.0,\n",
       " 1.0,\n",
       " 1.0,\n",
       " 0.9880952380952381,\n",
       " 1.0,\n",
       " 1.0,\n",
       " 1.0,\n",
       " 0.9799196787148594,\n",
       " 1.0,\n",
       " 1.0,\n",
       " 1.0,\n",
       " 1.0,\n",
       " 1.0,\n",
       " 1.0,\n",
       " 1.0,\n",
       " 1.0,\n",
       " 1.0,\n",
       " 1.0,\n",
       " 0.9871794871794872,\n",
       " 1.0,\n",
       " 0.9880952380952381,\n",
       " 1.0,\n",
       " 1.0,\n",
       " 0.9791666666666666,\n",
       " 1.0,\n",
       " 1.0,\n",
       " 1.0,\n",
       " 0.9761092150170648,\n",
       " 1.0,\n",
       " 1.0,\n",
       " 1.0,\n",
       " 1.0,\n",
       " 1.0,\n",
       " 1.0,\n",
       " 1.0,\n",
       " 1.0,\n",
       " 1.0,\n",
       " 1.0,\n",
       " 1.0,\n",
       " 0.9830508474576272,\n",
       " 1.0,\n",
       " 1.0,\n",
       " 1.0,\n",
       " 1.0,\n",
       " 1.0,\n",
       " 1.0,\n",
       " 1.0,\n",
       " 1.0,\n",
       " 0.9691629955947136,\n",
       " 1.0,\n",
       " 0.9775280898876404,\n",
       " 1.0,\n",
       " 0.968944099378882,\n",
       " 0.9920634920634921,\n",
       " 1.0,\n",
       " 0.9789473684210527,\n",
       " 1.0,\n",
       " 1.0,\n",
       " 0.9859154929577465,\n",
       " 0.9921259842519685,\n",
       " 1.0,\n",
       " 0.9948186528497409,\n",
       " 1.0,\n",
       " 1.0,\n",
       " 1.0,\n",
       " 1.0,\n",
       " 1.0,\n",
       " 1.0,\n",
       " 1.0,\n",
       " 1.0,\n",
       " 1.0,\n",
       " 1.0,\n",
       " 1.0,\n",
       " 0.9688888888888889,\n",
       " 0.9818181818181818,\n",
       " 1.0,\n",
       " 1.0,\n",
       " 1.0,\n",
       " 1.0,\n",
       " 1.0,\n",
       " 1.0,\n",
       " 1.0,\n",
       " 1.0,\n",
       " 1.0,\n",
       " 1.0,\n",
       " 1.0,\n",
       " 1.0,\n",
       " 1.0,\n",
       " 1.0,\n",
       " 0.9446808510638298,\n",
       " 0.9900990099009901,\n",
       " 0.9737827715355806,\n",
       " 0.9863013698630136,\n",
       " 1.0,\n",
       " 0.9858156028368794,\n",
       " 0.9965870307167235]"
      ]
     },
     "execution_count": 41,
     "metadata": {},
     "output_type": "execute_result"
    }
   ],
   "source": [
    "sim_results"
   ]
  },
  {
   "cell_type": "code",
   "execution_count": 21,
   "metadata": {},
   "outputs": [
    {
     "data": {
      "text/plain": [
       "(array([ 1.,  0.,  0.,  0.,  0.,  0.,  0.,  0.,  0.,  0.,  0.,  0.,  0.,\n",
       "         0.,  0.,  0.,  0.,  0.,  0.,  0.,  0.,  0.,  0.,  0.,  0.,  0.,\n",
       "         0.,  0.,  0.,  0.,  0.,  0.,  0.,  0.,  0.,  0.,  0.,  0.,  0.,\n",
       "         0.,  0.,  0.,  0.,  0.,  0.,  0.,  0.,  0.,  0.,  0.,  0.,  0.,\n",
       "         0.,  0.,  0.,  0.,  0.,  0.,  0.,  1.,  0.,  0.,  0.,  0.,  0.,\n",
       "         0.,  0.,  0.,  0.,  0.,  0.,  0.,  1.,  0.,  0.,  0.,  4.,  1.,\n",
       "         0.,  1.,  1.,  1.,  0.,  1.,  0.,  0.,  0.,  0.,  2.,  0.,  1.,\n",
       "         3.,  1.,  0.,  2.,  6.,  4.,  5., 20., 44.]),\n",
       " array([0.34343434, 0.35      , 0.35656566, 0.36313131, 0.36969697,\n",
       "        0.37626263, 0.38282828, 0.38939394, 0.3959596 , 0.40252525,\n",
       "        0.40909091, 0.41565657, 0.42222222, 0.42878788, 0.43535354,\n",
       "        0.44191919, 0.44848485, 0.45505051, 0.46161616, 0.46818182,\n",
       "        0.47474747, 0.48131313, 0.48787879, 0.49444444, 0.5010101 ,\n",
       "        0.50757576, 0.51414141, 0.52070707, 0.52727273, 0.53383838,\n",
       "        0.54040404, 0.5469697 , 0.55353535, 0.56010101, 0.56666667,\n",
       "        0.57323232, 0.57979798, 0.58636364, 0.59292929, 0.59949495,\n",
       "        0.60606061, 0.61262626, 0.61919192, 0.62575758, 0.63232323,\n",
       "        0.63888889, 0.64545455, 0.6520202 , 0.65858586, 0.66515152,\n",
       "        0.67171717, 0.67828283, 0.68484848, 0.69141414, 0.6979798 ,\n",
       "        0.70454545, 0.71111111, 0.71767677, 0.72424242, 0.73080808,\n",
       "        0.73737374, 0.74393939, 0.75050505, 0.75707071, 0.76363636,\n",
       "        0.77020202, 0.77676768, 0.78333333, 0.78989899, 0.79646465,\n",
       "        0.8030303 , 0.80959596, 0.81616162, 0.82272727, 0.82929293,\n",
       "        0.83585859, 0.84242424, 0.8489899 , 0.85555556, 0.86212121,\n",
       "        0.86868687, 0.87525253, 0.88181818, 0.88838384, 0.89494949,\n",
       "        0.90151515, 0.90808081, 0.91464646, 0.92121212, 0.92777778,\n",
       "        0.93434343, 0.94090909, 0.94747475, 0.9540404 , 0.96060606,\n",
       "        0.96717172, 0.97373737, 0.98030303, 0.98686869, 0.99343434,\n",
       "        1.        ]),\n",
       " <BarContainer object of 100 artists>)"
      ]
     },
     "execution_count": 21,
     "metadata": {},
     "output_type": "execute_result"
    },
    {
     "data": {
      "image/png": "[encoded data removed]",
      "text/plain": [
       "<Figure size 640x480 with 1 Axes>"
      ]
     },
     "metadata": {},
     "output_type": "display_data"
    }
   ],
   "source": [
    "plt.hist(sim_results, 100)"
   ]
  },
  {
   "cell_type": "code",
   "execution_count": 44,
   "metadata": {},
   "outputs": [
    {
     "data": {
      "text/plain": [
       "(array([ 1.,  0.,  0.,  0.,  0.,  0.,  0.,  0.,  0.,  0.,  0.,  0.,  0.,\n",
       "         0.,  0.,  1.,  0.,  0.,  0.,  0.,  0.,  0.,  1.,  1.,  0.,  0.,\n",
       "         0.,  0.,  0.,  0.,  0.,  1.,  0.,  0.,  0.,  0.,  0.,  0.,  0.,\n",
       "         0.,  0.,  0.,  0.,  0.,  0.,  0.,  0.,  0.,  0.,  0.,  0.,  0.,\n",
       "         0.,  1.,  2.,  0.,  0.,  0.,  0.,  0.,  1.,  2.,  0.,  0.,  0.,\n",
       "         0.,  0.,  1.,  1.,  0.,  0.,  0.,  0.,  0.,  2.,  0.,  0.,  0.,\n",
       "         0.,  0.,  0.,  0.,  0.,  0.,  0.,  0.,  0.,  0.,  0.,  1.,  0.,\n",
       "         0.,  0.,  0.,  0.,  0.,  0.,  0.,  0., 84.]),\n",
       " array([0.96888889, 0.9692    , 0.96951111, 0.96982222, 0.97013333,\n",
       "        0.97044444, 0.97075556, 0.97106667, 0.97137778, 0.97168889,\n",
       "        0.972     , 0.97231111, 0.97262222, 0.97293333, 0.97324444,\n",
       "        0.97355556, 0.97386667, 0.97417778, 0.97448889, 0.9748    ,\n",
       "        0.97511111, 0.97542222, 0.97573333, 0.97604444, 0.97635556,\n",
       "        0.97666667, 0.97697778, 0.97728889, 0.9776    , 0.97791111,\n",
       "        0.97822222, 0.97853333, 0.97884444, 0.97915556, 0.97946667,\n",
       "        0.97977778, 0.98008889, 0.9804    , 0.98071111, 0.98102222,\n",
       "        0.98133333, 0.98164444, 0.98195556, 0.98226667, 0.98257778,\n",
       "        0.98288889, 0.9832    , 0.98351111, 0.98382222, 0.98413333,\n",
       "        0.98444444, 0.98475556, 0.98506667, 0.98537778, 0.98568889,\n",
       "        0.986     , 0.98631111, 0.98662222, 0.98693333, 0.98724444,\n",
       "        0.98755556, 0.98786667, 0.98817778, 0.98848889, 0.9888    ,\n",
       "        0.98911111, 0.98942222, 0.98973333, 0.99004444, 0.99035556,\n",
       "        0.99066667, 0.99097778, 0.99128889, 0.9916    , 0.99191111,\n",
       "        0.99222222, 0.99253333, 0.99284444, 0.99315556, 0.99346667,\n",
       "        0.99377778, 0.99408889, 0.9944    , 0.99471111, 0.99502222,\n",
       "        0.99533333, 0.99564444, 0.99595556, 0.99626667, 0.99657778,\n",
       "        0.99688889, 0.9972    , 0.99751111, 0.99782222, 0.99813333,\n",
       "        0.99844444, 0.99875556, 0.99906667, 0.99937778, 0.99968889,\n",
       "        1.        ]),\n",
       " <BarContainer object of 100 artists>)"
      ]
     },
     "execution_count": 44,
     "metadata": {},
     "output_type": "execute_result"
    },
    {
     "data": {
      "image/png": "[encoded data removed]",
      "text/plain": [
       "<Figure size 640x480 with 1 Axes>"
      ]
     },
     "metadata": {},
     "output_type": "display_data"
    }
   ],
   "source": [
    "plt.hist(sim_results, 100)"
   ]
  },
  {
   "cell_type": "code",
   "execution_count": 20,
   "metadata": {},
   "outputs": [
    {
     "data": {
      "text/plain": [
       "(array([ 1.,  0.,  0.,  0.,  0.,  0.,  0.,  0.,  0.,  0.,  0.,  0.,  0.,\n",
       "         0.,  0.,  0.,  0.,  0.,  0.,  0.,  0.,  0.,  0.,  0.,  0.,  0.,\n",
       "         0.,  0.,  0.,  0.,  0.,  0.,  0.,  0.,  0.,  0.,  0.,  0.,  0.,\n",
       "         0.,  0.,  0.,  0.,  0.,  0.,  1.,  0.,  0.,  0.,  0.,  0.,  0.,\n",
       "         0.,  1.,  0.,  0.,  0.,  0.,  0.,  0.,  0.,  0.,  1.,  0.,  0.,\n",
       "         0.,  0.,  0.,  0.,  0.,  0.,  0.,  0.,  0.,  0.,  0.,  1.,  0.,\n",
       "         1.,  0.,  1.,  0.,  2.,  1.,  1.,  1.,  3.,  3.,  1.,  0.,  3.,\n",
       "         3.,  1.,  2.,  3.,  3.,  3., 11., 22., 30.]),\n",
       " array([0.17142857, 0.17971429, 0.188     , 0.19628571, 0.20457143,\n",
       "        0.21285714, 0.22114286, 0.22942857, 0.23771429, 0.246     ,\n",
       "        0.25428571, 0.26257143, 0.27085714, 0.27914286, 0.28742857,\n",
       "        0.29571429, 0.304     , 0.31228571, 0.32057143, 0.32885714,\n",
       "        0.33714286, 0.34542857, 0.35371429, 0.362     , 0.37028571,\n",
       "        0.37857143, 0.38685714, 0.39514286, 0.40342857, 0.41171429,\n",
       "        0.42      , 0.42828571, 0.43657143, 0.44485714, 0.45314286,\n",
       "        0.46142857, 0.46971429, 0.478     , 0.48628571, 0.49457143,\n",
       "        0.50285714, 0.51114286, 0.51942857, 0.52771429, 0.536     ,\n",
       "        0.54428571, 0.55257143, 0.56085714, 0.56914286, 0.57742857,\n",
       "        0.58571429, 0.594     , 0.60228571, 0.61057143, 0.61885714,\n",
       "        0.62714286, 0.63542857, 0.64371429, 0.652     , 0.66028571,\n",
       "        0.66857143, 0.67685714, 0.68514286, 0.69342857, 0.70171429,\n",
       "        0.71      , 0.71828571, 0.72657143, 0.73485714, 0.74314286,\n",
       "        0.75142857, 0.75971429, 0.768     , 0.77628571, 0.78457143,\n",
       "        0.79285714, 0.80114286, 0.80942857, 0.81771429, 0.826     ,\n",
       "        0.83428571, 0.84257143, 0.85085714, 0.85914286, 0.86742857,\n",
       "        0.87571429, 0.884     , 0.89228571, 0.90057143, 0.90885714,\n",
       "        0.91714286, 0.92542857, 0.93371429, 0.942     , 0.95028571,\n",
       "        0.95857143, 0.96685714, 0.97514286, 0.98342857, 0.99171429,\n",
       "        1.        ]),\n",
       " <BarContainer object of 100 artists>)"
      ]
     },
     "execution_count": 20,
     "metadata": {},
     "output_type": "execute_result"
    },
    {
     "data": {
      "image/png": "[encoded data removed]",
      "text/plain": [
       "<Figure size 640x480 with 1 Axes>"
      ]
     },
     "metadata": {},
     "output_type": "display_data"
    }
   ],
   "source": [
    "plt.hist(sim_results, 100)"
   ]
  },
  {
   "cell_type": "code",
   "execution_count": 42,
   "metadata": {},
   "outputs": [
    {
     "data": {
      "text/plain": [
       "(array([ 1.,  0.,  0.,  0.,  0.,  0.,  0.,  0.,  0.,  0.,  0.,  0.,  0.,\n",
       "         0.,  0.,  0.,  0.,  0.,  0.,  0.,  0.,  0.,  0.,  0.,  0.,  0.,\n",
       "         0.,  0.,  0.,  0.,  0.,  0.,  0.,  0.,  0.,  0.,  0.,  0.,  0.,\n",
       "         0.,  0.,  0.,  0.,  2.,  1.,  0.,  0.,  0.,  0.,  0.,  0.,  0.,\n",
       "         1.,  0.,  0.,  0.,  1.,  0.,  0.,  1.,  0.,  1.,  1.,  1.,  0.,\n",
       "         0.,  0.,  1.,  0.,  1.,  0.,  0.,  0.,  1.,  2.,  1.,  1.,  0.,\n",
       "         2.,  0.,  0.,  0.,  1.,  0.,  0.,  2.,  0.,  0.,  0.,  0.,  1.,\n",
       "         0.,  0.,  1.,  0.,  0.,  0.,  0.,  0., 76.]),\n",
       " array([0.94468085, 0.94523404, 0.94578723, 0.94634043, 0.94689362,\n",
       "        0.94744681, 0.948     , 0.94855319, 0.94910638, 0.94965957,\n",
       "        0.95021277, 0.95076596, 0.95131915, 0.95187234, 0.95242553,\n",
       "        0.95297872, 0.95353191, 0.95408511, 0.9546383 , 0.95519149,\n",
       "        0.95574468, 0.95629787, 0.95685106, 0.95740426, 0.95795745,\n",
       "        0.95851064, 0.95906383, 0.95961702, 0.96017021, 0.9607234 ,\n",
       "        0.9612766 , 0.96182979, 0.96238298, 0.96293617, 0.96348936,\n",
       "        0.96404255, 0.96459574, 0.96514894, 0.96570213, 0.96625532,\n",
       "        0.96680851, 0.9673617 , 0.96791489, 0.96846809, 0.96902128,\n",
       "        0.96957447, 0.97012766, 0.97068085, 0.97123404, 0.97178723,\n",
       "        0.97234043, 0.97289362, 0.97344681, 0.974     , 0.97455319,\n",
       "        0.97510638, 0.97565957, 0.97621277, 0.97676596, 0.97731915,\n",
       "        0.97787234, 0.97842553, 0.97897872, 0.97953191, 0.98008511,\n",
       "        0.9806383 , 0.98119149, 0.98174468, 0.98229787, 0.98285106,\n",
       "        0.98340426, 0.98395745, 0.98451064, 0.98506383, 0.98561702,\n",
       "        0.98617021, 0.9867234 , 0.9872766 , 0.98782979, 0.98838298,\n",
       "        0.98893617, 0.98948936, 0.99004255, 0.99059574, 0.99114894,\n",
       "        0.99170213, 0.99225532, 0.99280851, 0.9933617 , 0.99391489,\n",
       "        0.99446809, 0.99502128, 0.99557447, 0.99612766, 0.99668085,\n",
       "        0.99723404, 0.99778723, 0.99834043, 0.99889362, 0.99944681,\n",
       "        1.        ]),\n",
       " <BarContainer object of 100 artists>)"
      ]
     },
     "execution_count": 42,
     "metadata": {},
     "output_type": "execute_result"
    },
    {
     "data": {
      "image/png": "[encoded data removed]",
      "text/plain": [
       "<Figure size 640x480 with 1 Axes>"
      ]
     },
     "metadata": {},
     "output_type": "display_data"
    }
   ],
   "source": [
    "plt.hist(sim_results, 100)"
   ]
  },
  {
   "cell_type": "markdown",
   "metadata": {},
   "source": [
    "### Correct"
   ]
  },
  {
   "cell_type": "code",
   "execution_count": 21,
   "metadata": {},
   "outputs": [],
   "source": [
    "def is_correct(str1:str, str2:str) -> bool:\n",
    "    return str1==str2"
   ]
  },
  {
   "cell_type": "code",
   "execution_count": 43,
   "metadata": {},
   "outputs": [],
   "source": [
    "iscorrect_results = [is_correct(sentences[i], fixed_sentences[i]) for i in range(len(sentences))]"
   ]
  },
  {
   "cell_type": "code",
   "execution_count": 44,
   "metadata": {},
   "outputs": [
    {
     "data": {
      "text/plain": [
       "[True,\n",
       " False,\n",
       " True,\n",
       " True,\n",
       " True,\n",
       " True,\n",
       " True,\n",
       " False,\n",
       " True,\n",
       " True,\n",
       " True,\n",
       " False,\n",
       " True,\n",
       " True,\n",
       " True,\n",
       " True,\n",
       " True,\n",
       " True,\n",
       " True,\n",
       " True,\n",
       " True,\n",
       " True,\n",
       " False,\n",
       " True,\n",
       " False,\n",
       " True,\n",
       " True,\n",
       " False,\n",
       " True,\n",
       " True,\n",
       " True,\n",
       " False,\n",
       " True,\n",
       " True,\n",
       " True,\n",
       " True,\n",
       " True,\n",
       " True,\n",
       " True,\n",
       " True,\n",
       " True,\n",
       " True,\n",
       " True,\n",
       " False,\n",
       " True,\n",
       " True,\n",
       " True,\n",
       " True,\n",
       " True,\n",
       " True,\n",
       " True,\n",
       " True,\n",
       " False,\n",
       " True,\n",
       " False,\n",
       " True,\n",
       " False,\n",
       " False,\n",
       " True,\n",
       " False,\n",
       " True,\n",
       " True,\n",
       " False,\n",
       " False,\n",
       " True,\n",
       " False,\n",
       " True,\n",
       " True,\n",
       " True,\n",
       " True,\n",
       " True,\n",
       " True,\n",
       " True,\n",
       " True,\n",
       " True,\n",
       " True,\n",
       " True,\n",
       " False,\n",
       " False,\n",
       " True,\n",
       " True,\n",
       " True,\n",
       " True,\n",
       " True,\n",
       " True,\n",
       " True,\n",
       " True,\n",
       " True,\n",
       " True,\n",
       " True,\n",
       " True,\n",
       " True,\n",
       " True,\n",
       " False,\n",
       " False,\n",
       " False,\n",
       " False,\n",
       " True,\n",
       " False,\n",
       " False]"
      ]
     },
     "execution_count": 44,
     "metadata": {},
     "output_type": "execute_result"
    }
   ],
   "source": [
    "iscorrect_results"
   ]
  },
  {
   "cell_type": "code",
   "execution_count": 27,
   "metadata": {},
   "outputs": [
    {
     "data": {
      "text/plain": [
       "(array([False,  True]), array([90, 10]))"
      ]
     },
     "execution_count": 27,
     "metadata": {},
     "output_type": "execute_result"
    }
   ],
   "source": [
    "import numpy as np\n",
    "\n",
    "np.unique(iscorrect_results, return_counts=True)"
   ]
  },
  {
   "cell_type": "code",
   "execution_count": 47,
   "metadata": {},
   "outputs": [
    {
     "data": {
      "text/plain": [
       "(array([False,  True]), array([16, 84]))"
      ]
     },
     "execution_count": 47,
     "metadata": {},
     "output_type": "execute_result"
    }
   ],
   "source": [
    "np.unique(iscorrect_results, return_counts=True)"
   ]
  },
  {
   "cell_type": "code",
   "execution_count": 24,
   "metadata": {},
   "outputs": [
    {
     "data": {
      "text/plain": [
       "(array([False,  True]), array([91,  9]))"
      ]
     },
     "execution_count": 24,
     "metadata": {},
     "output_type": "execute_result"
    }
   ],
   "source": [
    "import numpy as np\n",
    "\n",
    "np.unique(iscorrect_results, return_counts=True)"
   ]
  },
  {
   "cell_type": "code",
   "execution_count": 45,
   "metadata": {},
   "outputs": [
    {
     "data": {
      "text/plain": [
       "(array([False,  True]), array([24, 76]))"
      ]
     },
     "execution_count": 45,
     "metadata": {},
     "output_type": "execute_result"
    }
   ],
   "source": [
    "np.unique(iscorrect_results, return_counts=True)"
   ]
  },
  {
   "cell_type": "markdown",
   "metadata": {},
   "source": [
    "## MaxSIM + count correct -> percentage"
   ]
  },
  {
   "cell_type": "code",
   "execution_count": 46,
   "metadata": {},
   "outputs": [],
   "source": [
    "from Levenshtein import distance\n",
    "import numpy as np\n",
    "\n",
    "def percentage_correct(str1: str, str2:str) -> float:\n",
    "    words1 = np.array(str1.split())\n",
    "    words2 = np.array(str2.split())\n",
    "\n",
    "    if len(words1) >= len(words2):\n",
    "        iter_words1 = words1\n",
    "        iter_words2 = words2\n",
    "    else:\n",
    "        iter_words1 = words2\n",
    "        iter_words2 = words1\n",
    "\n",
    "    def closest_word(word: str):\n",
    "        lambda_distances = np.vectorize(lambda x: distance(word, x))\n",
    "        distances = lambda_distances(iter_words2)\n",
    "        return iter_words2[np.argmin(distances)]\n",
    "    \n",
    "    vclosest_word = np.vectorize(closest_word)\n",
    "\n",
    "    cmp_words1 = iter_words1\n",
    "    cmp_words2 = vclosest_word(iter_words1)\n",
    "\n",
    "    is_same = cmp_words1 == cmp_words2\n",
    "\n",
    "    return np.sum(is_same)/len(cmp_words1)"
   ]
  },
  {
   "cell_type": "code",
   "execution_count": 47,
   "metadata": {},
   "outputs": [],
   "source": [
    "maxsim_results = [percentage_correct(sentences[i], fixed_sentences[i]) for i in range(len(sentences))]"
   ]
  },
  {
   "cell_type": "code",
   "execution_count": 48,
   "metadata": {},
   "outputs": [
    {
     "data": {
      "text/plain": [
       "[1.0,\n",
       " 0.9583333333333334,\n",
       " 1.0,\n",
       " 1.0,\n",
       " 1.0,\n",
       " 1.0,\n",
       " 1.0,\n",
       " 0.9285714285714286,\n",
       " 1.0,\n",
       " 1.0,\n",
       " 1.0,\n",
       " 0.95,\n",
       " 1.0,\n",
       " 1.0,\n",
       " 1.0,\n",
       " 1.0,\n",
       " 1.0,\n",
       " 1.0,\n",
       " 1.0,\n",
       " 1.0,\n",
       " 1.0,\n",
       " 1.0,\n",
       " 0.9629629629629629,\n",
       " 1.0,\n",
       " 0.9285714285714286,\n",
       " 1.0,\n",
       " 1.0,\n",
       " 0.95,\n",
       " 1.0,\n",
       " 1.0,\n",
       " 1.0,\n",
       " 0.96,\n",
       " 1.0,\n",
       " 1.0,\n",
       " 1.0,\n",
       " 1.0,\n",
       " 1.0,\n",
       " 1.0,\n",
       " 1.0,\n",
       " 1.0,\n",
       " 1.0,\n",
       " 1.0,\n",
       " 1.0,\n",
       " 0.95,\n",
       " 1.0,\n",
       " 1.0,\n",
       " 1.0,\n",
       " 1.0,\n",
       " 1.0,\n",
       " 1.0,\n",
       " 1.0,\n",
       " 1.0,\n",
       " 0.9166666666666666,\n",
       " 1.0,\n",
       " 0.8888888888888888,\n",
       " 1.0,\n",
       " 0.7692307692307693,\n",
       " 0.9523809523809523,\n",
       " 1.0,\n",
       " 0.8888888888888888,\n",
       " 1.0,\n",
       " 1.0,\n",
       " 0.9230769230769231,\n",
       " 0.9642857142857143,\n",
       " 1.0,\n",
       " 0.9333333333333333,\n",
       " 1.0,\n",
       " 1.0,\n",
       " 1.0,\n",
       " 1.0,\n",
       " 1.0,\n",
       " 1.0,\n",
       " 1.0,\n",
       " 1.0,\n",
       " 1.0,\n",
       " 1.0,\n",
       " 1.0,\n",
       " 0.9047619047619048,\n",
       " 0.9411764705882353,\n",
       " 1.0,\n",
       " 1.0,\n",
       " 1.0,\n",
       " 1.0,\n",
       " 1.0,\n",
       " 1.0,\n",
       " 1.0,\n",
       " 1.0,\n",
       " 1.0,\n",
       " 1.0,\n",
       " 1.0,\n",
       " 1.0,\n",
       " 1.0,\n",
       " 1.0,\n",
       " 0.9545454545454546,\n",
       " 0.9523809523809523,\n",
       " 0.9166666666666666,\n",
       " 0.9473684210526315,\n",
       " 1.0,\n",
       " 0.9565217391304348,\n",
       " 0.9545454545454546]"
      ]
     },
     "execution_count": 48,
     "metadata": {},
     "output_type": "execute_result"
    }
   ],
   "source": [
    "maxsim_results"
   ]
  },
  {
   "cell_type": "code",
   "execution_count": 31,
   "metadata": {},
   "outputs": [
    {
     "data": {
      "text/plain": [
       "(array([ 1.,  0.,  0.,  0.,  0.,  0.,  0.,  0.,  0.,  0.,  0.,  0.,  0.,\n",
       "         0.,  2.,  0.,  0.,  0.,  0.,  0.,  0.,  0.,  0.,  0.,  0.,  1.,\n",
       "         0.,  0.,  0.,  0.,  0.,  1.,  0.,  0.,  0.,  0.,  2.,  0.,  1.,\n",
       "         0.,  0.,  1.,  0.,  0.,  0.,  0.,  0.,  0.,  0.,  0.,  0.,  0.,\n",
       "         0.,  0.,  0.,  0.,  0.,  0.,  2.,  0.,  0.,  2.,  0.,  1.,  0.,\n",
       "         0.,  0.,  1.,  0.,  1.,  1.,  1.,  1.,  2.,  0.,  1.,  4.,  2.,\n",
       "         1.,  3.,  3.,  2.,  2.,  1.,  1.,  0.,  6.,  8.,  5.,  0.,  0.,\n",
       "         2.,  3., 14.,  6.,  0.,  0.,  0.,  0., 15.]),\n",
       " array([0.76666667, 0.769     , 0.77133333, 0.77366667, 0.776     ,\n",
       "        0.77833333, 0.78066667, 0.783     , 0.78533333, 0.78766667,\n",
       "        0.79      , 0.79233333, 0.79466667, 0.797     , 0.79933333,\n",
       "        0.80166667, 0.804     , 0.80633333, 0.80866667, 0.811     ,\n",
       "        0.81333333, 0.81566667, 0.818     , 0.82033333, 0.82266667,\n",
       "        0.825     , 0.82733333, 0.82966667, 0.832     , 0.83433333,\n",
       "        0.83666667, 0.839     , 0.84133333, 0.84366667, 0.846     ,\n",
       "        0.84833333, 0.85066667, 0.853     , 0.85533333, 0.85766667,\n",
       "        0.86      , 0.86233333, 0.86466667, 0.867     , 0.86933333,\n",
       "        0.87166667, 0.874     , 0.87633333, 0.87866667, 0.881     ,\n",
       "        0.88333333, 0.88566667, 0.888     , 0.89033333, 0.89266667,\n",
       "        0.895     , 0.89733333, 0.89966667, 0.902     , 0.90433333,\n",
       "        0.90666667, 0.909     , 0.91133333, 0.91366667, 0.916     ,\n",
       "        0.91833333, 0.92066667, 0.923     , 0.92533333, 0.92766667,\n",
       "        0.93      , 0.93233333, 0.93466667, 0.937     , 0.93933333,\n",
       "        0.94166667, 0.944     , 0.94633333, 0.94866667, 0.951     ,\n",
       "        0.95333333, 0.95566667, 0.958     , 0.96033333, 0.96266667,\n",
       "        0.965     , 0.96733333, 0.96966667, 0.972     , 0.97433333,\n",
       "        0.97666667, 0.979     , 0.98133333, 0.98366667, 0.986     ,\n",
       "        0.98833333, 0.99066667, 0.993     , 0.99533333, 0.99766667,\n",
       "        1.        ]),\n",
       " <BarContainer object of 100 artists>)"
      ]
     },
     "execution_count": 31,
     "metadata": {},
     "output_type": "execute_result"
    },
    {
     "data": {
      "image/png": "[encoded data removed]",
      "text/plain": [
       "<Figure size 640x480 with 1 Axes>"
      ]
     },
     "metadata": {},
     "output_type": "display_data"
    }
   ],
   "source": [
    "plt.hist(maxsim_results, 100)"
   ]
  },
  {
   "cell_type": "code",
   "execution_count": 32,
   "metadata": {},
   "outputs": [
    {
     "data": {
      "text/plain": [
       "(array([0.76666667, 0.8       , 0.82539683, 0.84057971, 0.85074627,\n",
       "        0.85245902, 0.85714286, 0.86363636, 0.90277778, 0.90322581,\n",
       "        0.90909091, 0.91071429, 0.91549296, 0.92307692, 0.92957746,\n",
       "        0.93103448, 0.93442623, 0.93650794, 0.9375    , 0.93902439,\n",
       "        0.94366197, 0.94444444, 0.94545455, 0.94594595, 0.94805195,\n",
       "        0.94915254, 0.9516129 , 0.953125  , 0.95384615, 0.95522388,\n",
       "        0.95588235, 0.95652174, 0.95890411, 0.95945946, 0.96153846,\n",
       "        0.96363636, 0.96774194, 0.96875   , 0.96923077, 0.96969697,\n",
       "        0.97058824, 0.97101449, 0.97183099, 0.97260274, 0.97297297,\n",
       "        0.97333333, 0.97916667, 0.98039216, 0.98181818, 0.98214286,\n",
       "        0.98360656, 0.984375  , 0.98484848, 0.98550725, 0.98571429,\n",
       "        0.98591549, 0.98630137, 0.98666667, 0.98684211, 0.98701299,\n",
       "        0.98734177, 1.        ]),\n",
       " array([ 1,  2,  1,  1,  1,  1,  1,  1,  1,  1,  1,  1,  1,  1,  1,  1,  1,\n",
       "         1,  1,  1,  1,  2,  1,  1,  2,  1,  1,  2,  2,  1,  1,  1,  1,  1,\n",
       "         1,  1,  1,  4,  1,  1,  1,  1,  5,  2,  2,  1,  1,  1,  1,  1,  1,\n",
       "         3,  3,  3,  1,  4,  1,  1,  1,  1,  2, 15]))"
      ]
     },
     "execution_count": 32,
     "metadata": {},
     "output_type": "execute_result"
    }
   ],
   "source": [
    "np.unique(maxsim_results, return_counts=True)"
   ]
  },
  {
   "cell_type": "code",
   "execution_count": 51,
   "metadata": {},
   "outputs": [
    {
     "data": {
      "text/plain": [
       "(array([ 1.,  0.,  0.,  0.,  0.,  0.,  0.,  0.,  1.,  0.,  0.,  0.,  1.,\n",
       "         0.,  0.,  0.,  0.,  0.,  0.,  1.,  0.,  0.,  0.,  0.,  0.,  2.,\n",
       "         0.,  0.,  0.,  0.,  0.,  0.,  0.,  0.,  0.,  0.,  0.,  0.,  0.,\n",
       "         0.,  0.,  1.,  0.,  0.,  0.,  0.,  0.,  0.,  0.,  0.,  3.,  0.,\n",
       "         2.,  0.,  0.,  0.,  0.,  0.,  1.,  0.,  0.,  0.,  1.,  0.,  0.,\n",
       "         1.,  0.,  0.,  0.,  0.,  0.,  0.,  0.,  0.,  0.,  0.,  0.,  0.,\n",
       "         0.,  0.,  0.,  0.,  0.,  0.,  0.,  0.,  0.,  0.,  0.,  0.,  0.,\n",
       "         0.,  0.,  0.,  0.,  0.,  0.,  0.,  0., 85.]),\n",
       " array([0.9047619 , 0.90571429, 0.90666667, 0.90761905, 0.90857143,\n",
       "        0.90952381, 0.91047619, 0.91142857, 0.91238095, 0.91333333,\n",
       "        0.91428571, 0.9152381 , 0.91619048, 0.91714286, 0.91809524,\n",
       "        0.91904762, 0.92      , 0.92095238, 0.92190476, 0.92285714,\n",
       "        0.92380952, 0.9247619 , 0.92571429, 0.92666667, 0.92761905,\n",
       "        0.92857143, 0.92952381, 0.93047619, 0.93142857, 0.93238095,\n",
       "        0.93333333, 0.93428571, 0.9352381 , 0.93619048, 0.93714286,\n",
       "        0.93809524, 0.93904762, 0.94      , 0.94095238, 0.94190476,\n",
       "        0.94285714, 0.94380952, 0.9447619 , 0.94571429, 0.94666667,\n",
       "        0.94761905, 0.94857143, 0.94952381, 0.95047619, 0.95142857,\n",
       "        0.95238095, 0.95333333, 0.95428571, 0.9552381 , 0.95619048,\n",
       "        0.95714286, 0.95809524, 0.95904762, 0.96      , 0.96095238,\n",
       "        0.96190476, 0.96285714, 0.96380952, 0.9647619 , 0.96571429,\n",
       "        0.96666667, 0.96761905, 0.96857143, 0.96952381, 0.97047619,\n",
       "        0.97142857, 0.97238095, 0.97333333, 0.97428571, 0.9752381 ,\n",
       "        0.97619048, 0.97714286, 0.97809524, 0.97904762, 0.98      ,\n",
       "        0.98095238, 0.98190476, 0.98285714, 0.98380952, 0.9847619 ,\n",
       "        0.98571429, 0.98666667, 0.98761905, 0.98857143, 0.98952381,\n",
       "        0.99047619, 0.99142857, 0.99238095, 0.99333333, 0.99428571,\n",
       "        0.9952381 , 0.99619048, 0.99714286, 0.99809524, 0.99904762,\n",
       "        1.        ]),\n",
       " <BarContainer object of 100 artists>)"
      ]
     },
     "execution_count": 51,
     "metadata": {},
     "output_type": "execute_result"
    },
    {
     "data": {
      "image/png": "[encoded data removed]",
      "text/plain": [
       "<Figure size 640x480 with 1 Axes>"
      ]
     },
     "metadata": {},
     "output_type": "display_data"
    }
   ],
   "source": [
    "plt.hist(maxsim_results, 100)"
   ]
  },
  {
   "cell_type": "code",
   "execution_count": 28,
   "metadata": {},
   "outputs": [
    {
     "data": {
      "text/plain": [
       "(array([ 1.,  0.,  0.,  0.,  0.,  0.,  0.,  0.,  0.,  0.,  0.,  0.,  0.,\n",
       "         0.,  0.,  0.,  0.,  0.,  0.,  0.,  0.,  0.,  0.,  0.,  0.,  0.,\n",
       "         0.,  0.,  0.,  0.,  0.,  0.,  0.,  1.,  0.,  0.,  0.,  0.,  0.,\n",
       "         0.,  0.,  0.,  0.,  0.,  1.,  0.,  0.,  0.,  0.,  0.,  0.,  0.,\n",
       "         0.,  0.,  0.,  0.,  0.,  0.,  0.,  0.,  0.,  0.,  0.,  0.,  0.,\n",
       "         0.,  0.,  0.,  0.,  0.,  1.,  1.,  0.,  1.,  1.,  0.,  1.,  0.,\n",
       "         0.,  0.,  1.,  2.,  3.,  0.,  2.,  0.,  2.,  3.,  2.,  2.,  2.,\n",
       "         2.,  8.,  9., 10.,  2., 17.,  6., 10.,  9.]),\n",
       " array([0.18309859, 0.19126761, 0.19943662, 0.20760563, 0.21577465,\n",
       "        0.22394366, 0.23211268, 0.24028169, 0.2484507 , 0.25661972,\n",
       "        0.26478873, 0.27295775, 0.28112676, 0.28929577, 0.29746479,\n",
       "        0.3056338 , 0.31380282, 0.32197183, 0.33014085, 0.33830986,\n",
       "        0.34647887, 0.35464789, 0.3628169 , 0.37098592, 0.37915493,\n",
       "        0.38732394, 0.39549296, 0.40366197, 0.41183099, 0.42      ,\n",
       "        0.42816901, 0.43633803, 0.44450704, 0.45267606, 0.46084507,\n",
       "        0.46901408, 0.4771831 , 0.48535211, 0.49352113, 0.50169014,\n",
       "        0.50985915, 0.51802817, 0.52619718, 0.5343662 , 0.54253521,\n",
       "        0.55070423, 0.55887324, 0.56704225, 0.57521127, 0.58338028,\n",
       "        0.5915493 , 0.59971831, 0.60788732, 0.61605634, 0.62422535,\n",
       "        0.63239437, 0.64056338, 0.64873239, 0.65690141, 0.66507042,\n",
       "        0.67323944, 0.68140845, 0.68957746, 0.69774648, 0.70591549,\n",
       "        0.71408451, 0.72225352, 0.73042254, 0.73859155, 0.74676056,\n",
       "        0.75492958, 0.76309859, 0.77126761, 0.77943662, 0.78760563,\n",
       "        0.79577465, 0.80394366, 0.81211268, 0.82028169, 0.8284507 ,\n",
       "        0.83661972, 0.84478873, 0.85295775, 0.86112676, 0.86929577,\n",
       "        0.87746479, 0.8856338 , 0.89380282, 0.90197183, 0.91014085,\n",
       "        0.91830986, 0.92647887, 0.93464789, 0.9428169 , 0.95098592,\n",
       "        0.95915493, 0.96732394, 0.97549296, 0.98366197, 0.99183099,\n",
       "        1.        ]),\n",
       " <BarContainer object of 100 artists>)"
      ]
     },
     "execution_count": 28,
     "metadata": {},
     "output_type": "execute_result"
    },
    {
     "data": {
      "image/png": "[encoded data removed]",
      "text/plain": [
       "<Figure size 640x480 with 1 Axes>"
      ]
     },
     "metadata": {},
     "output_type": "display_data"
    }
   ],
   "source": [
    "plt.hist(maxsim_results, 100)"
   ]
  },
  {
   "cell_type": "code",
   "execution_count": 49,
   "metadata": {},
   "outputs": [
    {
     "data": {
      "text/plain": [
       "(array([ 1.,  0.,  0.,  0.,  0.,  0.,  0.,  0.,  0.,  0.,  0.,  0.,  0.,\n",
       "         0.,  0.,  0.,  0.,  0.,  0.,  0.,  0.,  0.,  0.,  0.,  0.,  0.,\n",
       "         0.,  0.,  0.,  0.,  0.,  0.,  0.,  0.,  0.,  0.,  0.,  0.,  0.,\n",
       "         0.,  0.,  0.,  0.,  0.,  0.,  0.,  0.,  0.,  0.,  0.,  0.,  2.,\n",
       "         0.,  0.,  0.,  0.,  0.,  0.,  1.,  0.,  0.,  0.,  0.,  2.,  0.,\n",
       "         0.,  1.,  0.,  0.,  2.,  0.,  1.,  0.,  0.,  1.,  0.,  0.,  1.,\n",
       "         3.,  2.,  2.,  2.,  1.,  1.,  1.,  0.,  0.,  0.,  0.,  0.,  0.,\n",
       "         0.,  0.,  0.,  0.,  0.,  0.,  0.,  0., 76.]),\n",
       " array([0.76923077, 0.77153846, 0.77384615, 0.77615385, 0.77846154,\n",
       "        0.78076923, 0.78307692, 0.78538462, 0.78769231, 0.79      ,\n",
       "        0.79230769, 0.79461538, 0.79692308, 0.79923077, 0.80153846,\n",
       "        0.80384615, 0.80615385, 0.80846154, 0.81076923, 0.81307692,\n",
       "        0.81538462, 0.81769231, 0.82      , 0.82230769, 0.82461538,\n",
       "        0.82692308, 0.82923077, 0.83153846, 0.83384615, 0.83615385,\n",
       "        0.83846154, 0.84076923, 0.84307692, 0.84538462, 0.84769231,\n",
       "        0.85      , 0.85230769, 0.85461538, 0.85692308, 0.85923077,\n",
       "        0.86153846, 0.86384615, 0.86615385, 0.86846154, 0.87076923,\n",
       "        0.87307692, 0.87538462, 0.87769231, 0.88      , 0.88230769,\n",
       "        0.88461538, 0.88692308, 0.88923077, 0.89153846, 0.89384615,\n",
       "        0.89615385, 0.89846154, 0.90076923, 0.90307692, 0.90538462,\n",
       "        0.90769231, 0.91      , 0.91230769, 0.91461538, 0.91692308,\n",
       "        0.91923077, 0.92153846, 0.92384615, 0.92615385, 0.92846154,\n",
       "        0.93076923, 0.93307692, 0.93538462, 0.93769231, 0.94      ,\n",
       "        0.94230769, 0.94461538, 0.94692308, 0.94923077, 0.95153846,\n",
       "        0.95384615, 0.95615385, 0.95846154, 0.96076923, 0.96307692,\n",
       "        0.96538462, 0.96769231, 0.97      , 0.97230769, 0.97461538,\n",
       "        0.97692308, 0.97923077, 0.98153846, 0.98384615, 0.98615385,\n",
       "        0.98846154, 0.99076923, 0.99307692, 0.99538462, 0.99769231,\n",
       "        1.        ]),\n",
       " <BarContainer object of 100 artists>)"
      ]
     },
     "execution_count": 49,
     "metadata": {},
     "output_type": "execute_result"
    },
    {
     "data": {
      "image/png": "[encoded data removed]",
      "text/plain": [
       "<Figure size 640x480 with 1 Axes>"
      ]
     },
     "metadata": {},
     "output_type": "display_data"
    }
   ],
   "source": [
    "plt.hist(maxsim_results, 100)"
   ]
  },
  {
   "cell_type": "markdown",
   "metadata": {},
   "source": [
    "## Results"
   ]
  },
  {
   "cell_type": "code",
   "execution_count": 12,
   "metadata": {},
   "outputs": [
    {
     "data": {
      "text/plain": [
       "[0.3333333333333333,\n",
       " 0.9285714285714286,\n",
       " 0.8181818181818182,\n",
       " 0.6666666666666666,\n",
       " 0.6666666666666666,\n",
       " 1.0,\n",
       " 0.5,\n",
       " 0.7142857142857143,\n",
       " 0.5,\n",
       " 0.8,\n",
       " 1.0,\n",
       " 1.0]"
      ]
     },
     "execution_count": 12,
     "metadata": {},
     "output_type": "execute_result"
    }
   ],
   "source": [
    "jac_results"
   ]
  },
  {
   "cell_type": "code",
   "execution_count": 13,
   "metadata": {},
   "outputs": [
    {
     "data": {
      "text/plain": [
       "[5, 5, 1, 1, 1, 0, 4, 14, 2, 5, 0, 0]"
      ]
     },
     "execution_count": 13,
     "metadata": {},
     "output_type": "execute_result"
    }
   ],
   "source": [
    "lev_results"
   ]
  },
  {
   "cell_type": "code",
   "execution_count": 21,
   "metadata": {},
   "outputs": [
    {
     "data": {
      "text/plain": [
       "[0.88,\n",
       " 0.9635036496350365,\n",
       " 0.9830508474576272,\n",
       " 0.9714285714285714,\n",
       " 0.9545454545454546,\n",
       " 1.0,\n",
       " 0.9166666666666666,\n",
       " 0.7307692307692307,\n",
       " 0.9642857142857143,\n",
       " 0.8387096774193549,\n",
       " 1.0,\n",
       " 1.0]"
      ]
     },
     "execution_count": 21,
     "metadata": {},
     "output_type": "execute_result"
    }
   ],
   "source": [
    "sim_results"
   ]
  },
  {
   "cell_type": "code",
   "execution_count": 24,
   "metadata": {},
   "outputs": [
    {
     "data": {
      "text/plain": [
       "[False,\n",
       " False,\n",
       " False,\n",
       " False,\n",
       " False,\n",
       " True,\n",
       " False,\n",
       " False,\n",
       " False,\n",
       " False,\n",
       " True,\n",
       " True]"
      ]
     },
     "execution_count": 24,
     "metadata": {},
     "output_type": "execute_result"
    }
   ],
   "source": [
    "iscorrect_results"
   ]
  }
 ],
 "metadata": {
  "kernelspec": {
   "display_name": "Python 3 (ipykernel)",
   "language": "python",
   "name": "python3"
  },
  "language_info": {
   "codemirror_mode": {
    "name": "ipython",
    "version": 3
   },
   "file_extension": ".py",
   "mimetype": "text/x-python",
   "name": "python",
   "nbconvert_exporter": "python",
   "pygments_lexer": "ipython3",
   "version": "3.10.4"
  },
  "orig_nbformat": 4
 },
 "nbformat": 4,
 "nbformat_minor": 2
}
